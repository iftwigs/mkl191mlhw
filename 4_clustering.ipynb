{
 "cells": [
  {
   "cell_type": "markdown",
   "metadata": {},
   "source": [
    "## Кластеризация"
   ]
  },
  {
   "cell_type": "markdown",
   "metadata": {},
   "source": [
    "Кластеризация - задача разбиения объектов на группы (кластеры). Кластеризация в отличие от регрессии и классификации не использует правильные ответы при обучении, поэтому это задача обучения без учителя. \n",
    "\n",
    "Основное предположение в кластеризации - объекты, близкие в признаковом пространстве, близки на самом деле. Все алгоритмы кластеризации так или иначе вычисляют близость между объектами (это может быть, например, косинусное расстояние) и стараются организовать кластеры так, чтобы между объектами одного кластера было небольшое расстояние."
   ]
  },
  {
   "cell_type": "markdown",
   "metadata": {},
   "source": [
    "Так как считать близости между всеми объектами может быть долго, данные могут распологаться в пространстве странным образом (без четких границ, например) или иметь выбросы, в конкретных алгоритмах кластеризации используются дополнительные предположения и разные трюки. Часто к ним привязывается гиперпараметр(ы), который нужно настраивать самому. Сделать это обычно непросто из-за того, что у нас нет конкретного критерия качества, а сами параметры могут быть непонятными. \n",
    "\n",
    "Есть метрики, которые оценивают качество кластеризации по каким-то внутренним критериям. Также есть способы оценивать качество кластеризации с использованием правильных ответов*. Однако они не всегда коррелируют с тем, что мы хотим получить и приходится оценивать просто на глаз.\n",
    "\n",
    "\\* У вас может возникнуть вопрос - а зачем использовать кластеризацию, когда есть правильные ответы? Это может быть нужно, когда размеченных данных мало относительно общего количества имеющихся данных. В классификации и регрессии мы смогли бы использовать только размеченную часть, а кластеризацию мы можем обучить на всех данных, проверив качество на размеченном куске."
   ]
  },
  {
   "cell_type": "markdown",
   "metadata": {},
   "source": [
    "Давайте попробуем кластеризовать заголовки объявлений на Авито, чтобы нагляднее увидеть сложности кластеризации."
   ]
  },
  {
   "cell_type": "code",
   "execution_count": 1,
   "metadata": {},
   "outputs": [],
   "source": [
    "import pandas as pd"
   ]
  },
  {
   "cell_type": "code",
   "execution_count": 2,
   "metadata": {},
   "outputs": [],
   "source": [
    "data = pd.read_csv('clustering/data.csv')"
   ]
  },
  {
   "cell_type": "code",
   "execution_count": 6,
   "metadata": {},
   "outputs": [
    {
     "data": {
      "text/html": [
       "<div>\n",
       "<style scoped>\n",
       "    .dataframe tbody tr th:only-of-type {\n",
       "        vertical-align: middle;\n",
       "    }\n",
       "\n",
       "    .dataframe tbody tr th {\n",
       "        vertical-align: top;\n",
       "    }\n",
       "\n",
       "    .dataframe thead th {\n",
       "        text-align: right;\n",
       "    }\n",
       "</style>\n",
       "<table border=\"1\" class=\"dataframe\">\n",
       "  <thead>\n",
       "    <tr style=\"text-align: right;\">\n",
       "      <th></th>\n",
       "      <th>item_id</th>\n",
       "      <th>user_id</th>\n",
       "      <th>region</th>\n",
       "      <th>city</th>\n",
       "      <th>parent_category_name</th>\n",
       "      <th>category_name</th>\n",
       "      <th>param_1</th>\n",
       "      <th>param_2</th>\n",
       "      <th>param_3</th>\n",
       "      <th>title</th>\n",
       "      <th>description</th>\n",
       "      <th>price</th>\n",
       "      <th>item_seq_number</th>\n",
       "      <th>activation_date</th>\n",
       "      <th>user_type</th>\n",
       "      <th>image</th>\n",
       "      <th>image_top_1</th>\n",
       "    </tr>\n",
       "  </thead>\n",
       "  <tbody>\n",
       "    <tr>\n",
       "      <th>0</th>\n",
       "      <td>793dd3d5f0f0</td>\n",
       "      <td>9467e0341c0e</td>\n",
       "      <td>Алтайский край</td>\n",
       "      <td>Барнаул</td>\n",
       "      <td>Личные вещи</td>\n",
       "      <td>Детская одежда и обувь</td>\n",
       "      <td>Для девочек</td>\n",
       "      <td>Платья и юбки</td>\n",
       "      <td>146-152 см (10-12 лет)</td>\n",
       "      <td>Платье праздничное для девочки</td>\n",
       "      <td>Очень красивое торг</td>\n",
       "      <td>1500.0</td>\n",
       "      <td>106</td>\n",
       "      <td>2017-04-12</td>\n",
       "      <td>Company</td>\n",
       "      <td>ace7b2b7f066a6b6ff244f90d030c2c1a1bf118dd0e1ac...</td>\n",
       "      <td>573.0</td>\n",
       "    </tr>\n",
       "    <tr>\n",
       "      <th>1</th>\n",
       "      <td>f8c965d9b668</td>\n",
       "      <td>1905516660f5</td>\n",
       "      <td>Свердловская область</td>\n",
       "      <td>Каменск-Уральский</td>\n",
       "      <td>Для дома и дачи</td>\n",
       "      <td>Мебель и интерьер</td>\n",
       "      <td>Кровати, диваны и кресла</td>\n",
       "      <td>NaN</td>\n",
       "      <td>NaN</td>\n",
       "      <td>Кровать двухспальная</td>\n",
       "      <td>Двуспальная кровать 140х200 с металлическим ка...</td>\n",
       "      <td>5700.0</td>\n",
       "      <td>10</td>\n",
       "      <td>2017-04-15</td>\n",
       "      <td>Private</td>\n",
       "      <td>b38ef24dd5b876ed626bd98241e228e4e19e4160d33abe...</td>\n",
       "      <td>1439.0</td>\n",
       "    </tr>\n",
       "    <tr>\n",
       "      <th>2</th>\n",
       "      <td>2f153c00d561</td>\n",
       "      <td>b4dc4849fdd4</td>\n",
       "      <td>Самарская область</td>\n",
       "      <td>Самара</td>\n",
       "      <td>Бытовая электроника</td>\n",
       "      <td>Телефоны</td>\n",
       "      <td>Samsung</td>\n",
       "      <td>NaN</td>\n",
       "      <td>NaN</td>\n",
       "      <td>Samsung S3 mini gt-i8190</td>\n",
       "      <td>Продам телефон самсунг 2 ядра, 1 гиг оперативн...</td>\n",
       "      <td>1500.0</td>\n",
       "      <td>6</td>\n",
       "      <td>2017-04-12</td>\n",
       "      <td>Private</td>\n",
       "      <td>8530cc0c8d5dc6d212497dffd610d89b92a7db952934db...</td>\n",
       "      <td>2932.0</td>\n",
       "    </tr>\n",
       "    <tr>\n",
       "      <th>3</th>\n",
       "      <td>7fc5eea56915</td>\n",
       "      <td>02c14d39fdb4</td>\n",
       "      <td>Саратовская область</td>\n",
       "      <td>Саратов</td>\n",
       "      <td>Личные вещи</td>\n",
       "      <td>Одежда, обувь, аксессуары</td>\n",
       "      <td>Женская одежда</td>\n",
       "      <td>Платья и юбки</td>\n",
       "      <td>44–46 (M)</td>\n",
       "      <td>Красивое платье на одно плечо, в идеале размер м</td>\n",
       "      <td>Заказывала в Сша, прекрасное качество, в деле ...</td>\n",
       "      <td>1000.0</td>\n",
       "      <td>1280</td>\n",
       "      <td>2017-04-13</td>\n",
       "      <td>Company</td>\n",
       "      <td>eb21745ba276d3b00b05856a58fe719e31a82419c0221a...</td>\n",
       "      <td>386.0</td>\n",
       "    </tr>\n",
       "    <tr>\n",
       "      <th>4</th>\n",
       "      <td>b01000d29ea3</td>\n",
       "      <td>b17f14110367</td>\n",
       "      <td>Удмуртия</td>\n",
       "      <td>Ижевск</td>\n",
       "      <td>Личные вещи</td>\n",
       "      <td>Детская одежда и обувь</td>\n",
       "      <td>Для мальчиков</td>\n",
       "      <td>Шапки, варежки, шарфы</td>\n",
       "      <td>NaN</td>\n",
       "      <td>Стильная панама</td>\n",
       "      <td>Состояние новой. Размер до года- полтора.  По ...</td>\n",
       "      <td>150.0</td>\n",
       "      <td>145</td>\n",
       "      <td>2017-04-14</td>\n",
       "      <td>Company</td>\n",
       "      <td>5bf1001fa681b96f121ad8047c85e3747f3dac37830dd0...</td>\n",
       "      <td>209.0</td>\n",
       "    </tr>\n",
       "  </tbody>\n",
       "</table>\n",
       "</div>"
      ],
      "text/plain": [
       "        item_id       user_id                region               city  \\\n",
       "0  793dd3d5f0f0  9467e0341c0e        Алтайский край            Барнаул   \n",
       "1  f8c965d9b668  1905516660f5  Свердловская область  Каменск-Уральский   \n",
       "2  2f153c00d561  b4dc4849fdd4     Самарская область             Самара   \n",
       "3  7fc5eea56915  02c14d39fdb4   Саратовская область            Саратов   \n",
       "4  b01000d29ea3  b17f14110367              Удмуртия             Ижевск   \n",
       "\n",
       "  parent_category_name              category_name                   param_1  \\\n",
       "0          Личные вещи     Детская одежда и обувь               Для девочек   \n",
       "1      Для дома и дачи          Мебель и интерьер  Кровати, диваны и кресла   \n",
       "2  Бытовая электроника                   Телефоны                   Samsung   \n",
       "3          Личные вещи  Одежда, обувь, аксессуары            Женская одежда   \n",
       "4          Личные вещи     Детская одежда и обувь             Для мальчиков   \n",
       "\n",
       "                 param_2                 param_3  \\\n",
       "0          Платья и юбки  146-152 см (10-12 лет)   \n",
       "1                    NaN                     NaN   \n",
       "2                    NaN                     NaN   \n",
       "3          Платья и юбки               44–46 (M)   \n",
       "4  Шапки, варежки, шарфы                     NaN   \n",
       "\n",
       "                                              title  \\\n",
       "0                    Платье праздничное для девочки   \n",
       "1                              Кровать двухспальная   \n",
       "2                          Samsung S3 mini gt-i8190   \n",
       "3  Красивое платье на одно плечо, в идеале размер м   \n",
       "4                                   Стильная панама   \n",
       "\n",
       "                                         description   price  item_seq_number  \\\n",
       "0                                Очень красивое торг  1500.0              106   \n",
       "1  Двуспальная кровать 140х200 с металлическим ка...  5700.0               10   \n",
       "2  Продам телефон самсунг 2 ядра, 1 гиг оперативн...  1500.0                6   \n",
       "3  Заказывала в Сша, прекрасное качество, в деле ...  1000.0             1280   \n",
       "4  Состояние новой. Размер до года- полтора.  По ...   150.0              145   \n",
       "\n",
       "  activation_date user_type  \\\n",
       "0      2017-04-12   Company   \n",
       "1      2017-04-15   Private   \n",
       "2      2017-04-12   Private   \n",
       "3      2017-04-13   Company   \n",
       "4      2017-04-14   Company   \n",
       "\n",
       "                                               image  image_top_1  \n",
       "0  ace7b2b7f066a6b6ff244f90d030c2c1a1bf118dd0e1ac...        573.0  \n",
       "1  b38ef24dd5b876ed626bd98241e228e4e19e4160d33abe...       1439.0  \n",
       "2  8530cc0c8d5dc6d212497dffd610d89b92a7db952934db...       2932.0  \n",
       "3  eb21745ba276d3b00b05856a58fe719e31a82419c0221a...        386.0  \n",
       "4  5bf1001fa681b96f121ad8047c85e3747f3dac37830dd0...        209.0  "
      ]
     },
     "execution_count": 6,
     "metadata": {},
     "output_type": "execute_result"
    }
   ],
   "source": [
    "data.head(5)"
   ]
  },
  {
   "cell_type": "markdown",
   "metadata": {},
   "source": [
    "Возьмем ещё название категорий, чтобы попробовать через него оценивать качетство кластеризации."
   ]
  },
  {
   "cell_type": "code",
   "execution_count": 3,
   "metadata": {},
   "outputs": [],
   "source": [
    "data = data[['category_name', 'title']]"
   ]
  },
  {
   "cell_type": "code",
   "execution_count": 4,
   "metadata": {},
   "outputs": [
    {
     "data": {
      "text/plain": [
       "(254219, 2)"
      ]
     },
     "execution_count": 4,
     "metadata": {},
     "output_type": "execute_result"
    }
   ],
   "source": [
    "data.shape"
   ]
  },
  {
   "cell_type": "code",
   "execution_count": 4,
   "metadata": {},
   "outputs": [],
   "source": [
    "pd.set_option('display.max_rows', 500)"
   ]
  },
  {
   "cell_type": "markdown",
   "metadata": {},
   "source": [
    "#### Импотируем разные алгоритмы кластеризации и метрики "
   ]
  },
  {
   "cell_type": "code",
   "execution_count": 5,
   "metadata": {},
   "outputs": [],
   "source": [
    "from sklearn.cluster import AffinityPropagation, AgglomerativeClustering, DBSCAN, \\\n",
    "                            KMeans, MiniBatchKMeans, Birch, MeanShift, SpectralClustering\n",
    "from sklearn.metrics import adjusted_rand_score, adjusted_mutual_info_score, \\\n",
    "                            silhouette_score\n",
    "\n",
    "from sklearn.feature_extraction.text import CountVectorizer\n",
    "from sklearn.decomposition import TruncatedSVD\n",
    "from sklearn import metrics\n",
    "from sklearn.datasets import make_blobs"
   ]
  },
  {
   "cell_type": "markdown",
   "metadata": {},
   "source": [
    "## AffinityPropagation"
   ]
  },
  {
   "cell_type": "code",
   "execution_count": 9,
   "metadata": {},
   "outputs": [
    {
     "data": {
      "text/html": [
       "<img src=\"https://www.researchgate.net/publication/275558354/figure/fig12/AS:669589163745280@1536653905013/Affinity-propagation-demo-18.png\"/>"
      ],
      "text/plain": [
       "<IPython.core.display.Image object>"
      ]
     },
     "execution_count": 9,
     "metadata": {},
     "output_type": "execute_result"
    }
   ],
   "source": [
    "from IPython.display import Image\n",
    "from IPython.core.display import HTML \n",
    "Image(url= \"https://www.researchgate.net/publication/275558354/figure/fig12/AS:669589163745280@1536653905013/Affinity-propagation-demo-18.png\")"
   ]
  },
  {
   "cell_type": "markdown",
   "metadata": {},
   "source": [
    "В AP хитрым образом ищутся \"экземпляры\", объекты в выборке которые могут использоваться как прототипы. Ближайшие к прототипам объекты записываются в этот кластер.\n",
    "\n",
    "Приемущества AP - не нужно подбирать количество кластеров.  \n",
    "Недостатки - медленно и тратится много памяти, параметры не очевидные."
   ]
  },
  {
   "cell_type": "markdown",
   "metadata": {},
   "source": [
    "AffinityPropagation не очень с большими дасетами (10к + строчек), поэтому сделаем подвыборку"
   ]
  },
  {
   "cell_type": "code",
   "execution_count": 11,
   "metadata": {},
   "outputs": [],
   "source": [
    "# можно переопределить датасет его частью\n",
    "sample = data.sample(frac=0.01)"
   ]
  },
  {
   "cell_type": "code",
   "execution_count": 12,
   "metadata": {},
   "outputs": [
    {
     "data": {
      "text/plain": [
       "(2542, 2)"
      ]
     },
     "execution_count": 12,
     "metadata": {},
     "output_type": "execute_result"
    }
   ],
   "source": [
    "sample.shape"
   ]
  },
  {
   "cell_type": "markdown",
   "metadata": {},
   "source": [
    "С векторизацией пока не будем заморачиваться"
   ]
  },
  {
   "cell_type": "code",
   "execution_count": 13,
   "metadata": {},
   "outputs": [],
   "source": [
    "cv = CountVectorizer(max_features=500)\n",
    "X = cv.fit_transform(sample['title'])\n",
    "\n",
    "y = sample['category_name']"
   ]
  },
  {
   "cell_type": "code",
   "execution_count": 14,
   "metadata": {},
   "outputs": [
    {
     "data": {
      "text/plain": [
       "(2542, 500)"
      ]
     },
     "execution_count": 14,
     "metadata": {},
     "output_type": "execute_result"
    }
   ],
   "source": [
    "X.shape"
   ]
  },
  {
   "cell_type": "markdown",
   "metadata": {},
   "source": [
    "У AP два основных параметра - damping и preference. Второй влияет на количество находимых экземпляров (чем выше значение, тем больше кластеров). Первый не очень понятный, его нужно ставить от 0.5 до 1. Ещё можно поставить max_iter побольше 200, если пишет, что не сошлось."
   ]
  },
  {
   "cell_type": "code",
   "execution_count": 15,
   "metadata": {},
   "outputs": [
    {
     "name": "stdout",
     "output_type": "stream",
     "text": [
      "Converged after 166 iterations.\n"
     ]
    },
    {
     "data": {
      "text/plain": [
       "AffinityPropagation(affinity='euclidean', convergence_iter=15, copy=True,\n",
       "                    damping=0.7, max_iter=400, preference=-5, verbose=2)"
      ]
     },
     "execution_count": 15,
     "metadata": {},
     "output_type": "execute_result"
    }
   ],
   "source": [
    "cluster = AffinityPropagation(damping=0.7, preference=-5, \n",
    "                              max_iter=400, verbose=2)\n",
    "cluster.fit(X)"
   ]
  },
  {
   "cell_type": "markdown",
   "metadata": {},
   "source": [
    "Метки кластеров для всех объектов в датасете лежат в cluster.labels_"
   ]
  },
  {
   "cell_type": "code",
   "execution_count": 16,
   "metadata": {},
   "outputs": [],
   "source": [
    "labels = cluster.labels_"
   ]
  },
  {
   "cell_type": "markdown",
   "metadata": {},
   "source": [
    "Посмотрим сколько кластеров образовалось"
   ]
  },
  {
   "cell_type": "code",
   "execution_count": 17,
   "metadata": {},
   "outputs": [],
   "source": [
    "n_clusters = len(set(labels))"
   ]
  },
  {
   "cell_type": "code",
   "execution_count": 18,
   "metadata": {},
   "outputs": [
    {
     "data": {
      "text/plain": [
       "142"
      ]
     },
     "execution_count": 18,
     "metadata": {},
     "output_type": "execute_result"
    }
   ],
   "source": [
    "len(set(labels))"
   ]
  },
  {
   "cell_type": "markdown",
   "metadata": {},
   "source": [
    "Давайте попробуем посчитать метрики "
   ]
  },
  {
   "cell_type": "markdown",
   "metadata": {},
   "source": [
    "Основная внутренняя метрика - силуэты. Она считает насколько близки объекты внутри кластера, а также насколько объекты одного кластера далеко от другого кластера."
   ]
  },
  {
   "cell_type": "code",
   "execution_count": 19,
   "metadata": {},
   "outputs": [
    {
     "name": "stdout",
     "output_type": "stream",
     "text": [
      "Silhouette Coefficient: 0.280\n"
     ]
    }
   ],
   "source": [
    "print(\"Silhouette Coefficient: %0.3f\"\n",
    "      % metrics.silhouette_score(X, labels))"
   ]
  },
  {
   "cell_type": "markdown",
   "metadata": {},
   "source": [
    "Метрики с учётом правильных ответов (в нашем случае категории). Подробно мы их разбирать не будем, основная идея всех метрик - сравнить разбиения без привязки к конкретным меткам. Для этого так или иначе используется информация о том, какие объекты относятся к одному классу и одному кластеру, и какие объекты относятся к разным классам и разным кластерам."
   ]
  },
  {
   "cell_type": "markdown",
   "metadata": {},
   "source": [
    "Про метрики можно почитать тут - https://nlp.stanford.edu/IR-book/html/htmledition/evaluation-of-clustering-1.html"
   ]
  },
  {
   "cell_type": "code",
   "execution_count": 20,
   "metadata": {},
   "outputs": [
    {
     "name": "stdout",
     "output_type": "stream",
     "text": [
      "Homogeneity: 0.443\n",
      "Completeness: 0.379\n",
      "V-measure: 0.409\n",
      "Adjusted Rand Index: -0.015\n",
      "Adjusted Mutual Information: 0.277\n"
     ]
    }
   ],
   "source": [
    "# эти три метрки что-то вроде точности, полноты и ф-меры для кластеризации\n",
    "print(\"Homogeneity: %0.3f\" % metrics.homogeneity_score(y, labels)) # проверяет, что в кластере объекты одного класса\n",
    "print(\"Completeness: %0.3f\" % metrics.completeness_score(y, labels)) # проверяет, что объекты класса только в одном кластере\n",
    "print(\"V-measure: %0.3f\" % metrics.v_measure_score(y, labels)) # превращает обе метрики в одну \n",
    "\n",
    "print(\"Adjusted Rand Index: %0.3f\"\n",
    "      % metrics.adjusted_rand_score(y, labels))\n",
    "print(\"Adjusted Mutual Information: %0.3f\"\n",
    "      % metrics.adjusted_mutual_info_score(y, labels))"
   ]
  },
  {
   "cell_type": "markdown",
   "metadata": {},
   "source": [
    "Сложно сказать, насколько хорошие или плохие это числа. Давайте попробуем посмотреть глазами"
   ]
  },
  {
   "cell_type": "code",
   "execution_count": 6,
   "metadata": {},
   "outputs": [
    {
     "ename": "NameError",
     "evalue": "name 'cluster' is not defined",
     "output_type": "error",
     "traceback": [
      "\u001b[0;31m---------------------------------------------------------------------------\u001b[0m",
      "\u001b[0;31mNameError\u001b[0m                                 Traceback (most recent call last)",
      "\u001b[0;32m<ipython-input-6-0e9134fad30b>\u001b[0m in \u001b[0;36m<module>\u001b[0;34m\u001b[0m\n\u001b[0;32m----> 1\u001b[0;31m \u001b[0msample\u001b[0m\u001b[0;34m[\u001b[0m\u001b[0;34m'cluster'\u001b[0m\u001b[0;34m]\u001b[0m \u001b[0;34m=\u001b[0m \u001b[0mcluster\u001b[0m\u001b[0;34m.\u001b[0m\u001b[0mlabels_\u001b[0m\u001b[0;34m\u001b[0m\u001b[0;34m\u001b[0m\u001b[0m\n\u001b[0m",
      "\u001b[0;31mNameError\u001b[0m: name 'cluster' is not defined"
     ]
    }
   ],
   "source": [
    "sample['cluster'] = cluster.labels_"
   ]
  },
  {
   "cell_type": "code",
   "execution_count": 22,
   "metadata": {
    "scrolled": true
   },
   "outputs": [
    {
     "data": {
      "text/html": [
       "<div>\n",
       "<style scoped>\n",
       "    .dataframe tbody tr th:only-of-type {\n",
       "        vertical-align: middle;\n",
       "    }\n",
       "\n",
       "    .dataframe tbody tr th {\n",
       "        vertical-align: top;\n",
       "    }\n",
       "\n",
       "    .dataframe thead th {\n",
       "        text-align: right;\n",
       "    }\n",
       "</style>\n",
       "<table border=\"1\" class=\"dataframe\">\n",
       "  <thead>\n",
       "    <tr style=\"text-align: right;\">\n",
       "      <th></th>\n",
       "      <th>category_name</th>\n",
       "      <th>title</th>\n",
       "      <th>cluster</th>\n",
       "    </tr>\n",
       "  </thead>\n",
       "  <tbody>\n",
       "    <tr>\n",
       "      <th>49792</th>\n",
       "      <td>Аудио и видео</td>\n",
       "      <td>Портативный dvd</td>\n",
       "      <td>15</td>\n",
       "    </tr>\n",
       "    <tr>\n",
       "      <th>90951</th>\n",
       "      <td>Аудио и видео</td>\n",
       "      <td>DVD fusion fd-u148x</td>\n",
       "      <td>15</td>\n",
       "    </tr>\n",
       "    <tr>\n",
       "      <th>62613</th>\n",
       "      <td>Аудио и видео</td>\n",
       "      <td>DVD video player</td>\n",
       "      <td>15</td>\n",
       "    </tr>\n",
       "    <tr>\n",
       "      <th>36081</th>\n",
       "      <td>Аудио и видео</td>\n",
       "      <td>DVD плеер ввк</td>\n",
       "      <td>15</td>\n",
       "    </tr>\n",
       "    <tr>\n",
       "      <th>200621</th>\n",
       "      <td>Аудио и видео</td>\n",
       "      <td>DVD диски</td>\n",
       "      <td>15</td>\n",
       "    </tr>\n",
       "  </tbody>\n",
       "</table>\n",
       "</div>"
      ],
      "text/plain": [
       "        category_name                title  cluster\n",
       "49792   Аудио и видео      Портативный dvd       15\n",
       "90951   Аудио и видео  DVD fusion fd-u148x       15\n",
       "62613   Аудио и видео     DVD video player       15\n",
       "36081   Аудио и видео        DVD плеер ввк       15\n",
       "200621  Аудио и видео            DVD диски       15"
      ]
     },
     "execution_count": 22,
     "metadata": {},
     "output_type": "execute_result"
    }
   ],
   "source": [
    "sample[sample.cluster==15].head(10)"
   ]
  },
  {
   "cell_type": "markdown",
   "metadata": {},
   "source": [
    "## AgglomerativeClustering"
   ]
  },
  {
   "cell_type": "code",
   "execution_count": 22,
   "metadata": {},
   "outputs": [
    {
     "data": {
      "text/html": [
       "<img src=\"https://www.datanovia.com/en/wp-content/uploads/dn-tutorials/003-hierarchical-clustering-in-r/figures/002-agglomerative-clustering-cutree-cut-dendrogram-1.png\"/>"
      ],
      "text/plain": [
       "<IPython.core.display.Image object>"
      ]
     },
     "execution_count": 22,
     "metadata": {},
     "output_type": "execute_result"
    }
   ],
   "source": [
    "from IPython.display import Image\n",
    "from IPython.core.display import HTML \n",
    "Image(url= \"https://www.datanovia.com/en/wp-content/uploads/dn-tutorials/003-hierarchical-clustering-in-r/figures/002-agglomerative-clustering-cutree-cut-dendrogram-1.png\")\n"
   ]
  },
  {
   "cell_type": "markdown",
   "metadata": {},
   "source": [
    "В агломеративной кластеризации каждому объекту припывается свой кластер и потом ближайшие кластеры постепенно объединяются, пока не получится 1 кластер или не получится количество, заданное как параметр. "
   ]
  },
  {
   "cell_type": "markdown",
   "metadata": {},
   "source": [
    "Когда рассказывают про этот вид кластеризации обычно рисуют вот такие картинки. Предполагается, что можно посмотреть на то, как объекты постепенно соединяются и найти оптимальное количество кластеров. Однако это сработает только на небольшом количестве объектов, больше 100 объектов нарисовать будет очень сложно."
   ]
  },
  {
   "cell_type": "markdown",
   "metadata": {},
   "source": [
    "Этот вид кластеризации может обработать немного побольше данных"
   ]
  },
  {
   "cell_type": "code",
   "execution_count": 23,
   "metadata": {},
   "outputs": [],
   "source": [
    "sample = data.sample(frac=0.05)"
   ]
  },
  {
   "cell_type": "code",
   "execution_count": 24,
   "metadata": {},
   "outputs": [
    {
     "data": {
      "text/plain": [
       "(12711, 2)"
      ]
     },
     "execution_count": 24,
     "metadata": {},
     "output_type": "execute_result"
    }
   ],
   "source": [
    "sample.shape"
   ]
  },
  {
   "cell_type": "markdown",
   "metadata": {},
   "source": [
    "Аггломеративная кластеризация не умеет работать с sparse матрицами, можно понизить размерность через svd"
   ]
  },
  {
   "cell_type": "code",
   "execution_count": 25,
   "metadata": {},
   "outputs": [],
   "source": [
    "cv = CountVectorizer(max_features=500)\n",
    "svd = TruncatedSVD(50)\n",
    "X = cv.fit_transform(sample['title'])\n",
    "X_svd = svd.fit_transform(X)\n",
    "\n",
    "y = sample['category_name']"
   ]
  },
  {
   "cell_type": "code",
   "execution_count": 26,
   "metadata": {},
   "outputs": [
    {
     "data": {
      "text/plain": [
       "46"
      ]
     },
     "execution_count": 26,
     "metadata": {},
     "output_type": "execute_result"
    }
   ],
   "source": [
    "len(y.unique())"
   ]
  },
  {
   "cell_type": "code",
   "execution_count": 27,
   "metadata": {},
   "outputs": [
    {
     "data": {
      "text/plain": [
       "(12711, 500)"
      ]
     },
     "execution_count": 27,
     "metadata": {},
     "output_type": "execute_result"
    }
   ],
   "source": [
    "X.shape"
   ]
  },
  {
   "cell_type": "code",
   "execution_count": 28,
   "metadata": {},
   "outputs": [
    {
     "data": {
      "text/plain": [
       "AgglomerativeClustering(affinity='euclidean', compute_full_tree='auto',\n",
       "                        connectivity=None, distance_threshold=None,\n",
       "                        linkage='ward', memory=None, n_clusters=170)"
      ]
     },
     "execution_count": 28,
     "metadata": {},
     "output_type": "execute_result"
    }
   ],
   "source": [
    "# так как визуально мы не может найти оптимальное количество кластеров, придется подбирать\n",
    "# поставим число категорий\n",
    "cluster = AgglomerativeClustering(n_clusters=170)\n",
    "cluster.fit(X_svd)"
   ]
  },
  {
   "cell_type": "code",
   "execution_count": 29,
   "metadata": {},
   "outputs": [
    {
     "data": {
      "text/plain": [
       "170"
      ]
     },
     "execution_count": 29,
     "metadata": {},
     "output_type": "execute_result"
    }
   ],
   "source": [
    "len(set(cluster.labels_))"
   ]
  },
  {
   "cell_type": "code",
   "execution_count": 30,
   "metadata": {},
   "outputs": [],
   "source": [
    "labels = cluster.labels_"
   ]
  },
  {
   "cell_type": "markdown",
   "metadata": {},
   "source": [
    "Давайте попробуем посчитать метрики "
   ]
  },
  {
   "cell_type": "code",
   "execution_count": 31,
   "metadata": {
    "scrolled": true
   },
   "outputs": [
    {
     "name": "stdout",
     "output_type": "stream",
     "text": [
      "Silhouette Coefficient: 0.264\n"
     ]
    }
   ],
   "source": [
    "print(\"Silhouette Coefficient: %0.3f\"\n",
    "      % metrics.silhouette_score(X, labels))"
   ]
  },
  {
   "cell_type": "code",
   "execution_count": 32,
   "metadata": {},
   "outputs": [
    {
     "name": "stdout",
     "output_type": "stream",
     "text": [
      "Homogeneity: 0.378\n",
      "Completeness: 0.356\n",
      "V-measure: 0.367\n",
      "Adjusted Rand Index: 0.005\n",
      "Adjusted Mutual Information: 0.323\n"
     ]
    }
   ],
   "source": [
    "# эти три метрки что-то вроде точности, полноты и ф-меры для кластеризации\n",
    "print(\"Homogeneity: %0.3f\" % metrics.homogeneity_score(y, labels)) # проверяет, что в кластере объекты одного класса\n",
    "print(\"Completeness: %0.3f\" % metrics.completeness_score(y, labels)) # проверяет, что объекты класса только в одном кластере\n",
    "print(\"V-measure: %0.3f\" % metrics.v_measure_score(y, labels)) # превращает обе метрики в одну \n",
    "\n",
    "print(\"Adjusted Rand Index: %0.3f\"\n",
    "      % metrics.adjusted_rand_score(y, labels))\n",
    "print(\"Adjusted Mutual Information: %0.3f\"\n",
    "      % metrics.adjusted_mutual_info_score(y, labels))"
   ]
  },
  {
   "cell_type": "code",
   "execution_count": 33,
   "metadata": {},
   "outputs": [],
   "source": [
    "sample['cluster'] = cluster.labels_"
   ]
  },
  {
   "cell_type": "markdown",
   "metadata": {},
   "source": [
    "Можно проанализировать сколько разных категорий намешалось в один кластер (тем меньше, тем лучше)"
   ]
  },
  {
   "cell_type": "code",
   "execution_count": 34,
   "metadata": {
    "scrolled": true
   },
   "outputs": [
    {
     "data": {
      "text/plain": [
       "140    226\n",
       "82      71\n",
       "50      42\n",
       "16      34\n",
       "9       31\n",
       "133     27\n",
       "12      20\n",
       "21      18\n",
       "19      16\n",
       "75      12\n",
       "24      10\n",
       "67      10\n",
       "96      10\n",
       "110      7\n",
       "125      7\n",
       "144      5\n",
       "61       4\n",
       "37       3\n",
       "97       3\n",
       "130      3\n",
       "84       2\n",
       "83       1\n",
       "53       1\n",
       "52       1\n",
       "27       1\n",
       "22       1\n",
       "139      1\n",
       "145      1\n",
       "Name: cluster, dtype: int64"
      ]
     },
     "execution_count": 34,
     "metadata": {},
     "output_type": "execute_result"
    }
   ],
   "source": [
    "sample[sample.category_name=='Телефоны'].cluster.value_counts()"
   ]
  },
  {
   "cell_type": "markdown",
   "metadata": {},
   "source": [
    "## Mean Shift"
   ]
  },
  {
   "cell_type": "code",
   "execution_count": 35,
   "metadata": {},
   "outputs": [
    {
     "data": {
      "text/html": [
       "<img src=\"https://www.researchgate.net/publication/326242239/figure/fig3/AS:645578044231681@1530929208053/Intuitive-description-of-the-mean-shift-procedure-find-the-densest-regions-in-the.png\"/>"
      ],
      "text/plain": [
       "<IPython.core.display.Image object>"
      ]
     },
     "execution_count": 35,
     "metadata": {},
     "output_type": "execute_result"
    }
   ],
   "source": [
    "from IPython.display import Image\n",
    "from IPython.core.display import HTML \n",
    "Image(url= \"https://www.researchgate.net/publication/326242239/figure/fig3/AS:645578044231681@1530929208053/Intuitive-description-of-the-mean-shift-procedure-find-the-densest-regions-in-the.png\")\n"
   ]
  },
  {
   "cell_type": "markdown",
   "metadata": {},
   "source": [
    "MS ищет плотные скопления объектов и ставит там кружочки определеного размера. Все, что попадает в кружочек, относится к кластеру. Количество кластеров задавать не нужно. \n",
    "\n",
    "Это первый их рассмотренных алгоритмов, который не относит к кластерам все объекты."
   ]
  },
  {
   "cell_type": "code",
   "execution_count": 35,
   "metadata": {},
   "outputs": [],
   "source": [
    "sample = data.sample(frac=0.01)"
   ]
  },
  {
   "cell_type": "code",
   "execution_count": 36,
   "metadata": {},
   "outputs": [
    {
     "data": {
      "text/plain": [
       "(2542, 2)"
      ]
     },
     "execution_count": 36,
     "metadata": {},
     "output_type": "execute_result"
    }
   ],
   "source": [
    "sample.shape"
   ]
  },
  {
   "cell_type": "markdown",
   "metadata": {},
   "source": [
    "MS тоже не умеет работать с sparse матрицами"
   ]
  },
  {
   "cell_type": "code",
   "execution_count": 37,
   "metadata": {},
   "outputs": [],
   "source": [
    "cv = CountVectorizer(max_features=2000)\n",
    "svd = TruncatedSVD(50)\n",
    "X = cv.fit_transform(sample['title'])\n",
    "X_svd = svd.fit_transform(X)\n",
    "\n",
    "y = sample['category_name']"
   ]
  },
  {
   "cell_type": "code",
   "execution_count": 38,
   "metadata": {},
   "outputs": [
    {
     "data": {
      "text/plain": [
       "0.7566217525889855"
      ]
     },
     "execution_count": 38,
     "metadata": {},
     "output_type": "execute_result"
    }
   ],
   "source": [
    "# bandwidth - как раз рамер этого кружка, но его сложно подбирать самому, т.к. в каждой задаче он будет свой\n",
    "# вот так можно узнать, что будет по умолчанию и начать с этого значения, постепенно уменьшая или увеличивая\n",
    "import sklearn\n",
    "sklearn.cluster.estimate_bandwidth(X_svd)"
   ]
  },
  {
   "cell_type": "code",
   "execution_count": 39,
   "metadata": {},
   "outputs": [
    {
     "data": {
      "text/plain": [
       "MeanShift(bandwidth=0.5, bin_seeding=False, cluster_all=False, max_iter=300,\n",
       "          min_bin_freq=1, n_jobs=None, seeds=None)"
      ]
     },
     "execution_count": 39,
     "metadata": {},
     "output_type": "execute_result"
    }
   ],
   "source": [
    "# cluster_all=False чтобы не записывать все объекты в кластеры\n",
    "cluster = MeanShift(cluster_all=False, bandwidth=0.5)\n",
    "cluster.fit(X_svd)"
   ]
  },
  {
   "cell_type": "markdown",
   "metadata": {},
   "source": [
    "Посмотрим сколько кластеров образовалось"
   ]
  },
  {
   "cell_type": "code",
   "execution_count": 40,
   "metadata": {},
   "outputs": [
    {
     "data": {
      "text/plain": [
       "258"
      ]
     },
     "execution_count": 40,
     "metadata": {},
     "output_type": "execute_result"
    }
   ],
   "source": [
    "len(set(cluster.labels_))"
   ]
  },
  {
   "cell_type": "code",
   "execution_count": 41,
   "metadata": {},
   "outputs": [],
   "source": [
    "labels = cluster.labels_"
   ]
  },
  {
   "cell_type": "code",
   "execution_count": 42,
   "metadata": {},
   "outputs": [
    {
     "name": "stdout",
     "output_type": "stream",
     "text": [
      "Silhouette Coefficient: 0.004\n"
     ]
    }
   ],
   "source": [
    "print(\"Silhouette Coefficient: %0.3f\"\n",
    "      % metrics.silhouette_score(X, labels))"
   ]
  },
  {
   "cell_type": "code",
   "execution_count": 43,
   "metadata": {},
   "outputs": [
    {
     "name": "stdout",
     "output_type": "stream",
     "text": [
      "Homogeneity: 0.375\n",
      "Completeness: 0.363\n",
      "V-measure: 0.369\n",
      "Adjusted Rand Index: -0.008\n",
      "Adjusted Mutual Information: 0.218\n"
     ]
    }
   ],
   "source": [
    "# эти три метрки что-то вроде точности, полноты и ф-меры для кластеризации\n",
    "print(\"Homogeneity: %0.3f\" % metrics.homogeneity_score(y, labels)) # проверяет, что в кластере объекты одного класса\n",
    "print(\"Completeness: %0.3f\" % metrics.completeness_score(y, labels)) # проверяет, что объекты класса только в одном кластере\n",
    "print(\"V-measure: %0.3f\" % metrics.v_measure_score(y, labels)) # превращает обе метрики в одну \n",
    "\n",
    "print(\"Adjusted Rand Index: %0.3f\"\n",
    "      % metrics.adjusted_rand_score(y, labels))\n",
    "print(\"Adjusted Mutual Information: %0.3f\"\n",
    "      % metrics.adjusted_mutual_info_score(y, labels))"
   ]
  },
  {
   "cell_type": "code",
   "execution_count": 44,
   "metadata": {},
   "outputs": [],
   "source": [
    "sample['cluster'] = cluster.labels_"
   ]
  },
  {
   "cell_type": "markdown",
   "metadata": {},
   "source": [
    "Алгоритмы кластеризация, которые умеют отфильтровывать выбросы, приписывают им -1 кластер."
   ]
  },
  {
   "cell_type": "code",
   "execution_count": 45,
   "metadata": {
    "scrolled": true
   },
   "outputs": [
    {
     "data": {
      "text/html": [
       "<div>\n",
       "<style scoped>\n",
       "    .dataframe tbody tr th:only-of-type {\n",
       "        vertical-align: middle;\n",
       "    }\n",
       "\n",
       "    .dataframe tbody tr th {\n",
       "        vertical-align: top;\n",
       "    }\n",
       "\n",
       "    .dataframe thead th {\n",
       "        text-align: right;\n",
       "    }\n",
       "</style>\n",
       "<table border=\"1\" class=\"dataframe\">\n",
       "  <thead>\n",
       "    <tr style=\"text-align: right;\">\n",
       "      <th></th>\n",
       "      <th>category_name</th>\n",
       "      <th>title</th>\n",
       "      <th>cluster</th>\n",
       "    </tr>\n",
       "  </thead>\n",
       "  <tbody>\n",
       "    <tr>\n",
       "      <th>129626</th>\n",
       "      <td>Автомобили</td>\n",
       "      <td>ГАЗ ГАЗель 33023, 2011</td>\n",
       "      <td>-1</td>\n",
       "    </tr>\n",
       "    <tr>\n",
       "      <th>235121</th>\n",
       "      <td>Автомобили</td>\n",
       "      <td>ГАЗ ГАЗель 3302, 1999</td>\n",
       "      <td>-1</td>\n",
       "    </tr>\n",
       "    <tr>\n",
       "      <th>51653</th>\n",
       "      <td>Дома, дачи, коттеджи</td>\n",
       "      <td>Дом 80 м² на участке 25 сот.</td>\n",
       "      <td>-1</td>\n",
       "    </tr>\n",
       "    <tr>\n",
       "      <th>73924</th>\n",
       "      <td>Ремонт и строительство</td>\n",
       "      <td>Раковина: market M 55 B 1 отв., белый, 56*46</td>\n",
       "      <td>-1</td>\n",
       "    </tr>\n",
       "    <tr>\n",
       "      <th>29621</th>\n",
       "      <td>Детская одежда и обувь</td>\n",
       "      <td>Нарядное платье на девочку 3-4 года</td>\n",
       "      <td>-1</td>\n",
       "    </tr>\n",
       "  </tbody>\n",
       "</table>\n",
       "</div>"
      ],
      "text/plain": [
       "                 category_name                                         title  \\\n",
       "129626              Автомобили                        ГАЗ ГАЗель 33023, 2011   \n",
       "235121              Автомобили                         ГАЗ ГАЗель 3302, 1999   \n",
       "51653     Дома, дачи, коттеджи                  Дом 80 м² на участке 25 сот.   \n",
       "73924   Ремонт и строительство  Раковина: market M 55 B 1 отв., белый, 56*46   \n",
       "29621   Детская одежда и обувь           Нарядное платье на девочку 3-4 года   \n",
       "\n",
       "        cluster  \n",
       "129626       -1  \n",
       "235121       -1  \n",
       "51653        -1  \n",
       "73924        -1  \n",
       "29621        -1  "
      ]
     },
     "execution_count": 45,
     "metadata": {},
     "output_type": "execute_result"
    }
   ],
   "source": [
    "# так мы можем оценить, действительно ли отсеивается мусор или мы просто недокластеризуем\n",
    "sample[sample.cluster==-1].head()"
   ]
  },
  {
   "cell_type": "markdown",
   "metadata": {},
   "source": [
    "## Spectral Clustering"
   ]
  },
  {
   "cell_type": "markdown",
   "metadata": {},
   "source": [
    "В SC перед тем как кластерозовать к объектам применяется какое-то преобразование. Это преобразование должно приводить странно организованные в пространстве объекты к более стандартному виду, который могут переварить простые алгоритмы кластеризации (по дефолту используется KMEANS - про него немного ниже)"
   ]
  },
  {
   "cell_type": "markdown",
   "metadata": {},
   "source": [
    "Так как кластируется через kmeans нужно подбирать количество кластеров самому."
   ]
  },
  {
   "cell_type": "code",
   "execution_count": 46,
   "metadata": {},
   "outputs": [],
   "source": [
    "sample = data.sample(frac=0.01)"
   ]
  },
  {
   "cell_type": "code",
   "execution_count": 47,
   "metadata": {},
   "outputs": [
    {
     "data": {
      "text/plain": [
       "(2542, 2)"
      ]
     },
     "execution_count": 47,
     "metadata": {},
     "output_type": "execute_result"
    }
   ],
   "source": [
    "sample.shape"
   ]
  },
  {
   "cell_type": "markdown",
   "metadata": {},
   "source": [
    "Аггломеративная кластеризация не умеет работать с sparse матрицами, можно понизить размерность через svd"
   ]
  },
  {
   "cell_type": "code",
   "execution_count": 48,
   "metadata": {},
   "outputs": [],
   "source": [
    "cv = CountVectorizer(max_features=500)\n",
    "svd = TruncatedSVD(50)\n",
    "X = cv.fit_transform(sample['title'])\n",
    "X_svd = svd.fit_transform(X)\n",
    "\n",
    "y = sample['category_name']"
   ]
  },
  {
   "cell_type": "code",
   "execution_count": 49,
   "metadata": {},
   "outputs": [
    {
     "data": {
      "text/plain": [
       "(2542, 500)"
      ]
     },
     "execution_count": 49,
     "metadata": {},
     "output_type": "execute_result"
    }
   ],
   "source": [
    "X.shape"
   ]
  },
  {
   "cell_type": "code",
   "execution_count": 50,
   "metadata": {},
   "outputs": [
    {
     "data": {
      "text/plain": [
       "SpectralClustering(affinity='rbf', assign_labels='kmeans', coef0=1, degree=3,\n",
       "                   eigen_solver=None, eigen_tol=0.0, gamma=1.0,\n",
       "                   kernel_params=None, n_clusters=47, n_components=None,\n",
       "                   n_init=10, n_jobs=None, n_neighbors=10, random_state=None)"
      ]
     },
     "execution_count": 50,
     "metadata": {},
     "output_type": "execute_result"
    }
   ],
   "source": [
    "cluster = SpectralClustering(n_clusters=47)\n",
    "cluster.fit(X_svd)"
   ]
  },
  {
   "cell_type": "markdown",
   "metadata": {},
   "source": [
    "Метки кластеров для всех объектов в датасете лежат в cluster.labels_"
   ]
  },
  {
   "cell_type": "code",
   "execution_count": 51,
   "metadata": {},
   "outputs": [
    {
     "data": {
      "text/plain": [
       "array([ 0,  0,  0, ..., 20, 30,  0], dtype=int32)"
      ]
     },
     "execution_count": 51,
     "metadata": {},
     "output_type": "execute_result"
    }
   ],
   "source": [
    "cluster.labels_"
   ]
  },
  {
   "cell_type": "markdown",
   "metadata": {},
   "source": [
    "Посмотрим сколько кластеров образовалось"
   ]
  },
  {
   "cell_type": "code",
   "execution_count": 52,
   "metadata": {},
   "outputs": [
    {
     "data": {
      "text/plain": [
       "47"
      ]
     },
     "execution_count": 52,
     "metadata": {},
     "output_type": "execute_result"
    }
   ],
   "source": [
    "len(set(cluster.labels_))"
   ]
  },
  {
   "cell_type": "code",
   "execution_count": 53,
   "metadata": {},
   "outputs": [],
   "source": [
    "labels = cluster.labels_"
   ]
  },
  {
   "cell_type": "markdown",
   "metadata": {},
   "source": [
    "Давайте попробуем посчитать метрики "
   ]
  },
  {
   "cell_type": "code",
   "execution_count": 54,
   "metadata": {
    "scrolled": true
   },
   "outputs": [
    {
     "name": "stdout",
     "output_type": "stream",
     "text": [
      "Silhouette Coefficient: 0.160\n"
     ]
    }
   ],
   "source": [
    "print(\"Silhouette Coefficient: %0.3f\"\n",
    "      % metrics.silhouette_score(X, labels))"
   ]
  },
  {
   "cell_type": "code",
   "execution_count": 55,
   "metadata": {},
   "outputs": [
    {
     "name": "stdout",
     "output_type": "stream",
     "text": [
      "Homogeneity: 0.215\n",
      "Completeness: 0.466\n",
      "V-measure: 0.294\n",
      "Adjusted Rand Index: 0.021\n",
      "Adjusted Mutual Information: 0.228\n"
     ]
    }
   ],
   "source": [
    "# эти три метрки что-то вроде точности, полноты и ф-меры для кластеризации\n",
    "print(\"Homogeneity: %0.3f\" % metrics.homogeneity_score(y, labels)) # проверяет, что в кластере объекты одного класса\n",
    "print(\"Completeness: %0.3f\" % metrics.completeness_score(y, labels)) # проверяет, что объекты класса только в одном кластере\n",
    "print(\"V-measure: %0.3f\" % metrics.v_measure_score(y, labels)) # превращает обе метрики в одну \n",
    "\n",
    "print(\"Adjusted Rand Index: %0.3f\"\n",
    "      % metrics.adjusted_rand_score(y, labels))\n",
    "print(\"Adjusted Mutual Information: %0.3f\"\n",
    "      % metrics.adjusted_mutual_info_score(y, labels))"
   ]
  },
  {
   "cell_type": "markdown",
   "metadata": {},
   "source": [
    "Посмотрим на глаз"
   ]
  },
  {
   "cell_type": "code",
   "execution_count": 56,
   "metadata": {},
   "outputs": [],
   "source": [
    "sample['cluster'] = cluster.labels_"
   ]
  },
  {
   "cell_type": "code",
   "execution_count": 58,
   "metadata": {
    "scrolled": true
   },
   "outputs": [
    {
     "data": {
      "text/html": [
       "<div>\n",
       "<style scoped>\n",
       "    .dataframe tbody tr th:only-of-type {\n",
       "        vertical-align: middle;\n",
       "    }\n",
       "\n",
       "    .dataframe tbody tr th {\n",
       "        vertical-align: top;\n",
       "    }\n",
       "\n",
       "    .dataframe thead th {\n",
       "        text-align: right;\n",
       "    }\n",
       "</style>\n",
       "<table border=\"1\" class=\"dataframe\">\n",
       "  <thead>\n",
       "    <tr style=\"text-align: right;\">\n",
       "      <th></th>\n",
       "      <th>category_name</th>\n",
       "      <th>title</th>\n",
       "      <th>cluster</th>\n",
       "    </tr>\n",
       "  </thead>\n",
       "  <tbody>\n",
       "    <tr>\n",
       "      <th>120802</th>\n",
       "      <td>Квартиры</td>\n",
       "      <td>1-к квартира, 34 м², 4/5 эт.</td>\n",
       "      <td>35</td>\n",
       "    </tr>\n",
       "    <tr>\n",
       "      <th>115918</th>\n",
       "      <td>Квартиры</td>\n",
       "      <td>2-к квартира, 80 м², 2/4 эт.</td>\n",
       "      <td>35</td>\n",
       "    </tr>\n",
       "    <tr>\n",
       "      <th>74343</th>\n",
       "      <td>Квартиры</td>\n",
       "      <td>3-к квартира, 72 м², 3/5 эт.</td>\n",
       "      <td>35</td>\n",
       "    </tr>\n",
       "    <tr>\n",
       "      <th>188080</th>\n",
       "      <td>Квартиры</td>\n",
       "      <td>2-к квартира, 45 м², 5/5 эт.</td>\n",
       "      <td>35</td>\n",
       "    </tr>\n",
       "    <tr>\n",
       "      <th>111238</th>\n",
       "      <td>Квартиры</td>\n",
       "      <td>2-к квартира, 47 м², 1/2 эт.</td>\n",
       "      <td>35</td>\n",
       "    </tr>\n",
       "    <tr>\n",
       "      <th>6691</th>\n",
       "      <td>Квартиры</td>\n",
       "      <td>1-к квартира, 27 м², 3/5 эт.</td>\n",
       "      <td>35</td>\n",
       "    </tr>\n",
       "    <tr>\n",
       "      <th>22704</th>\n",
       "      <td>Квартиры</td>\n",
       "      <td>1-к квартира, 36 м², 4/5 эт.</td>\n",
       "      <td>35</td>\n",
       "    </tr>\n",
       "    <tr>\n",
       "      <th>1547</th>\n",
       "      <td>Квартиры</td>\n",
       "      <td>1-к квартира, 45.5 м², 6/24 эт.</td>\n",
       "      <td>35</td>\n",
       "    </tr>\n",
       "    <tr>\n",
       "      <th>114741</th>\n",
       "      <td>Квартиры</td>\n",
       "      <td>2-к квартира, 77 м², 5/9 эт.</td>\n",
       "      <td>35</td>\n",
       "    </tr>\n",
       "    <tr>\n",
       "      <th>207463</th>\n",
       "      <td>Квартиры</td>\n",
       "      <td>1-к квартира, 32 м², 3/5 эт.</td>\n",
       "      <td>35</td>\n",
       "    </tr>\n",
       "    <tr>\n",
       "      <th>239234</th>\n",
       "      <td>Квартиры</td>\n",
       "      <td>1-к квартира, 31 м², 1/5 эт.</td>\n",
       "      <td>35</td>\n",
       "    </tr>\n",
       "    <tr>\n",
       "      <th>172121</th>\n",
       "      <td>Квартиры</td>\n",
       "      <td>1-к квартира, 36 м², 2/4 эт.</td>\n",
       "      <td>35</td>\n",
       "    </tr>\n",
       "    <tr>\n",
       "      <th>189310</th>\n",
       "      <td>Квартиры</td>\n",
       "      <td>2-к квартира, 42.3 м², 2/4 эт.</td>\n",
       "      <td>35</td>\n",
       "    </tr>\n",
       "    <tr>\n",
       "      <th>151078</th>\n",
       "      <td>Квартиры</td>\n",
       "      <td>1-к квартира, 31 м², 4/5 эт.</td>\n",
       "      <td>35</td>\n",
       "    </tr>\n",
       "    <tr>\n",
       "      <th>72014</th>\n",
       "      <td>Квартиры</td>\n",
       "      <td>2-к квартира, 44 м², 4/4 эт.</td>\n",
       "      <td>35</td>\n",
       "    </tr>\n",
       "    <tr>\n",
       "      <th>146402</th>\n",
       "      <td>Квартиры</td>\n",
       "      <td>1-к квартира, 33 м², 1/9 эт.</td>\n",
       "      <td>35</td>\n",
       "    </tr>\n",
       "    <tr>\n",
       "      <th>131879</th>\n",
       "      <td>Квартиры</td>\n",
       "      <td>2-к квартира, 54 м², 3/9 эт.</td>\n",
       "      <td>35</td>\n",
       "    </tr>\n",
       "    <tr>\n",
       "      <th>155466</th>\n",
       "      <td>Квартиры</td>\n",
       "      <td>1-к квартира, 35 м², 6/7 эт.</td>\n",
       "      <td>35</td>\n",
       "    </tr>\n",
       "    <tr>\n",
       "      <th>7319</th>\n",
       "      <td>Квартиры</td>\n",
       "      <td>5-к квартира, 97 м², 1/4 эт.</td>\n",
       "      <td>35</td>\n",
       "    </tr>\n",
       "    <tr>\n",
       "      <th>74810</th>\n",
       "      <td>Квартиры</td>\n",
       "      <td>2-к квартира, 50 м², 2/5 эт.</td>\n",
       "      <td>35</td>\n",
       "    </tr>\n",
       "    <tr>\n",
       "      <th>84545</th>\n",
       "      <td>Квартиры</td>\n",
       "      <td>2-к квартира, 43 м², 5/5 эт.</td>\n",
       "      <td>35</td>\n",
       "    </tr>\n",
       "    <tr>\n",
       "      <th>106808</th>\n",
       "      <td>Квартиры</td>\n",
       "      <td>3-к квартира, 70 м², 2/9 эт.</td>\n",
       "      <td>35</td>\n",
       "    </tr>\n",
       "    <tr>\n",
       "      <th>251371</th>\n",
       "      <td>Квартиры</td>\n",
       "      <td>1-к квартира, 35 м², 2/5 эт.</td>\n",
       "      <td>35</td>\n",
       "    </tr>\n",
       "    <tr>\n",
       "      <th>222982</th>\n",
       "      <td>Квартиры</td>\n",
       "      <td>1-к квартира, 25 м², 4/4 эт.</td>\n",
       "      <td>35</td>\n",
       "    </tr>\n",
       "    <tr>\n",
       "      <th>6730</th>\n",
       "      <td>Квартиры</td>\n",
       "      <td>1-к квартира, 42.4 м², 2/22 эт.</td>\n",
       "      <td>35</td>\n",
       "    </tr>\n",
       "    <tr>\n",
       "      <th>246142</th>\n",
       "      <td>Квартиры</td>\n",
       "      <td>3-к квартира, 72 м², 1/2 эт.</td>\n",
       "      <td>35</td>\n",
       "    </tr>\n",
       "    <tr>\n",
       "      <th>38659</th>\n",
       "      <td>Квартиры</td>\n",
       "      <td>2-к квартира, 43 м², 4/4 эт.</td>\n",
       "      <td>35</td>\n",
       "    </tr>\n",
       "    <tr>\n",
       "      <th>89425</th>\n",
       "      <td>Квартиры</td>\n",
       "      <td>1-к квартира, 33 м², 2/5 эт.</td>\n",
       "      <td>35</td>\n",
       "    </tr>\n",
       "    <tr>\n",
       "      <th>90346</th>\n",
       "      <td>Квартиры</td>\n",
       "      <td>2-к квартира, 42 м², 2/5 эт.</td>\n",
       "      <td>35</td>\n",
       "    </tr>\n",
       "    <tr>\n",
       "      <th>134991</th>\n",
       "      <td>Квартиры</td>\n",
       "      <td>1-к квартира, 30 м², 2/3 эт.</td>\n",
       "      <td>35</td>\n",
       "    </tr>\n",
       "    <tr>\n",
       "      <th>189353</th>\n",
       "      <td>Квартиры</td>\n",
       "      <td>1-к квартира, 30 м², 1/5 эт.</td>\n",
       "      <td>35</td>\n",
       "    </tr>\n",
       "    <tr>\n",
       "      <th>235864</th>\n",
       "      <td>Квартиры</td>\n",
       "      <td>1-к квартира, 32 м², 2/8 эт.</td>\n",
       "      <td>35</td>\n",
       "    </tr>\n",
       "    <tr>\n",
       "      <th>147724</th>\n",
       "      <td>Квартиры</td>\n",
       "      <td>2-к квартира, 44 м², 4/5 эт.</td>\n",
       "      <td>35</td>\n",
       "    </tr>\n",
       "    <tr>\n",
       "      <th>57633</th>\n",
       "      <td>Квартиры</td>\n",
       "      <td>3-к квартира, 57 м², 3/5 эт.</td>\n",
       "      <td>35</td>\n",
       "    </tr>\n",
       "    <tr>\n",
       "      <th>82187</th>\n",
       "      <td>Квартиры</td>\n",
       "      <td>3-к квартира, 73 м², 4/9 эт.</td>\n",
       "      <td>35</td>\n",
       "    </tr>\n",
       "    <tr>\n",
       "      <th>18142</th>\n",
       "      <td>Квартиры</td>\n",
       "      <td>2-к квартира, 59 м², 4/5 эт.</td>\n",
       "      <td>35</td>\n",
       "    </tr>\n",
       "    <tr>\n",
       "      <th>159923</th>\n",
       "      <td>Квартиры</td>\n",
       "      <td>2-к квартира, 45 м², 5/5 эт.</td>\n",
       "      <td>35</td>\n",
       "    </tr>\n",
       "    <tr>\n",
       "      <th>250155</th>\n",
       "      <td>Квартиры</td>\n",
       "      <td>1-к квартира, 33 м², 4/5 эт.</td>\n",
       "      <td>35</td>\n",
       "    </tr>\n",
       "    <tr>\n",
       "      <th>89897</th>\n",
       "      <td>Квартиры</td>\n",
       "      <td>1-к квартира, 28.2 м², 1/6 эт.</td>\n",
       "      <td>35</td>\n",
       "    </tr>\n",
       "    <tr>\n",
       "      <th>191756</th>\n",
       "      <td>Квартиры</td>\n",
       "      <td>1-к квартира, 32 м², 2/4 эт.</td>\n",
       "      <td>35</td>\n",
       "    </tr>\n",
       "    <tr>\n",
       "      <th>182618</th>\n",
       "      <td>Квартиры</td>\n",
       "      <td>2-к квартира, 41 м², 1/4 эт.</td>\n",
       "      <td>35</td>\n",
       "    </tr>\n",
       "    <tr>\n",
       "      <th>187520</th>\n",
       "      <td>Квартиры</td>\n",
       "      <td>2-к квартира, 48 м², 5/5 эт.</td>\n",
       "      <td>35</td>\n",
       "    </tr>\n",
       "    <tr>\n",
       "      <th>105303</th>\n",
       "      <td>Квартиры</td>\n",
       "      <td>3-к квартира, 83 м², 3/3 эт.</td>\n",
       "      <td>35</td>\n",
       "    </tr>\n",
       "    <tr>\n",
       "      <th>37660</th>\n",
       "      <td>Квартиры</td>\n",
       "      <td>2-к квартира, 43 м², 8/9 эт.</td>\n",
       "      <td>35</td>\n",
       "    </tr>\n",
       "    <tr>\n",
       "      <th>218419</th>\n",
       "      <td>Квартиры</td>\n",
       "      <td>3-к квартира, 60 м², 4/9 эт.</td>\n",
       "      <td>35</td>\n",
       "    </tr>\n",
       "    <tr>\n",
       "      <th>47092</th>\n",
       "      <td>Квартиры</td>\n",
       "      <td>1-к квартира, 43 м², 13/14 эт.</td>\n",
       "      <td>35</td>\n",
       "    </tr>\n",
       "    <tr>\n",
       "      <th>188897</th>\n",
       "      <td>Квартиры</td>\n",
       "      <td>2-к квартира, 40 м², 1/9 эт.</td>\n",
       "      <td>35</td>\n",
       "    </tr>\n",
       "    <tr>\n",
       "      <th>62847</th>\n",
       "      <td>Квартиры</td>\n",
       "      <td>3-к квартира, 56 м², 3/4 эт.</td>\n",
       "      <td>35</td>\n",
       "    </tr>\n",
       "    <tr>\n",
       "      <th>248135</th>\n",
       "      <td>Квартиры</td>\n",
       "      <td>1-к квартира, 23 м², 4/5 эт.</td>\n",
       "      <td>35</td>\n",
       "    </tr>\n",
       "    <tr>\n",
       "      <th>251970</th>\n",
       "      <td>Квартиры</td>\n",
       "      <td>1-к квартира, 40 м², 4/9 эт.</td>\n",
       "      <td>35</td>\n",
       "    </tr>\n",
       "    <tr>\n",
       "      <th>189795</th>\n",
       "      <td>Квартиры</td>\n",
       "      <td>2-к квартира, 60 м², 2/2 эт.</td>\n",
       "      <td>35</td>\n",
       "    </tr>\n",
       "    <tr>\n",
       "      <th>248146</th>\n",
       "      <td>Квартиры</td>\n",
       "      <td>1-к квартира, 33 м², 9/9 эт.</td>\n",
       "      <td>35</td>\n",
       "    </tr>\n",
       "    <tr>\n",
       "      <th>71707</th>\n",
       "      <td>Квартиры</td>\n",
       "      <td>1-к квартира, 27 м², 5/9 эт.</td>\n",
       "      <td>35</td>\n",
       "    </tr>\n",
       "    <tr>\n",
       "      <th>189723</th>\n",
       "      <td>Квартиры</td>\n",
       "      <td>1-к квартира, 35 м², 3/5 эт.</td>\n",
       "      <td>35</td>\n",
       "    </tr>\n",
       "    <tr>\n",
       "      <th>26086</th>\n",
       "      <td>Квартиры</td>\n",
       "      <td>1-к квартира, 36 м², 2/3 эт.</td>\n",
       "      <td>35</td>\n",
       "    </tr>\n",
       "    <tr>\n",
       "      <th>105006</th>\n",
       "      <td>Квартиры</td>\n",
       "      <td>1-к квартира, 48 м², 8/14 эт.</td>\n",
       "      <td>35</td>\n",
       "    </tr>\n",
       "    <tr>\n",
       "      <th>25013</th>\n",
       "      <td>Квартиры</td>\n",
       "      <td>1-к квартира, 32 м², 4/5 эт.</td>\n",
       "      <td>35</td>\n",
       "    </tr>\n",
       "    <tr>\n",
       "      <th>238796</th>\n",
       "      <td>Квартиры</td>\n",
       "      <td>2-к квартира, 49 м², 3/5 эт.</td>\n",
       "      <td>35</td>\n",
       "    </tr>\n",
       "    <tr>\n",
       "      <th>78522</th>\n",
       "      <td>Квартиры</td>\n",
       "      <td>2-к квартира, 65.4 м², 4/5 эт.</td>\n",
       "      <td>35</td>\n",
       "    </tr>\n",
       "    <tr>\n",
       "      <th>119481</th>\n",
       "      <td>Квартиры</td>\n",
       "      <td>2-к квартира, 54 м², 5/5 эт.</td>\n",
       "      <td>35</td>\n",
       "    </tr>\n",
       "    <tr>\n",
       "      <th>94344</th>\n",
       "      <td>Квартиры</td>\n",
       "      <td>2-к квартира, 46 м², 4/5 эт.</td>\n",
       "      <td>35</td>\n",
       "    </tr>\n",
       "    <tr>\n",
       "      <th>4471</th>\n",
       "      <td>Квартиры</td>\n",
       "      <td>2-к квартира, 35 м², 1/5 эт.</td>\n",
       "      <td>35</td>\n",
       "    </tr>\n",
       "    <tr>\n",
       "      <th>127273</th>\n",
       "      <td>Квартиры</td>\n",
       "      <td>2-к квартира, 62 м², 2/4 эт.</td>\n",
       "      <td>35</td>\n",
       "    </tr>\n",
       "    <tr>\n",
       "      <th>99436</th>\n",
       "      <td>Квартиры</td>\n",
       "      <td>3-к квартира, 56 м², 3/5 эт.</td>\n",
       "      <td>35</td>\n",
       "    </tr>\n",
       "    <tr>\n",
       "      <th>55659</th>\n",
       "      <td>Квартиры</td>\n",
       "      <td>4-к квартира, 60.2 м², 4/5 эт.</td>\n",
       "      <td>35</td>\n",
       "    </tr>\n",
       "    <tr>\n",
       "      <th>212636</th>\n",
       "      <td>Квартиры</td>\n",
       "      <td>1-к квартира, 18.6 м², 5/5 эт.</td>\n",
       "      <td>35</td>\n",
       "    </tr>\n",
       "    <tr>\n",
       "      <th>128060</th>\n",
       "      <td>Квартиры</td>\n",
       "      <td>2-к квартира, 44.1 м², 1/5 эт.</td>\n",
       "      <td>35</td>\n",
       "    </tr>\n",
       "    <tr>\n",
       "      <th>89475</th>\n",
       "      <td>Квартиры</td>\n",
       "      <td>3-к квартира, 70.4 м², 1/3 эт.</td>\n",
       "      <td>35</td>\n",
       "    </tr>\n",
       "    <tr>\n",
       "      <th>14926</th>\n",
       "      <td>Квартиры</td>\n",
       "      <td>2-к квартира, 49 м², 5/9 эт.</td>\n",
       "      <td>35</td>\n",
       "    </tr>\n",
       "    <tr>\n",
       "      <th>179895</th>\n",
       "      <td>Квартиры</td>\n",
       "      <td>2-к квартира, 45 м², 3/5 эт.</td>\n",
       "      <td>35</td>\n",
       "    </tr>\n",
       "    <tr>\n",
       "      <th>252301</th>\n",
       "      <td>Квартиры</td>\n",
       "      <td>3-к квартира, 85 м², 3/5 эт.</td>\n",
       "      <td>35</td>\n",
       "    </tr>\n",
       "    <tr>\n",
       "      <th>85605</th>\n",
       "      <td>Квартиры</td>\n",
       "      <td>3-к квартира, 96 м², 1/3 эт.</td>\n",
       "      <td>35</td>\n",
       "    </tr>\n",
       "    <tr>\n",
       "      <th>128666</th>\n",
       "      <td>Квартиры</td>\n",
       "      <td>2-к квартира, 51 м², 2/9 эт.</td>\n",
       "      <td>35</td>\n",
       "    </tr>\n",
       "    <tr>\n",
       "      <th>172573</th>\n",
       "      <td>Квартиры</td>\n",
       "      <td>1-к квартира, 42 м², 9/14 эт.</td>\n",
       "      <td>35</td>\n",
       "    </tr>\n",
       "    <tr>\n",
       "      <th>231659</th>\n",
       "      <td>Квартиры</td>\n",
       "      <td>1-к квартира, 32 м², 5/5 эт.</td>\n",
       "      <td>35</td>\n",
       "    </tr>\n",
       "    <tr>\n",
       "      <th>187495</th>\n",
       "      <td>Квартиры</td>\n",
       "      <td>2-к квартира, 45.2 м², 4/5 эт.</td>\n",
       "      <td>35</td>\n",
       "    </tr>\n",
       "    <tr>\n",
       "      <th>62498</th>\n",
       "      <td>Квартиры</td>\n",
       "      <td>1-к квартира, 30 м², 3/5 эт.</td>\n",
       "      <td>35</td>\n",
       "    </tr>\n",
       "    <tr>\n",
       "      <th>37833</th>\n",
       "      <td>Квартиры</td>\n",
       "      <td>1-к квартира, 52 м², 15/24 эт.</td>\n",
       "      <td>35</td>\n",
       "    </tr>\n",
       "    <tr>\n",
       "      <th>149272</th>\n",
       "      <td>Квартиры</td>\n",
       "      <td>3-к квартира, 78 м², 4/8 эт.</td>\n",
       "      <td>35</td>\n",
       "    </tr>\n",
       "    <tr>\n",
       "      <th>194797</th>\n",
       "      <td>Квартиры</td>\n",
       "      <td>2-к квартира, 44 м², 5/5 эт.</td>\n",
       "      <td>35</td>\n",
       "    </tr>\n",
       "    <tr>\n",
       "      <th>3291</th>\n",
       "      <td>Квартиры</td>\n",
       "      <td>3-к квартира, 63.5 м², 2/7 эт.</td>\n",
       "      <td>35</td>\n",
       "    </tr>\n",
       "    <tr>\n",
       "      <th>131575</th>\n",
       "      <td>Квартиры</td>\n",
       "      <td>1-к квартира, 37 м², 5/19 эт.</td>\n",
       "      <td>35</td>\n",
       "    </tr>\n",
       "    <tr>\n",
       "      <th>33815</th>\n",
       "      <td>Квартиры</td>\n",
       "      <td>2-к квартира, 56 м², 3/4 эт.</td>\n",
       "      <td>35</td>\n",
       "    </tr>\n",
       "    <tr>\n",
       "      <th>105977</th>\n",
       "      <td>Квартиры</td>\n",
       "      <td>4-к квартира, 126 м², 9/13 эт.</td>\n",
       "      <td>35</td>\n",
       "    </tr>\n",
       "    <tr>\n",
       "      <th>224997</th>\n",
       "      <td>Квартиры</td>\n",
       "      <td>1-к квартира, 38.2 м², 5/9 эт.</td>\n",
       "      <td>35</td>\n",
       "    </tr>\n",
       "    <tr>\n",
       "      <th>57660</th>\n",
       "      <td>Квартиры</td>\n",
       "      <td>3-к квартира, 62.4 м², 7/9 эт.</td>\n",
       "      <td>35</td>\n",
       "    </tr>\n",
       "    <tr>\n",
       "      <th>248991</th>\n",
       "      <td>Квартиры</td>\n",
       "      <td>3-к квартира, 61 м², 4/5 эт.</td>\n",
       "      <td>35</td>\n",
       "    </tr>\n",
       "    <tr>\n",
       "      <th>113934</th>\n",
       "      <td>Квартиры</td>\n",
       "      <td>2-к квартира, 45 м², 3/5 эт.</td>\n",
       "      <td>35</td>\n",
       "    </tr>\n",
       "    <tr>\n",
       "      <th>88212</th>\n",
       "      <td>Квартиры</td>\n",
       "      <td>1-к квартира, 34 м², 3/9 эт.</td>\n",
       "      <td>35</td>\n",
       "    </tr>\n",
       "    <tr>\n",
       "      <th>193127</th>\n",
       "      <td>Квартиры</td>\n",
       "      <td>2-к квартира, 63 м², 3/5 эт.</td>\n",
       "      <td>35</td>\n",
       "    </tr>\n",
       "    <tr>\n",
       "      <th>41866</th>\n",
       "      <td>Квартиры</td>\n",
       "      <td>2-к квартира, 46 м², 3/5 эт.</td>\n",
       "      <td>35</td>\n",
       "    </tr>\n",
       "    <tr>\n",
       "      <th>99953</th>\n",
       "      <td>Квартиры</td>\n",
       "      <td>1-к квартира, 34 м², 8/9 эт.</td>\n",
       "      <td>35</td>\n",
       "    </tr>\n",
       "    <tr>\n",
       "      <th>116157</th>\n",
       "      <td>Квартиры</td>\n",
       "      <td>2-к квартира, 41 м², 3/5 эт.</td>\n",
       "      <td>35</td>\n",
       "    </tr>\n",
       "    <tr>\n",
       "      <th>204990</th>\n",
       "      <td>Квартиры</td>\n",
       "      <td>3-к квартира, 50 м², 1/1 эт.</td>\n",
       "      <td>35</td>\n",
       "    </tr>\n",
       "    <tr>\n",
       "      <th>146863</th>\n",
       "      <td>Квартиры</td>\n",
       "      <td>1-к квартира, 36 м², 1/3 эт.</td>\n",
       "      <td>35</td>\n",
       "    </tr>\n",
       "    <tr>\n",
       "      <th>19413</th>\n",
       "      <td>Квартиры</td>\n",
       "      <td>1-к квартира, 34 м², 1/2 эт.</td>\n",
       "      <td>35</td>\n",
       "    </tr>\n",
       "    <tr>\n",
       "      <th>144662</th>\n",
       "      <td>Квартиры</td>\n",
       "      <td>3-к квартира, 60 м², 8/9 эт.</td>\n",
       "      <td>35</td>\n",
       "    </tr>\n",
       "    <tr>\n",
       "      <th>129875</th>\n",
       "      <td>Квартиры</td>\n",
       "      <td>3-к квартира, 56 м², 5/5 эт.</td>\n",
       "      <td>35</td>\n",
       "    </tr>\n",
       "    <tr>\n",
       "      <th>215244</th>\n",
       "      <td>Квартиры</td>\n",
       "      <td>1-к квартира, 34 м², 1/3 эт.</td>\n",
       "      <td>35</td>\n",
       "    </tr>\n",
       "  </tbody>\n",
       "</table>\n",
       "</div>"
      ],
      "text/plain": [
       "       category_name                            title  cluster\n",
       "120802      Квартиры     1-к квартира, 34 м², 4/5 эт.       35\n",
       "115918      Квартиры     2-к квартира, 80 м², 2/4 эт.       35\n",
       "74343       Квартиры     3-к квартира, 72 м², 3/5 эт.       35\n",
       "188080      Квартиры     2-к квартира, 45 м², 5/5 эт.       35\n",
       "111238      Квартиры     2-к квартира, 47 м², 1/2 эт.       35\n",
       "6691        Квартиры     1-к квартира, 27 м², 3/5 эт.       35\n",
       "22704       Квартиры     1-к квартира, 36 м², 4/5 эт.       35\n",
       "1547        Квартиры  1-к квартира, 45.5 м², 6/24 эт.       35\n",
       "114741      Квартиры     2-к квартира, 77 м², 5/9 эт.       35\n",
       "207463      Квартиры     1-к квартира, 32 м², 3/5 эт.       35\n",
       "239234      Квартиры     1-к квартира, 31 м², 1/5 эт.       35\n",
       "172121      Квартиры     1-к квартира, 36 м², 2/4 эт.       35\n",
       "189310      Квартиры   2-к квартира, 42.3 м², 2/4 эт.       35\n",
       "151078      Квартиры     1-к квартира, 31 м², 4/5 эт.       35\n",
       "72014       Квартиры     2-к квартира, 44 м², 4/4 эт.       35\n",
       "146402      Квартиры     1-к квартира, 33 м², 1/9 эт.       35\n",
       "131879      Квартиры     2-к квартира, 54 м², 3/9 эт.       35\n",
       "155466      Квартиры     1-к квартира, 35 м², 6/7 эт.       35\n",
       "7319        Квартиры     5-к квартира, 97 м², 1/4 эт.       35\n",
       "74810       Квартиры     2-к квартира, 50 м², 2/5 эт.       35\n",
       "84545       Квартиры     2-к квартира, 43 м², 5/5 эт.       35\n",
       "106808      Квартиры     3-к квартира, 70 м², 2/9 эт.       35\n",
       "251371      Квартиры     1-к квартира, 35 м², 2/5 эт.       35\n",
       "222982      Квартиры     1-к квартира, 25 м², 4/4 эт.       35\n",
       "6730        Квартиры  1-к квартира, 42.4 м², 2/22 эт.       35\n",
       "246142      Квартиры     3-к квартира, 72 м², 1/2 эт.       35\n",
       "38659       Квартиры     2-к квартира, 43 м², 4/4 эт.       35\n",
       "89425       Квартиры     1-к квартира, 33 м², 2/5 эт.       35\n",
       "90346       Квартиры     2-к квартира, 42 м², 2/5 эт.       35\n",
       "134991      Квартиры     1-к квартира, 30 м², 2/3 эт.       35\n",
       "189353      Квартиры     1-к квартира, 30 м², 1/5 эт.       35\n",
       "235864      Квартиры     1-к квартира, 32 м², 2/8 эт.       35\n",
       "147724      Квартиры     2-к квартира, 44 м², 4/5 эт.       35\n",
       "57633       Квартиры     3-к квартира, 57 м², 3/5 эт.       35\n",
       "82187       Квартиры     3-к квартира, 73 м², 4/9 эт.       35\n",
       "18142       Квартиры     2-к квартира, 59 м², 4/5 эт.       35\n",
       "159923      Квартиры     2-к квартира, 45 м², 5/5 эт.       35\n",
       "250155      Квартиры     1-к квартира, 33 м², 4/5 эт.       35\n",
       "89897       Квартиры   1-к квартира, 28.2 м², 1/6 эт.       35\n",
       "191756      Квартиры     1-к квартира, 32 м², 2/4 эт.       35\n",
       "182618      Квартиры     2-к квартира, 41 м², 1/4 эт.       35\n",
       "187520      Квартиры     2-к квартира, 48 м², 5/5 эт.       35\n",
       "105303      Квартиры     3-к квартира, 83 м², 3/3 эт.       35\n",
       "37660       Квартиры     2-к квартира, 43 м², 8/9 эт.       35\n",
       "218419      Квартиры     3-к квартира, 60 м², 4/9 эт.       35\n",
       "47092       Квартиры   1-к квартира, 43 м², 13/14 эт.       35\n",
       "188897      Квартиры     2-к квартира, 40 м², 1/9 эт.       35\n",
       "62847       Квартиры     3-к квартира, 56 м², 3/4 эт.       35\n",
       "248135      Квартиры     1-к квартира, 23 м², 4/5 эт.       35\n",
       "251970      Квартиры     1-к квартира, 40 м², 4/9 эт.       35\n",
       "189795      Квартиры     2-к квартира, 60 м², 2/2 эт.       35\n",
       "248146      Квартиры     1-к квартира, 33 м², 9/9 эт.       35\n",
       "71707       Квартиры     1-к квартира, 27 м², 5/9 эт.       35\n",
       "189723      Квартиры     1-к квартира, 35 м², 3/5 эт.       35\n",
       "26086       Квартиры     1-к квартира, 36 м², 2/3 эт.       35\n",
       "105006      Квартиры    1-к квартира, 48 м², 8/14 эт.       35\n",
       "25013       Квартиры     1-к квартира, 32 м², 4/5 эт.       35\n",
       "238796      Квартиры     2-к квартира, 49 м², 3/5 эт.       35\n",
       "78522       Квартиры   2-к квартира, 65.4 м², 4/5 эт.       35\n",
       "119481      Квартиры     2-к квартира, 54 м², 5/5 эт.       35\n",
       "94344       Квартиры     2-к квартира, 46 м², 4/5 эт.       35\n",
       "4471        Квартиры     2-к квартира, 35 м², 1/5 эт.       35\n",
       "127273      Квартиры     2-к квартира, 62 м², 2/4 эт.       35\n",
       "99436       Квартиры     3-к квартира, 56 м², 3/5 эт.       35\n",
       "55659       Квартиры   4-к квартира, 60.2 м², 4/5 эт.       35\n",
       "212636      Квартиры   1-к квартира, 18.6 м², 5/5 эт.       35\n",
       "128060      Квартиры   2-к квартира, 44.1 м², 1/5 эт.       35\n",
       "89475       Квартиры   3-к квартира, 70.4 м², 1/3 эт.       35\n",
       "14926       Квартиры     2-к квартира, 49 м², 5/9 эт.       35\n",
       "179895      Квартиры     2-к квартира, 45 м², 3/5 эт.       35\n",
       "252301      Квартиры     3-к квартира, 85 м², 3/5 эт.       35\n",
       "85605       Квартиры     3-к квартира, 96 м², 1/3 эт.       35\n",
       "128666      Квартиры     2-к квартира, 51 м², 2/9 эт.       35\n",
       "172573      Квартиры    1-к квартира, 42 м², 9/14 эт.       35\n",
       "231659      Квартиры     1-к квартира, 32 м², 5/5 эт.       35\n",
       "187495      Квартиры   2-к квартира, 45.2 м², 4/5 эт.       35\n",
       "62498       Квартиры     1-к квартира, 30 м², 3/5 эт.       35\n",
       "37833       Квартиры   1-к квартира, 52 м², 15/24 эт.       35\n",
       "149272      Квартиры     3-к квартира, 78 м², 4/8 эт.       35\n",
       "194797      Квартиры     2-к квартира, 44 м², 5/5 эт.       35\n",
       "3291        Квартиры   3-к квартира, 63.5 м², 2/7 эт.       35\n",
       "131575      Квартиры    1-к квартира, 37 м², 5/19 эт.       35\n",
       "33815       Квартиры     2-к квартира, 56 м², 3/4 эт.       35\n",
       "105977      Квартиры   4-к квартира, 126 м², 9/13 эт.       35\n",
       "224997      Квартиры   1-к квартира, 38.2 м², 5/9 эт.       35\n",
       "57660       Квартиры   3-к квартира, 62.4 м², 7/9 эт.       35\n",
       "248991      Квартиры     3-к квартира, 61 м², 4/5 эт.       35\n",
       "113934      Квартиры     2-к квартира, 45 м², 3/5 эт.       35\n",
       "88212       Квартиры     1-к квартира, 34 м², 3/9 эт.       35\n",
       "193127      Квартиры     2-к квартира, 63 м², 3/5 эт.       35\n",
       "41866       Квартиры     2-к квартира, 46 м², 3/5 эт.       35\n",
       "99953       Квартиры     1-к квартира, 34 м², 8/9 эт.       35\n",
       "116157      Квартиры     2-к квартира, 41 м², 3/5 эт.       35\n",
       "204990      Квартиры     3-к квартира, 50 м², 1/1 эт.       35\n",
       "146863      Квартиры     1-к квартира, 36 м², 1/3 эт.       35\n",
       "19413       Квартиры     1-к квартира, 34 м², 1/2 эт.       35\n",
       "144662      Квартиры     3-к квартира, 60 м², 8/9 эт.       35\n",
       "129875      Квартиры     3-к квартира, 56 м², 5/5 эт.       35\n",
       "215244      Квартиры     1-к квартира, 34 м², 1/3 эт.       35"
      ]
     },
     "execution_count": 58,
     "metadata": {},
     "output_type": "execute_result"
    }
   ],
   "source": [
    "sample[sample.cluster==35]"
   ]
  },
  {
   "cell_type": "markdown",
   "metadata": {},
   "source": [
    "## DBSCAN"
   ]
  },
  {
   "cell_type": "code",
   "execution_count": 59,
   "metadata": {},
   "outputs": [
    {
     "data": {
      "text/html": [
       "<img src=\"https://media.giphy.com/media/lCL2GQewp7fkk/giphy.gif\"/>"
      ],
      "text/plain": [
       "<IPython.core.display.Image object>"
      ]
     },
     "execution_count": 59,
     "metadata": {},
     "output_type": "execute_result"
    }
   ],
   "source": [
    "from IPython.display import Image\n",
    "from IPython.core.display import HTML \n",
    "Image(url= \"https://media.giphy.com/media/lCL2GQewp7fkk/giphy.gif\")"
   ]
  },
  {
   "cell_type": "markdown",
   "metadata": {},
   "source": [
    "DBSCAN похож на MS и Spectral Clustering. К данным применяется какое-то преобразование, чтобы скучковать близкие объекты и ещё дальше откинуть выбросы. Потом выбирается какой-то объект и в его окрестностях ищутся другие объекты. Если находятся, то эти объекты сливаются в один кластер и так далее. Если количество объектов в кластере меньше порога, то объекты считаются выбросами. (На самом деле там все немного сложнее чем на картинке, но это не так важно)\n",
    "\n",
    "DBSCAN сам находит количество кластеров и умеет отфильтровывать выбросы. Параметрами можно настраивать объём окрестности и таким оброзом влиять на кластеры."
   ]
  },
  {
   "cell_type": "markdown",
   "metadata": {},
   "source": [
    "Интерактивная визуализация есть тут - https://www.naftaliharris.com/blog/visualizing-dbscan-clustering/"
   ]
  },
  {
   "cell_type": "code",
   "execution_count": 57,
   "metadata": {},
   "outputs": [],
   "source": [
    "sample = data.sample(frac=0.05)"
   ]
  },
  {
   "cell_type": "code",
   "execution_count": 58,
   "metadata": {},
   "outputs": [
    {
     "data": {
      "text/plain": [
       "(12711, 2)"
      ]
     },
     "execution_count": 58,
     "metadata": {},
     "output_type": "execute_result"
    }
   ],
   "source": [
    "sample.shape"
   ]
  },
  {
   "cell_type": "markdown",
   "metadata": {},
   "source": [
    "Аггломеративная кластеризация не умеет работать с sparse матрицами, можно понизить размерность через svd"
   ]
  },
  {
   "cell_type": "code",
   "execution_count": 59,
   "metadata": {},
   "outputs": [],
   "source": [
    "cv = CountVectorizer(max_features=2000)\n",
    "svd = TruncatedSVD(50)\n",
    "X = cv.fit_transform(sample['title'])\n",
    "X_svd = svd.fit_transform(X)\n",
    "\n",
    "y = sample['category_name']"
   ]
  },
  {
   "cell_type": "code",
   "execution_count": 60,
   "metadata": {},
   "outputs": [
    {
     "data": {
      "text/plain": [
       "(12711, 2000)"
      ]
     },
     "execution_count": 60,
     "metadata": {},
     "output_type": "execute_result"
    }
   ],
   "source": [
    "X.shape"
   ]
  },
  {
   "cell_type": "code",
   "execution_count": 61,
   "metadata": {},
   "outputs": [
    {
     "data": {
      "text/plain": [
       "DBSCAN(algorithm='auto', eps=0.3, leaf_size=30, metric='euclidean',\n",
       "       metric_params=None, min_samples=10, n_jobs=None, p=None)"
      ]
     },
     "execution_count": 61,
     "metadata": {},
     "output_type": "execute_result"
    }
   ],
   "source": [
    "# eps - задает максимальную для объединения дистанцию между объектами == размер окрестности\n",
    "# min_samples - минимальное количество объектов в классе\n",
    "\n",
    "cluster = DBSCAN(min_samples=10, eps=0.3) \n",
    "cluster.fit(X_svd)"
   ]
  },
  {
   "cell_type": "markdown",
   "metadata": {},
   "source": [
    "Метки кластеров для всех объектов в датасете лежат в cluster.labels_"
   ]
  },
  {
   "cell_type": "code",
   "execution_count": 62,
   "metadata": {},
   "outputs": [
    {
     "data": {
      "text/plain": [
       "array([ 0,  1,  2, ..., -1,  2,  0])"
      ]
     },
     "execution_count": 62,
     "metadata": {},
     "output_type": "execute_result"
    }
   ],
   "source": [
    "cluster.labels_"
   ]
  },
  {
   "cell_type": "markdown",
   "metadata": {},
   "source": [
    "Посмотрим сколько кластеров образовалось"
   ]
  },
  {
   "cell_type": "code",
   "execution_count": 63,
   "metadata": {},
   "outputs": [
    {
     "data": {
      "text/plain": [
       "93"
      ]
     },
     "execution_count": 63,
     "metadata": {},
     "output_type": "execute_result"
    }
   ],
   "source": [
    "len(set(cluster.labels_))"
   ]
  },
  {
   "cell_type": "markdown",
   "metadata": {},
   "source": [
    "Давайте попробуем посчитать метрики "
   ]
  },
  {
   "cell_type": "code",
   "execution_count": 64,
   "metadata": {
    "scrolled": true
   },
   "outputs": [],
   "source": [
    "labels = cluster.labels_"
   ]
  },
  {
   "cell_type": "code",
   "execution_count": 65,
   "metadata": {},
   "outputs": [
    {
     "name": "stdout",
     "output_type": "stream",
     "text": [
      "Silhouette Coefficient: 0.063\n"
     ]
    }
   ],
   "source": [
    "print(\"Silhouette Coefficient: %0.3f\"\n",
    "      % metrics.silhouette_score(X, labels))"
   ]
  },
  {
   "cell_type": "code",
   "execution_count": 66,
   "metadata": {},
   "outputs": [
    {
     "name": "stdout",
     "output_type": "stream",
     "text": [
      "Homogeneity: 0.281\n",
      "Completeness: 0.334\n",
      "V-measure: 0.305\n",
      "Adjusted Rand Index: -0.012\n",
      "Adjusted Mutual Information: 0.272\n"
     ]
    }
   ],
   "source": [
    "# эти три метрки что-то вроде точности, полноты и ф-меры для кластеризации\n",
    "print(\"Homogeneity: %0.3f\" % metrics.homogeneity_score(y, labels)) # проверяет, что в кластере объекты одного класса\n",
    "print(\"Completeness: %0.3f\" % metrics.completeness_score(y, labels)) # проверяет, что объекты класса только в одном кластере\n",
    "print(\"V-measure: %0.3f\" % metrics.v_measure_score(y, labels)) # превращает обе метрики в одну \n",
    "\n",
    "print(\"Adjusted Rand Index: %0.3f\"\n",
    "      % metrics.adjusted_rand_score(y, labels))\n",
    "print(\"Adjusted Mutual Information: %0.3f\"\n",
    "      % metrics.adjusted_mutual_info_score(y, labels))"
   ]
  },
  {
   "cell_type": "code",
   "execution_count": 67,
   "metadata": {},
   "outputs": [],
   "source": [
    "sample['cluster'] = cluster.labels_"
   ]
  },
  {
   "cell_type": "code",
   "execution_count": 68,
   "metadata": {
    "scrolled": true
   },
   "outputs": [
    {
     "data": {
      "text/html": [
       "<div>\n",
       "<style scoped>\n",
       "    .dataframe tbody tr th:only-of-type {\n",
       "        vertical-align: middle;\n",
       "    }\n",
       "\n",
       "    .dataframe tbody tr th {\n",
       "        vertical-align: top;\n",
       "    }\n",
       "\n",
       "    .dataframe thead th {\n",
       "        text-align: right;\n",
       "    }\n",
       "</style>\n",
       "<table border=\"1\" class=\"dataframe\">\n",
       "  <thead>\n",
       "    <tr style=\"text-align: right;\">\n",
       "      <th></th>\n",
       "      <th>category_name</th>\n",
       "      <th>title</th>\n",
       "      <th>cluster</th>\n",
       "    </tr>\n",
       "  </thead>\n",
       "  <tbody>\n",
       "    <tr>\n",
       "      <th>221980</th>\n",
       "      <td>Спорт и отдых</td>\n",
       "      <td>Детские ласты</td>\n",
       "      <td>5</td>\n",
       "    </tr>\n",
       "    <tr>\n",
       "      <th>178823</th>\n",
       "      <td>Детская одежда и обувь</td>\n",
       "      <td>Детские осенние сапожки б/у с подсветкой</td>\n",
       "      <td>5</td>\n",
       "    </tr>\n",
       "    <tr>\n",
       "      <th>216991</th>\n",
       "      <td>Детская одежда и обувь</td>\n",
       "      <td>Сапожки детские</td>\n",
       "      <td>5</td>\n",
       "    </tr>\n",
       "    <tr>\n",
       "      <th>191678</th>\n",
       "      <td>Детская одежда и обувь</td>\n",
       "      <td>Детские ортопедические стельки Зима-Талус, 19 см</td>\n",
       "      <td>5</td>\n",
       "    </tr>\n",
       "    <tr>\n",
       "      <th>234654</th>\n",
       "      <td>Товары для детей и игрушки</td>\n",
       "      <td>Детские качели</td>\n",
       "      <td>5</td>\n",
       "    </tr>\n",
       "  </tbody>\n",
       "</table>\n",
       "</div>"
      ],
      "text/plain": [
       "                     category_name  \\\n",
       "221980               Спорт и отдых   \n",
       "178823      Детская одежда и обувь   \n",
       "216991      Детская одежда и обувь   \n",
       "191678      Детская одежда и обувь   \n",
       "234654  Товары для детей и игрушки   \n",
       "\n",
       "                                                   title  cluster  \n",
       "221980                                     Детские ласты        5  \n",
       "178823          Детские осенние сапожки б/у с подсветкой        5  \n",
       "216991                                   Сапожки детские        5  \n",
       "191678  Детские ортопедические стельки Зима-Талус, 19 см        5  \n",
       "234654                                    Детские качели        5  "
      ]
     },
     "execution_count": 68,
     "metadata": {},
     "output_type": "execute_result"
    }
   ],
   "source": [
    "sample[sample.cluster==5].head()"
   ]
  },
  {
   "cell_type": "markdown",
   "metadata": {},
   "source": [
    "Есть еще HDBSCAN - оптимизированная версия DBSCAN. Его нет в sklearn, но есть отдельная библиотека с аналогичным интерфейсом - https://hdbscan.readthedocs.io/en/latest/how_hdbscan_works.html "
   ]
  },
  {
   "cell_type": "markdown",
   "metadata": {},
   "source": [
    "## KMeans"
   ]
  },
  {
   "cell_type": "code",
   "execution_count": 72,
   "metadata": {},
   "outputs": [
    {
     "data": {
      "text/html": [
       "<img src=\"https://media.giphy.com/media/hgCM9JNzlqAr6/giphy.gif\"/>"
      ],
      "text/plain": [
       "<IPython.core.display.Image object>"
      ]
     },
     "execution_count": 72,
     "metadata": {},
     "output_type": "execute_result"
    }
   ],
   "source": [
    "from IPython.display import Image\n",
    "from IPython.core.display import HTML \n",
    "Image(url= \"https://media.giphy.com/media/hgCM9JNzlqAr6/giphy.gif\")"
   ]
  },
  {
   "cell_type": "markdown",
   "metadata": {},
   "source": [
    "KMeans наверное самый известный алгоритм кластеризации. Выбирается количество кластеров, случайно раскидываются центры этих кластеров, объекты относятся к ближайшим кластерам, центры кластеров пересчитываются в среднее значение попавших в него объектов."
   ]
  },
  {
   "cell_type": "markdown",
   "metadata": {},
   "source": [
    "Более интерактивную версию можно посмотреть вот тут - https://www.naftaliharris.com/blog/visualizing-k-means-clustering/"
   ]
  },
  {
   "cell_type": "markdown",
   "metadata": {},
   "source": [
    "KMeans достаточно быстрый"
   ]
  },
  {
   "cell_type": "code",
   "execution_count": 69,
   "metadata": {},
   "outputs": [],
   "source": [
    "sample = data.sample(frac=0.1)"
   ]
  },
  {
   "cell_type": "code",
   "execution_count": 70,
   "metadata": {},
   "outputs": [
    {
     "data": {
      "text/plain": [
       "(25422, 2)"
      ]
     },
     "execution_count": 70,
     "metadata": {},
     "output_type": "execute_result"
    }
   ],
   "source": [
    "sample.shape"
   ]
  },
  {
   "cell_type": "markdown",
   "metadata": {},
   "source": [
    "Kmeans и так и так может"
   ]
  },
  {
   "cell_type": "code",
   "execution_count": 71,
   "metadata": {},
   "outputs": [],
   "source": [
    "cv = CountVectorizer(max_features=500)\n",
    "svd = TruncatedSVD(50)\n",
    "X = cv.fit_transform(sample['title'])\n",
    "X_svd = svd.fit_transform(X)\n",
    "\n",
    "y = sample['category_name']"
   ]
  },
  {
   "cell_type": "code",
   "execution_count": 72,
   "metadata": {},
   "outputs": [
    {
     "data": {
      "text/plain": [
       "47"
      ]
     },
     "execution_count": 72,
     "metadata": {},
     "output_type": "execute_result"
    }
   ],
   "source": [
    "len(y.unique())"
   ]
  },
  {
   "cell_type": "code",
   "execution_count": 73,
   "metadata": {},
   "outputs": [
    {
     "data": {
      "text/plain": [
       "(25422, 500)"
      ]
     },
     "execution_count": 73,
     "metadata": {},
     "output_type": "execute_result"
    }
   ],
   "source": [
    "X.shape"
   ]
  },
  {
   "cell_type": "code",
   "execution_count": 74,
   "metadata": {},
   "outputs": [
    {
     "data": {
      "text/plain": [
       "KMeans(algorithm='auto', copy_x=True, init='k-means++', max_iter=300,\n",
       "       n_clusters=47, n_init=10, n_jobs=None, precompute_distances='auto',\n",
       "       random_state=None, tol=0.0001, verbose=0)"
      ]
     },
     "execution_count": 74,
     "metadata": {},
     "output_type": "execute_result"
    }
   ],
   "source": [
    "cluster = KMeans(n_clusters=47)\n",
    "cluster.fit(X_svd)"
   ]
  },
  {
   "cell_type": "code",
   "execution_count": 75,
   "metadata": {},
   "outputs": [],
   "source": [
    "labels = cluster.labels_"
   ]
  },
  {
   "cell_type": "markdown",
   "metadata": {},
   "source": [
    "Давайте попробуем посчитать метрики (данных теперь больше и силуэты долго будут считаться)"
   ]
  },
  {
   "cell_type": "code",
   "execution_count": 76,
   "metadata": {
    "scrolled": true
   },
   "outputs": [
    {
     "name": "stdout",
     "output_type": "stream",
     "text": [
      "Silhouette Coefficient: 0.246\n"
     ]
    }
   ],
   "source": [
    "print(\"Silhouette Coefficient: %0.3f\"\n",
    "      % metrics.silhouette_score(X[:10000], labels[:10000]))"
   ]
  },
  {
   "cell_type": "code",
   "execution_count": 77,
   "metadata": {},
   "outputs": [
    {
     "name": "stdout",
     "output_type": "stream",
     "text": [
      "Homogeneity: 0.295\n",
      "Completeness: 0.378\n",
      "V-measure: 0.331\n",
      "Adjusted Rand Index: -0.000\n",
      "Adjusted Mutual Information: 0.321\n"
     ]
    }
   ],
   "source": [
    "# эти три метрки что-то вроде точности, полноты и ф-меры для кластеризации\n",
    "print(\"Homogeneity: %0.3f\" % metrics.homogeneity_score(y, labels)) # проверяет, что в кластере объекты одного класса\n",
    "print(\"Completeness: %0.3f\" % metrics.completeness_score(y, labels)) # проверяет, что объекты класса только в одном кластере\n",
    "print(\"V-measure: %0.3f\" % metrics.v_measure_score(y, labels)) # превращает обе метрики в одну \n",
    "\n",
    "print(\"Adjusted Rand Index: %0.3f\"\n",
    "      % metrics.adjusted_rand_score(y, labels))\n",
    "print(\"Adjusted Mutual Information: %0.3f\"\n",
    "      % metrics.adjusted_mutual_info_score(y, labels))"
   ]
  },
  {
   "cell_type": "code",
   "execution_count": 78,
   "metadata": {},
   "outputs": [],
   "source": [
    "sample['cluster'] = cluster.labels_"
   ]
  },
  {
   "cell_type": "code",
   "execution_count": 79,
   "metadata": {
    "scrolled": true
   },
   "outputs": [
    {
     "data": {
      "text/html": [
       "<div>\n",
       "<style scoped>\n",
       "    .dataframe tbody tr th:only-of-type {\n",
       "        vertical-align: middle;\n",
       "    }\n",
       "\n",
       "    .dataframe tbody tr th {\n",
       "        vertical-align: top;\n",
       "    }\n",
       "\n",
       "    .dataframe thead th {\n",
       "        text-align: right;\n",
       "    }\n",
       "</style>\n",
       "<table border=\"1\" class=\"dataframe\">\n",
       "  <thead>\n",
       "    <tr style=\"text-align: right;\">\n",
       "      <th></th>\n",
       "      <th>category_name</th>\n",
       "      <th>title</th>\n",
       "      <th>cluster</th>\n",
       "    </tr>\n",
       "  </thead>\n",
       "  <tbody>\n",
       "    <tr>\n",
       "      <th>202911</th>\n",
       "      <td>Телефоны</td>\n",
       "      <td>iPhone 5s Gold идеальный</td>\n",
       "      <td>13</td>\n",
       "    </tr>\n",
       "    <tr>\n",
       "      <th>119699</th>\n",
       "      <td>Телефоны</td>\n",
       "      <td>iPhone 6 Plus 64 gb восстановленный новый</td>\n",
       "      <td>13</td>\n",
       "    </tr>\n",
       "    <tr>\n",
       "      <th>222488</th>\n",
       "      <td>Телефоны</td>\n",
       "      <td>Чехол на iPhone 6,6S</td>\n",
       "      <td>13</td>\n",
       "    </tr>\n",
       "    <tr>\n",
       "      <th>97714</th>\n",
       "      <td>Телефоны</td>\n",
       "      <td>iPhone 4s 8g</td>\n",
       "      <td>13</td>\n",
       "    </tr>\n",
       "    <tr>\n",
       "      <th>21647</th>\n",
       "      <td>Телефоны</td>\n",
       "      <td>iPhone 5s не исправный</td>\n",
       "      <td>13</td>\n",
       "    </tr>\n",
       "  </tbody>\n",
       "</table>\n",
       "</div>"
      ],
      "text/plain": [
       "       category_name                                      title  cluster\n",
       "202911      Телефоны                   iPhone 5s Gold идеальный       13\n",
       "119699      Телефоны  iPhone 6 Plus 64 gb восстановленный новый       13\n",
       "222488      Телефоны                       Чехол на iPhone 6,6S       13\n",
       "97714       Телефоны                               iPhone 4s 8g       13\n",
       "21647       Телефоны                     iPhone 5s не исправный       13"
      ]
     },
     "execution_count": 79,
     "metadata": {},
     "output_type": "execute_result"
    }
   ],
   "source": [
    "sample[sample.cluster==13].head()"
   ]
  },
  {
   "cell_type": "markdown",
   "metadata": {},
   "source": [
    "# MiniBatchKMeans"
   ]
  },
  {
   "cell_type": "markdown",
   "metadata": {},
   "source": [
    "Kmeans работает и быстрее и переваривает больше данных, чем предыдущие алгоритмы. Но есть и ещё более мощный алгоритм - MiniBatchKmeans. По названию можно догадаться, что это тот же Kmeans только на батчах. Кластеры обновляются на батчах, что позволяет значительно ускорить схождение и уменьшить требования к памяти. MiniBatchKmeans может переварить огромные датасеты (никакого сэмпла тут делать не надо). Результат конечно будет отличаться от Kmeans в худшую сторону, но есть эксперименты, которые показывают, что отличие не значительное и перекрывается остальными преимуществами."
   ]
  },
  {
   "cell_type": "code",
   "execution_count": 84,
   "metadata": {},
   "outputs": [],
   "source": [
    "cv = CountVectorizer(max_features=5000)\n",
    "svd = TruncatedSVD(200)\n",
    "X = cv.fit_transform(data['title'])\n",
    "X_svd = svd.fit_transform(X)\n",
    "\n",
    "y = data['category_name']"
   ]
  },
  {
   "cell_type": "code",
   "execution_count": 85,
   "metadata": {},
   "outputs": [
    {
     "data": {
      "text/plain": [
       "(254219, 5000)"
      ]
     },
     "execution_count": 85,
     "metadata": {},
     "output_type": "execute_result"
    }
   ],
   "source": [
    "X.shape"
   ]
  },
  {
   "cell_type": "code",
   "execution_count": 86,
   "metadata": {},
   "outputs": [
    {
     "data": {
      "text/plain": [
       "47"
      ]
     },
     "execution_count": 86,
     "metadata": {},
     "output_type": "execute_result"
    }
   ],
   "source": [
    "len(y.unique())"
   ]
  },
  {
   "cell_type": "code",
   "execution_count": 87,
   "metadata": {
    "scrolled": true
   },
   "outputs": [
    {
     "name": "stdout",
     "output_type": "stream",
     "text": [
      "Init 1/3 with method: k-means++\n",
      "Inertia for init 1/3: 706.293282\n",
      "Init 2/3 with method: k-means++\n",
      "Inertia for init 2/3: 698.754862\n",
      "Init 3/3 with method: k-means++\n",
      "Inertia for init 3/3: 699.477569\n",
      "Minibatch iteration 1/12715000: mean batch inertia: 0.212896, ewa inertia: 0.212896 \n",
      "Minibatch iteration 2/12715000: mean batch inertia: 0.214013, ewa inertia: 0.212896 \n",
      "Minibatch iteration 3/12715000: mean batch inertia: 0.219154, ewa inertia: 0.212901 \n",
      "Minibatch iteration 4/12715000: mean batch inertia: 0.138713, ewa inertia: 0.212843 \n",
      "Minibatch iteration 5/12715000: mean batch inertia: 0.177295, ewa inertia: 0.212815 \n",
      "Minibatch iteration 6/12715000: mean batch inertia: 0.252632, ewa inertia: 0.212846 \n",
      "Minibatch iteration 7/12715000: mean batch inertia: 0.201016, ewa inertia: 0.212837 \n",
      "Minibatch iteration 8/12715000: mean batch inertia: 0.245555, ewa inertia: 0.212863 \n",
      "Minibatch iteration 9/12715000: mean batch inertia: 0.273568, ewa inertia: 0.212911 \n",
      "[MiniBatchKMeans] Reassigning 50 cluster centers.\n",
      "Minibatch iteration 10/12715000: mean batch inertia: 0.184194, ewa inertia: 0.212888 \n",
      "Minibatch iteration 11/12715000: mean batch inertia: 0.209850, ewa inertia: 0.212886 \n",
      "Minibatch iteration 12/12715000: mean batch inertia: 0.317993, ewa inertia: 0.212968 \n",
      "Minibatch iteration 13/12715000: mean batch inertia: 0.174542, ewa inertia: 0.212938 \n",
      "Minibatch iteration 14/12715000: mean batch inertia: 0.170747, ewa inertia: 0.212905 \n",
      "Minibatch iteration 15/12715000: mean batch inertia: 0.229672, ewa inertia: 0.212918 \n",
      "Minibatch iteration 16/12715000: mean batch inertia: 0.252860, ewa inertia: 0.212949 \n",
      "Minibatch iteration 17/12715000: mean batch inertia: 0.207824, ewa inertia: 0.212945 \n",
      "Minibatch iteration 18/12715000: mean batch inertia: 0.299278, ewa inertia: 0.213013 \n",
      "Minibatch iteration 19/12715000: mean batch inertia: 0.130297, ewa inertia: 0.212948 \n",
      "[MiniBatchKMeans] Reassigning 50 cluster centers.\n",
      "Minibatch iteration 20/12715000: mean batch inertia: 0.156206, ewa inertia: 0.212904 \n",
      "Minibatch iteration 21/12715000: mean batch inertia: 0.174451, ewa inertia: 0.212873 \n",
      "Minibatch iteration 22/12715000: mean batch inertia: 0.240054, ewa inertia: 0.212895 \n",
      "Minibatch iteration 23/12715000: mean batch inertia: 0.250751, ewa inertia: 0.212925 \n",
      "Minibatch iteration 24/12715000: mean batch inertia: 0.163169, ewa inertia: 0.212885 \n",
      "Minibatch iteration 25/12715000: mean batch inertia: 0.232541, ewa inertia: 0.212901 \n",
      "Minibatch iteration 26/12715000: mean batch inertia: 0.207580, ewa inertia: 0.212897 \n",
      "Minibatch iteration 27/12715000: mean batch inertia: 0.165296, ewa inertia: 0.212859 \n",
      "Minibatch iteration 28/12715000: mean batch inertia: 0.275264, ewa inertia: 0.212908 \n",
      "Minibatch iteration 29/12715000: mean batch inertia: 0.229542, ewa inertia: 0.212921 \n",
      "[MiniBatchKMeans] Reassigning 50 cluster centers.\n",
      "Minibatch iteration 30/12715000: mean batch inertia: 0.168222, ewa inertia: 0.212886 \n",
      "Minibatch iteration 31/12715000: mean batch inertia: 0.268872, ewa inertia: 0.212930 \n",
      "Minibatch iteration 32/12715000: mean batch inertia: 0.182475, ewa inertia: 0.212906 \n",
      "Minibatch iteration 33/12715000: mean batch inertia: 0.212120, ewa inertia: 0.212906 \n",
      "Minibatch iteration 34/12715000: mean batch inertia: 0.183429, ewa inertia: 0.212883 \n",
      "Minibatch iteration 35/12715000: mean batch inertia: 0.154762, ewa inertia: 0.212837 \n",
      "Minibatch iteration 36/12715000: mean batch inertia: 0.158022, ewa inertia: 0.212794 \n",
      "Minibatch iteration 37/12715000: mean batch inertia: 0.135946, ewa inertia: 0.212733 \n",
      "Minibatch iteration 38/12715000: mean batch inertia: 0.132130, ewa inertia: 0.212670 \n",
      "Minibatch iteration 39/12715000: mean batch inertia: 0.211879, ewa inertia: 0.212669 \n",
      "[MiniBatchKMeans] Reassigning 50 cluster centers.\n",
      "Minibatch iteration 40/12715000: mean batch inertia: 0.254626, ewa inertia: 0.212702 \n",
      "Minibatch iteration 41/12715000: mean batch inertia: 0.217213, ewa inertia: 0.212706 \n",
      "Minibatch iteration 42/12715000: mean batch inertia: 0.188339, ewa inertia: 0.212687 \n",
      "Minibatch iteration 43/12715000: mean batch inertia: 0.225647, ewa inertia: 0.212697 \n",
      "Minibatch iteration 44/12715000: mean batch inertia: 0.203866, ewa inertia: 0.212690 \n",
      "Minibatch iteration 45/12715000: mean batch inertia: 0.279327, ewa inertia: 0.212742 \n",
      "Minibatch iteration 46/12715000: mean batch inertia: 0.161550, ewa inertia: 0.212702 \n",
      "Minibatch iteration 47/12715000: mean batch inertia: 0.220209, ewa inertia: 0.212708 \n",
      "Minibatch iteration 48/12715000: mean batch inertia: 0.147067, ewa inertia: 0.212656 \n",
      "Minibatch iteration 49/12715000: mean batch inertia: 0.229459, ewa inertia: 0.212669 \n",
      "[MiniBatchKMeans] Reassigning 50 cluster centers.\n",
      "Minibatch iteration 50/12715000: mean batch inertia: 0.191923, ewa inertia: 0.212653 \n",
      "Minibatch iteration 51/12715000: mean batch inertia: 0.225629, ewa inertia: 0.212663 \n",
      "Minibatch iteration 52/12715000: mean batch inertia: 0.202308, ewa inertia: 0.212655 \n",
      "Minibatch iteration 53/12715000: mean batch inertia: 0.151679, ewa inertia: 0.212607 \n",
      "Minibatch iteration 54/12715000: mean batch inertia: 0.199163, ewa inertia: 0.212597 \n",
      "Minibatch iteration 55/12715000: mean batch inertia: 0.116633, ewa inertia: 0.212521 \n",
      "Minibatch iteration 56/12715000: mean batch inertia: 0.284870, ewa inertia: 0.212578 \n",
      "Minibatch iteration 57/12715000: mean batch inertia: 0.208544, ewa inertia: 0.212575 \n",
      "Minibatch iteration 58/12715000: mean batch inertia: 0.180224, ewa inertia: 0.212549 \n",
      "Minibatch iteration 59/12715000: mean batch inertia: 0.158912, ewa inertia: 0.212507 \n",
      "[MiniBatchKMeans] Reassigning 50 cluster centers.\n",
      "Minibatch iteration 60/12715000: mean batch inertia: 0.245973, ewa inertia: 0.212534 \n",
      "Minibatch iteration 61/12715000: mean batch inertia: 0.190663, ewa inertia: 0.212516 \n",
      "Minibatch iteration 62/12715000: mean batch inertia: 0.244205, ewa inertia: 0.212541 \n",
      "Minibatch iteration 63/12715000: mean batch inertia: 0.199223, ewa inertia: 0.212531 \n",
      "Minibatch iteration 64/12715000: mean batch inertia: 0.252346, ewa inertia: 0.212562 \n",
      "Minibatch iteration 65/12715000: mean batch inertia: 0.199173, ewa inertia: 0.212552 \n",
      "Minibatch iteration 66/12715000: mean batch inertia: 0.206645, ewa inertia: 0.212547 \n",
      "Minibatch iteration 67/12715000: mean batch inertia: 0.131990, ewa inertia: 0.212484 \n",
      "Minibatch iteration 68/12715000: mean batch inertia: 0.294861, ewa inertia: 0.212548 \n",
      "Minibatch iteration 69/12715000: mean batch inertia: 0.192641, ewa inertia: 0.212533 \n",
      "[MiniBatchKMeans] Reassigning 50 cluster centers.\n",
      "Minibatch iteration 70/12715000: mean batch inertia: 0.179100, ewa inertia: 0.212506 \n",
      "Minibatch iteration 71/12715000: mean batch inertia: 0.296820, ewa inertia: 0.212573 \n",
      "Minibatch iteration 72/12715000: mean batch inertia: 0.255431, ewa inertia: 0.212606 \n",
      "Minibatch iteration 73/12715000: mean batch inertia: 0.208364, ewa inertia: 0.212603 \n",
      "Minibatch iteration 74/12715000: mean batch inertia: 0.170552, ewa inertia: 0.212570 \n",
      "Minibatch iteration 75/12715000: mean batch inertia: 0.246565, ewa inertia: 0.212597 \n",
      "Minibatch iteration 76/12715000: mean batch inertia: 0.185911, ewa inertia: 0.212576 \n",
      "Minibatch iteration 77/12715000: mean batch inertia: 0.182935, ewa inertia: 0.212552 \n",
      "Minibatch iteration 78/12715000: mean batch inertia: 0.117247, ewa inertia: 0.212478 \n",
      "Minibatch iteration 79/12715000: mean batch inertia: 0.325831, ewa inertia: 0.212567 \n",
      "[MiniBatchKMeans] Reassigning 50 cluster centers.\n",
      "Minibatch iteration 80/12715000: mean batch inertia: 0.201453, ewa inertia: 0.212558 \n",
      "Minibatch iteration 81/12715000: mean batch inertia: 0.193171, ewa inertia: 0.212543 \n",
      "Minibatch iteration 82/12715000: mean batch inertia: 0.190575, ewa inertia: 0.212525 \n",
      "Minibatch iteration 83/12715000: mean batch inertia: 0.216646, ewa inertia: 0.212529 \n",
      "Minibatch iteration 84/12715000: mean batch inertia: 0.192214, ewa inertia: 0.212513 \n",
      "Minibatch iteration 85/12715000: mean batch inertia: 0.258831, ewa inertia: 0.212549 \n",
      "Minibatch iteration 86/12715000: mean batch inertia: 0.231527, ewa inertia: 0.212564 \n",
      "Minibatch iteration 87/12715000: mean batch inertia: 0.263957, ewa inertia: 0.212604 \n",
      "Minibatch iteration 88/12715000: mean batch inertia: 0.178598, ewa inertia: 0.212578 \n",
      "Minibatch iteration 89/12715000: mean batch inertia: 0.201023, ewa inertia: 0.212569 \n",
      "[MiniBatchKMeans] Reassigning 50 cluster centers.\n",
      "Minibatch iteration 90/12715000: mean batch inertia: 0.186210, ewa inertia: 0.212548 \n",
      "Minibatch iteration 91/12715000: mean batch inertia: 0.304139, ewa inertia: 0.212620 \n",
      "Minibatch iteration 92/12715000: mean batch inertia: 0.175854, ewa inertia: 0.212591 \n",
      "Minibatch iteration 93/12715000: mean batch inertia: 0.211984, ewa inertia: 0.212591 \n",
      "Minibatch iteration 94/12715000: mean batch inertia: 0.210037, ewa inertia: 0.212589 \n",
      "Minibatch iteration 95/12715000: mean batch inertia: 0.126723, ewa inertia: 0.212521 \n",
      "Minibatch iteration 96/12715000: mean batch inertia: 0.245324, ewa inertia: 0.212547 \n",
      "Minibatch iteration 97/12715000: mean batch inertia: 0.255507, ewa inertia: 0.212581 \n"
     ]
    },
    {
     "name": "stdout",
     "output_type": "stream",
     "text": [
      "Minibatch iteration 98/12715000: mean batch inertia: 0.189045, ewa inertia: 0.212562 \n",
      "Minibatch iteration 99/12715000: mean batch inertia: 0.238965, ewa inertia: 0.212583 \n",
      "[MiniBatchKMeans] Reassigning 50 cluster centers.\n",
      "Minibatch iteration 100/12715000: mean batch inertia: 0.232636, ewa inertia: 0.212599 \n",
      "Minibatch iteration 101/12715000: mean batch inertia: 0.141542, ewa inertia: 0.212543 \n",
      "Minibatch iteration 102/12715000: mean batch inertia: 0.208840, ewa inertia: 0.212540 \n",
      "Minibatch iteration 103/12715000: mean batch inertia: 0.226498, ewa inertia: 0.212551 \n",
      "Minibatch iteration 104/12715000: mean batch inertia: 0.245737, ewa inertia: 0.212577 \n",
      "Minibatch iteration 105/12715000: mean batch inertia: 0.150108, ewa inertia: 0.212528 \n",
      "Minibatch iteration 106/12715000: mean batch inertia: 0.190367, ewa inertia: 0.212510 \n",
      "Minibatch iteration 107/12715000: mean batch inertia: 0.171008, ewa inertia: 0.212478 \n",
      "Minibatch iteration 108/12715000: mean batch inertia: 0.267301, ewa inertia: 0.212521 \n",
      "Minibatch iteration 109/12715000: mean batch inertia: 0.217606, ewa inertia: 0.212525 \n",
      "[MiniBatchKMeans] Reassigning 50 cluster centers.\n",
      "Minibatch iteration 110/12715000: mean batch inertia: 0.141287, ewa inertia: 0.212469 \n",
      "Minibatch iteration 111/12715000: mean batch inertia: 0.251283, ewa inertia: 0.212499 \n",
      "Minibatch iteration 112/12715000: mean batch inertia: 0.187421, ewa inertia: 0.212480 \n",
      "Minibatch iteration 113/12715000: mean batch inertia: 0.161796, ewa inertia: 0.212440 \n",
      "Minibatch iteration 114/12715000: mean batch inertia: 0.228753, ewa inertia: 0.212453 \n",
      "Minibatch iteration 115/12715000: mean batch inertia: 0.172310, ewa inertia: 0.212421 \n",
      "Minibatch iteration 116/12715000: mean batch inertia: 0.122925, ewa inertia: 0.212351 \n",
      "Minibatch iteration 117/12715000: mean batch inertia: 0.231566, ewa inertia: 0.212366 \n",
      "Minibatch iteration 118/12715000: mean batch inertia: 0.172934, ewa inertia: 0.212335 \n",
      "Minibatch iteration 119/12715000: mean batch inertia: 0.239752, ewa inertia: 0.212356 \n",
      "Minibatch iteration 120/12715000: mean batch inertia: 0.216677, ewa inertia: 0.212360 \n",
      "[MiniBatchKMeans] Reassigning 50 cluster centers.\n",
      "Minibatch iteration 121/12715000: mean batch inertia: 0.273163, ewa inertia: 0.212407 \n",
      "Minibatch iteration 122/12715000: mean batch inertia: 0.219140, ewa inertia: 0.212413 \n",
      "Minibatch iteration 123/12715000: mean batch inertia: 0.244052, ewa inertia: 0.212438 \n",
      "Minibatch iteration 124/12715000: mean batch inertia: 0.218185, ewa inertia: 0.212442 \n",
      "Minibatch iteration 125/12715000: mean batch inertia: 0.158073, ewa inertia: 0.212399 \n",
      "Minibatch iteration 126/12715000: mean batch inertia: 0.216047, ewa inertia: 0.212402 \n",
      "Minibatch iteration 127/12715000: mean batch inertia: 0.208218, ewa inertia: 0.212399 \n",
      "Minibatch iteration 128/12715000: mean batch inertia: 0.225309, ewa inertia: 0.212409 \n",
      "Minibatch iteration 129/12715000: mean batch inertia: 0.289568, ewa inertia: 0.212470 \n",
      "Minibatch iteration 130/12715000: mean batch inertia: 0.216175, ewa inertia: 0.212473 \n",
      "Minibatch iteration 131/12715000: mean batch inertia: 0.233265, ewa inertia: 0.212489 \n",
      "[MiniBatchKMeans] Reassigning 50 cluster centers.\n",
      "Minibatch iteration 132/12715000: mean batch inertia: 0.204421, ewa inertia: 0.212483 \n",
      "Minibatch iteration 133/12715000: mean batch inertia: 0.122438, ewa inertia: 0.212412 \n",
      "Minibatch iteration 134/12715000: mean batch inertia: 0.255963, ewa inertia: 0.212446 \n",
      "Minibatch iteration 135/12715000: mean batch inertia: 0.200888, ewa inertia: 0.212437 \n",
      "Minibatch iteration 136/12715000: mean batch inertia: 0.150700, ewa inertia: 0.212388 \n",
      "Minibatch iteration 137/12715000: mean batch inertia: 0.152872, ewa inertia: 0.212342 \n",
      "Minibatch iteration 138/12715000: mean batch inertia: 0.179627, ewa inertia: 0.212316 \n",
      "Minibatch iteration 139/12715000: mean batch inertia: 0.201896, ewa inertia: 0.212308 \n",
      "Minibatch iteration 140/12715000: mean batch inertia: 0.183258, ewa inertia: 0.212285 \n",
      "Minibatch iteration 141/12715000: mean batch inertia: 0.210054, ewa inertia: 0.212283 \n",
      "Minibatch iteration 142/12715000: mean batch inertia: 0.118358, ewa inertia: 0.212209 \n",
      "[MiniBatchKMeans] Reassigning 50 cluster centers.\n",
      "Minibatch iteration 143/12715000: mean batch inertia: 0.202716, ewa inertia: 0.212202 \n",
      "Minibatch iteration 144/12715000: mean batch inertia: 0.184980, ewa inertia: 0.212180 \n",
      "Minibatch iteration 145/12715000: mean batch inertia: 0.169830, ewa inertia: 0.212147 \n",
      "Minibatch iteration 146/12715000: mean batch inertia: 0.214864, ewa inertia: 0.212149 \n",
      "Minibatch iteration 147/12715000: mean batch inertia: 0.192833, ewa inertia: 0.212134 \n",
      "Minibatch iteration 148/12715000: mean batch inertia: 0.202382, ewa inertia: 0.212126 \n",
      "Minibatch iteration 149/12715000: mean batch inertia: 0.223120, ewa inertia: 0.212135 \n",
      "Minibatch iteration 150/12715000: mean batch inertia: 0.201622, ewa inertia: 0.212127 \n",
      "Minibatch iteration 151/12715000: mean batch inertia: 0.132646, ewa inertia: 0.212064 \n",
      "Minibatch iteration 152/12715000: mean batch inertia: 0.217579, ewa inertia: 0.212068 \n",
      "Minibatch iteration 153/12715000: mean batch inertia: 0.248212, ewa inertia: 0.212097 \n",
      "[MiniBatchKMeans] Reassigning 50 cluster centers.\n",
      "Minibatch iteration 154/12715000: mean batch inertia: 0.142057, ewa inertia: 0.212042 \n",
      "Minibatch iteration 155/12715000: mean batch inertia: 0.161117, ewa inertia: 0.212002 \n",
      "[MiniBatchKMeans] Reassigning 50 cluster centers.\n",
      "Minibatch iteration 156/12715000: mean batch inertia: 0.124769, ewa inertia: 0.211933 \n",
      "Minibatch iteration 157/12715000: mean batch inertia: 0.212332, ewa inertia: 0.211933 \n",
      "Minibatch iteration 158/12715000: mean batch inertia: 0.256351, ewa inertia: 0.211968 \n",
      "Minibatch iteration 159/12715000: mean batch inertia: 0.200864, ewa inertia: 0.211960 \n",
      "Minibatch iteration 160/12715000: mean batch inertia: 0.204886, ewa inertia: 0.211954 \n",
      "Minibatch iteration 161/12715000: mean batch inertia: 0.210842, ewa inertia: 0.211953 \n",
      "Minibatch iteration 162/12715000: mean batch inertia: 0.140837, ewa inertia: 0.211897 \n",
      "Minibatch iteration 163/12715000: mean batch inertia: 0.251509, ewa inertia: 0.211928 \n",
      "Minibatch iteration 164/12715000: mean batch inertia: 0.198957, ewa inertia: 0.211918 \n",
      "Minibatch iteration 165/12715000: mean batch inertia: 0.135783, ewa inertia: 0.211858 \n",
      "Minibatch iteration 166/12715000: mean batch inertia: 0.192524, ewa inertia: 0.211843 \n",
      "Minibatch iteration 167/12715000: mean batch inertia: 0.162732, ewa inertia: 0.211804 \n",
      "[MiniBatchKMeans] Reassigning 50 cluster centers.\n",
      "Minibatch iteration 168/12715000: mean batch inertia: 0.177054, ewa inertia: 0.211777 \n",
      "Minibatch iteration 169/12715000: mean batch inertia: 0.204799, ewa inertia: 0.211772 \n",
      "Minibatch iteration 170/12715000: mean batch inertia: 0.268017, ewa inertia: 0.211816 \n",
      "Minibatch iteration 171/12715000: mean batch inertia: 0.285549, ewa inertia: 0.211874 \n",
      "Minibatch iteration 172/12715000: mean batch inertia: 0.296105, ewa inertia: 0.211940 \n",
      "Minibatch iteration 173/12715000: mean batch inertia: 0.255460, ewa inertia: 0.211974 \n",
      "Minibatch iteration 174/12715000: mean batch inertia: 0.246218, ewa inertia: 0.212001 \n",
      "Minibatch iteration 175/12715000: mean batch inertia: 0.186667, ewa inertia: 0.211981 \n",
      "Minibatch iteration 176/12715000: mean batch inertia: 0.200977, ewa inertia: 0.211973 \n",
      "Minibatch iteration 177/12715000: mean batch inertia: 0.176265, ewa inertia: 0.211945 \n",
      "Minibatch iteration 178/12715000: mean batch inertia: 0.145326, ewa inertia: 0.211892 \n",
      "Minibatch iteration 179/12715000: mean batch inertia: 0.186261, ewa inertia: 0.211872 \n",
      "[MiniBatchKMeans] Reassigning 50 cluster centers.\n",
      "Minibatch iteration 180/12715000: mean batch inertia: 0.281693, ewa inertia: 0.211927 \n",
      "Minibatch iteration 181/12715000: mean batch inertia: 0.150938, ewa inertia: 0.211879 \n",
      "[MiniBatchKMeans] Reassigning 50 cluster centers.\n",
      "Minibatch iteration 182/12715000: mean batch inertia: 0.230165, ewa inertia: 0.211893 \n",
      "Minibatch iteration 183/12715000: mean batch inertia: 0.229955, ewa inertia: 0.211908 \n",
      "Minibatch iteration 184/12715000: mean batch inertia: 0.155130, ewa inertia: 0.211863 \n",
      "Minibatch iteration 185/12715000: mean batch inertia: 0.104088, ewa inertia: 0.211778 \n",
      "Minibatch iteration 186/12715000: mean batch inertia: 0.152226, ewa inertia: 0.211731 \n",
      "Minibatch iteration 187/12715000: mean batch inertia: 0.145181, ewa inertia: 0.211679 \n",
      "Minibatch iteration 188/12715000: mean batch inertia: 0.213299, ewa inertia: 0.211680 \n",
      "Minibatch iteration 189/12715000: mean batch inertia: 0.169812, ewa inertia: 0.211647 \n"
     ]
    },
    {
     "name": "stdout",
     "output_type": "stream",
     "text": [
      "Minibatch iteration 190/12715000: mean batch inertia: 0.288442, ewa inertia: 0.211708 \n",
      "Minibatch iteration 191/12715000: mean batch inertia: 0.332168, ewa inertia: 0.211802 \n",
      "Minibatch iteration 192/12715000: mean batch inertia: 0.187211, ewa inertia: 0.211783 \n",
      "Minibatch iteration 193/12715000: mean batch inertia: 0.179171, ewa inertia: 0.211757 \n",
      "Minibatch iteration 194/12715000: mean batch inertia: 0.237662, ewa inertia: 0.211778 \n",
      "[MiniBatchKMeans] Reassigning 50 cluster centers.\n",
      "Minibatch iteration 195/12715000: mean batch inertia: 0.182432, ewa inertia: 0.211755 \n",
      "Minibatch iteration 196/12715000: mean batch inertia: 0.146734, ewa inertia: 0.211704 \n",
      "Minibatch iteration 197/12715000: mean batch inertia: 0.162894, ewa inertia: 0.211665 \n",
      "Minibatch iteration 198/12715000: mean batch inertia: 0.200520, ewa inertia: 0.211656 \n",
      "Minibatch iteration 199/12715000: mean batch inertia: 0.152397, ewa inertia: 0.211610 \n",
      "Minibatch iteration 200/12715000: mean batch inertia: 0.215783, ewa inertia: 0.211613 \n",
      "Minibatch iteration 201/12715000: mean batch inertia: 0.322208, ewa inertia: 0.211700 \n",
      "Minibatch iteration 202/12715000: mean batch inertia: 0.255488, ewa inertia: 0.211735 \n",
      "Minibatch iteration 203/12715000: mean batch inertia: 0.176511, ewa inertia: 0.211707 \n",
      "Minibatch iteration 204/12715000: mean batch inertia: 0.209026, ewa inertia: 0.211705 \n",
      "Minibatch iteration 205/12715000: mean batch inertia: 0.188998, ewa inertia: 0.211687 \n",
      "Minibatch iteration 206/12715000: mean batch inertia: 0.226071, ewa inertia: 0.211698 \n",
      "Minibatch iteration 207/12715000: mean batch inertia: 0.118873, ewa inertia: 0.211625 \n",
      "[MiniBatchKMeans] Reassigning 50 cluster centers.\n",
      "Minibatch iteration 208/12715000: mean batch inertia: 0.274271, ewa inertia: 0.211674 \n",
      "Minibatch iteration 209/12715000: mean batch inertia: 0.198462, ewa inertia: 0.211664 \n",
      "[MiniBatchKMeans] Reassigning 50 cluster centers.\n",
      "Minibatch iteration 210/12715000: mean batch inertia: 0.202148, ewa inertia: 0.211657 \n",
      "Minibatch iteration 211/12715000: mean batch inertia: 0.154610, ewa inertia: 0.211612 \n",
      "Minibatch iteration 212/12715000: mean batch inertia: 0.190578, ewa inertia: 0.211595 \n",
      "Minibatch iteration 213/12715000: mean batch inertia: 0.197794, ewa inertia: 0.211584 \n",
      "Minibatch iteration 214/12715000: mean batch inertia: 0.178879, ewa inertia: 0.211559 \n",
      "Minibatch iteration 215/12715000: mean batch inertia: 0.160774, ewa inertia: 0.211519 \n",
      "Minibatch iteration 216/12715000: mean batch inertia: 0.223217, ewa inertia: 0.211528 \n",
      "Minibatch iteration 217/12715000: mean batch inertia: 0.312053, ewa inertia: 0.211607 \n",
      "Minibatch iteration 218/12715000: mean batch inertia: 0.238621, ewa inertia: 0.211628 \n",
      "Minibatch iteration 219/12715000: mean batch inertia: 0.118653, ewa inertia: 0.211555 \n",
      "Minibatch iteration 220/12715000: mean batch inertia: 0.191658, ewa inertia: 0.211539 \n",
      "Minibatch iteration 221/12715000: mean batch inertia: 0.160074, ewa inertia: 0.211499 \n",
      "Minibatch iteration 222/12715000: mean batch inertia: 0.252844, ewa inertia: 0.211531 \n",
      "Minibatch iteration 223/12715000: mean batch inertia: 0.171371, ewa inertia: 0.211500 \n",
      "[MiniBatchKMeans] Reassigning 50 cluster centers.\n",
      "Minibatch iteration 224/12715000: mean batch inertia: 0.203942, ewa inertia: 0.211494 \n",
      "Minibatch iteration 225/12715000: mean batch inertia: 0.227043, ewa inertia: 0.211506 \n",
      "Minibatch iteration 226/12715000: mean batch inertia: 0.140623, ewa inertia: 0.211450 \n",
      "Minibatch iteration 227/12715000: mean batch inertia: 0.268321, ewa inertia: 0.211495 \n",
      "Minibatch iteration 228/12715000: mean batch inertia: 0.186355, ewa inertia: 0.211475 \n",
      "Minibatch iteration 229/12715000: mean batch inertia: 0.173865, ewa inertia: 0.211446 \n",
      "Minibatch iteration 230/12715000: mean batch inertia: 0.199029, ewa inertia: 0.211436 \n",
      "Minibatch iteration 231/12715000: mean batch inertia: 0.173605, ewa inertia: 0.211406 \n",
      "Minibatch iteration 232/12715000: mean batch inertia: 0.219817, ewa inertia: 0.211413 \n",
      "Minibatch iteration 233/12715000: mean batch inertia: 0.198297, ewa inertia: 0.211402 \n",
      "Minibatch iteration 234/12715000: mean batch inertia: 0.176151, ewa inertia: 0.211375 \n",
      "Minibatch iteration 235/12715000: mean batch inertia: 0.212734, ewa inertia: 0.211376 \n",
      "Minibatch iteration 236/12715000: mean batch inertia: 0.209515, ewa inertia: 0.211374 \n",
      "Minibatch iteration 237/12715000: mean batch inertia: 0.154797, ewa inertia: 0.211330 \n",
      "[MiniBatchKMeans] Reassigning 50 cluster centers.\n",
      "Minibatch iteration 238/12715000: mean batch inertia: 0.246217, ewa inertia: 0.211357 \n",
      "Minibatch iteration 239/12715000: mean batch inertia: 0.159982, ewa inertia: 0.211317 \n",
      "[MiniBatchKMeans] Reassigning 50 cluster centers.\n",
      "Minibatch iteration 240/12715000: mean batch inertia: 0.270551, ewa inertia: 0.211363 \n",
      "Minibatch iteration 241/12715000: mean batch inertia: 0.116732, ewa inertia: 0.211289 \n",
      "Minibatch iteration 242/12715000: mean batch inertia: 0.204927, ewa inertia: 0.211284 \n",
      "Minibatch iteration 243/12715000: mean batch inertia: 0.152969, ewa inertia: 0.211238 \n",
      "Minibatch iteration 244/12715000: mean batch inertia: 0.106159, ewa inertia: 0.211155 \n",
      "Minibatch iteration 245/12715000: mean batch inertia: 0.167999, ewa inertia: 0.211122 \n",
      "Minibatch iteration 246/12715000: mean batch inertia: 0.201447, ewa inertia: 0.211114 \n",
      "Minibatch iteration 247/12715000: mean batch inertia: 0.201005, ewa inertia: 0.211106 \n",
      "Minibatch iteration 248/12715000: mean batch inertia: 0.246323, ewa inertia: 0.211134 \n",
      "Minibatch iteration 249/12715000: mean batch inertia: 0.199302, ewa inertia: 0.211124 \n",
      "Minibatch iteration 250/12715000: mean batch inertia: 0.225200, ewa inertia: 0.211135 \n",
      "Minibatch iteration 251/12715000: mean batch inertia: 0.221414, ewa inertia: 0.211144 \n",
      "Minibatch iteration 252/12715000: mean batch inertia: 0.182497, ewa inertia: 0.211121 \n",
      "Minibatch iteration 253/12715000: mean batch inertia: 0.322421, ewa inertia: 0.211209 \n",
      "Minibatch iteration 254/12715000: mean batch inertia: 0.152255, ewa inertia: 0.211162 \n",
      "[MiniBatchKMeans] Reassigning 50 cluster centers.\n",
      "Minibatch iteration 255/12715000: mean batch inertia: 0.210937, ewa inertia: 0.211162 \n",
      "Minibatch iteration 256/12715000: mean batch inertia: 0.237896, ewa inertia: 0.211183 \n",
      "Minibatch iteration 257/12715000: mean batch inertia: 0.281540, ewa inertia: 0.211238 \n",
      "Minibatch iteration 258/12715000: mean batch inertia: 0.216204, ewa inertia: 0.211242 \n",
      "Minibatch iteration 259/12715000: mean batch inertia: 0.247912, ewa inertia: 0.211271 \n",
      "Minibatch iteration 260/12715000: mean batch inertia: 0.123924, ewa inertia: 0.211202 \n",
      "Minibatch iteration 261/12715000: mean batch inertia: 0.292004, ewa inertia: 0.211266 \n",
      "Minibatch iteration 262/12715000: mean batch inertia: 0.227832, ewa inertia: 0.211279 \n",
      "Minibatch iteration 263/12715000: mean batch inertia: 0.231366, ewa inertia: 0.211295 \n",
      "Minibatch iteration 264/12715000: mean batch inertia: 0.181810, ewa inertia: 0.211272 \n",
      "Minibatch iteration 265/12715000: mean batch inertia: 0.171027, ewa inertia: 0.211240 \n",
      "Minibatch iteration 266/12715000: mean batch inertia: 0.265856, ewa inertia: 0.211283 \n",
      "Minibatch iteration 267/12715000: mean batch inertia: 0.234550, ewa inertia: 0.211301 \n",
      "Minibatch iteration 268/12715000: mean batch inertia: 0.232334, ewa inertia: 0.211318 \n",
      "Minibatch iteration 269/12715000: mean batch inertia: 0.180566, ewa inertia: 0.211294 \n",
      "[MiniBatchKMeans] Reassigning 50 cluster centers.\n",
      "Minibatch iteration 270/12715000: mean batch inertia: 0.244152, ewa inertia: 0.211319 \n",
      "Minibatch iteration 271/12715000: mean batch inertia: 0.247510, ewa inertia: 0.211348 \n",
      "[MiniBatchKMeans] Reassigning 50 cluster centers.\n",
      "Minibatch iteration 272/12715000: mean batch inertia: 0.193966, ewa inertia: 0.211334 \n",
      "Minibatch iteration 273/12715000: mean batch inertia: 0.196154, ewa inertia: 0.211322 \n",
      "Minibatch iteration 274/12715000: mean batch inertia: 0.175402, ewa inertia: 0.211294 \n",
      "Minibatch iteration 275/12715000: mean batch inertia: 0.173953, ewa inertia: 0.211265 \n",
      "Minibatch iteration 276/12715000: mean batch inertia: 0.281438, ewa inertia: 0.211320 \n",
      "Minibatch iteration 277/12715000: mean batch inertia: 0.126992, ewa inertia: 0.211253 \n",
      "Minibatch iteration 278/12715000: mean batch inertia: 0.206142, ewa inertia: 0.211249 \n",
      "Minibatch iteration 279/12715000: mean batch inertia: 0.211715, ewa inertia: 0.211250 \n",
      "Minibatch iteration 280/12715000: mean batch inertia: 0.135695, ewa inertia: 0.211190 \n",
      "Minibatch iteration 281/12715000: mean batch inertia: 0.173488, ewa inertia: 0.211161 \n",
      "Minibatch iteration 282/12715000: mean batch inertia: 0.194064, ewa inertia: 0.211147 \n",
      "Minibatch iteration 283/12715000: mean batch inertia: 0.175233, ewa inertia: 0.211119 \n",
      "Minibatch iteration 284/12715000: mean batch inertia: 0.238017, ewa inertia: 0.211140 \n",
      "Minibatch iteration 285/12715000: mean batch inertia: 0.299670, ewa inertia: 0.211210 \n"
     ]
    },
    {
     "name": "stdout",
     "output_type": "stream",
     "text": [
      "Minibatch iteration 286/12715000: mean batch inertia: 0.176855, ewa inertia: 0.211183 \n",
      "Minibatch iteration 287/12715000: mean batch inertia: 0.191133, ewa inertia: 0.211167 \n",
      "[MiniBatchKMeans] Reassigning 50 cluster centers.\n",
      "Minibatch iteration 288/12715000: mean batch inertia: 0.189466, ewa inertia: 0.211150 \n",
      "[MiniBatchKMeans] Reassigning 50 cluster centers.\n",
      "Minibatch iteration 289/12715000: mean batch inertia: 0.214218, ewa inertia: 0.211152 \n",
      "Minibatch iteration 290/12715000: mean batch inertia: 0.213011, ewa inertia: 0.211154 \n",
      "Minibatch iteration 291/12715000: mean batch inertia: 0.247303, ewa inertia: 0.211182 \n",
      "Minibatch iteration 292/12715000: mean batch inertia: 0.196364, ewa inertia: 0.211171 \n",
      "Minibatch iteration 293/12715000: mean batch inertia: 0.179064, ewa inertia: 0.211145 \n",
      "Minibatch iteration 294/12715000: mean batch inertia: 0.161497, ewa inertia: 0.211106 \n",
      "Minibatch iteration 295/12715000: mean batch inertia: 0.161781, ewa inertia: 0.211068 \n",
      "Minibatch iteration 296/12715000: mean batch inertia: 0.239192, ewa inertia: 0.211090 \n",
      "Minibatch iteration 297/12715000: mean batch inertia: 0.185899, ewa inertia: 0.211070 \n",
      "Minibatch iteration 298/12715000: mean batch inertia: 0.139108, ewa inertia: 0.211013 \n",
      "Minibatch iteration 299/12715000: mean batch inertia: 0.171943, ewa inertia: 0.210982 \n",
      "Minibatch iteration 300/12715000: mean batch inertia: 0.251911, ewa inertia: 0.211015 \n",
      "Minibatch iteration 301/12715000: mean batch inertia: 0.216187, ewa inertia: 0.211019 \n",
      "Minibatch iteration 302/12715000: mean batch inertia: 0.143763, ewa inertia: 0.210966 \n",
      "Minibatch iteration 303/12715000: mean batch inertia: 0.141740, ewa inertia: 0.210911 \n",
      "Minibatch iteration 304/12715000: mean batch inertia: 0.243502, ewa inertia: 0.210937 \n",
      "Minibatch iteration 305/12715000: mean batch inertia: 0.192828, ewa inertia: 0.210923 \n",
      "[MiniBatchKMeans] Reassigning 50 cluster centers.\n",
      "Minibatch iteration 306/12715000: mean batch inertia: 0.198036, ewa inertia: 0.210913 \n",
      "Minibatch iteration 307/12715000: mean batch inertia: 0.171016, ewa inertia: 0.210881 \n",
      "Minibatch iteration 308/12715000: mean batch inertia: 0.216994, ewa inertia: 0.210886 \n",
      "Minibatch iteration 309/12715000: mean batch inertia: 0.248191, ewa inertia: 0.210915 \n",
      "Minibatch iteration 310/12715000: mean batch inertia: 0.234585, ewa inertia: 0.210934 \n",
      "Minibatch iteration 311/12715000: mean batch inertia: 0.246023, ewa inertia: 0.210962 \n",
      "Minibatch iteration 312/12715000: mean batch inertia: 0.224317, ewa inertia: 0.210972 \n",
      "Minibatch iteration 313/12715000: mean batch inertia: 0.241168, ewa inertia: 0.210996 \n",
      "Minibatch iteration 314/12715000: mean batch inertia: 0.201252, ewa inertia: 0.210988 \n",
      "Minibatch iteration 315/12715000: mean batch inertia: 0.244554, ewa inertia: 0.211015 \n",
      "Minibatch iteration 316/12715000: mean batch inertia: 0.249086, ewa inertia: 0.211045 \n",
      "Minibatch iteration 317/12715000: mean batch inertia: 0.279074, ewa inertia: 0.211098 \n",
      "Minibatch iteration 318/12715000: mean batch inertia: 0.145093, ewa inertia: 0.211046 \n",
      "Minibatch iteration 319/12715000: mean batch inertia: 0.174408, ewa inertia: 0.211017 \n",
      "Minibatch iteration 320/12715000: mean batch inertia: 0.316565, ewa inertia: 0.211100 \n",
      "Minibatch iteration 321/12715000: mean batch inertia: 0.200237, ewa inertia: 0.211092 \n",
      "Minibatch iteration 322/12715000: mean batch inertia: 0.228179, ewa inertia: 0.211105 \n",
      "[MiniBatchKMeans] Reassigning 50 cluster centers.\n",
      "Minibatch iteration 323/12715000: mean batch inertia: 0.247243, ewa inertia: 0.211134 \n",
      "[MiniBatchKMeans] Reassigning 50 cluster centers.\n",
      "Minibatch iteration 324/12715000: mean batch inertia: 0.213782, ewa inertia: 0.211136 \n",
      "Minibatch iteration 325/12715000: mean batch inertia: 0.230488, ewa inertia: 0.211151 \n",
      "Minibatch iteration 326/12715000: mean batch inertia: 0.233870, ewa inertia: 0.211169 \n",
      "Minibatch iteration 327/12715000: mean batch inertia: 0.231495, ewa inertia: 0.211185 \n",
      "Minibatch iteration 328/12715000: mean batch inertia: 0.235455, ewa inertia: 0.211204 \n",
      "Minibatch iteration 329/12715000: mean batch inertia: 0.169097, ewa inertia: 0.211171 \n",
      "Minibatch iteration 330/12715000: mean batch inertia: 0.144564, ewa inertia: 0.211118 \n",
      "Minibatch iteration 331/12715000: mean batch inertia: 0.182566, ewa inertia: 0.211096 \n",
      "Minibatch iteration 332/12715000: mean batch inertia: 0.135442, ewa inertia: 0.211036 \n",
      "Minibatch iteration 333/12715000: mean batch inertia: 0.194213, ewa inertia: 0.211023 \n",
      "Minibatch iteration 334/12715000: mean batch inertia: 0.242998, ewa inertia: 0.211048 \n",
      "Minibatch iteration 335/12715000: mean batch inertia: 0.214734, ewa inertia: 0.211051 \n",
      "Minibatch iteration 336/12715000: mean batch inertia: 0.148769, ewa inertia: 0.211002 \n",
      "Minibatch iteration 337/12715000: mean batch inertia: 0.218324, ewa inertia: 0.211008 \n",
      "Minibatch iteration 338/12715000: mean batch inertia: 0.199743, ewa inertia: 0.210999 \n",
      "Minibatch iteration 339/12715000: mean batch inertia: 0.145806, ewa inertia: 0.210948 \n",
      "Minibatch iteration 340/12715000: mean batch inertia: 0.203289, ewa inertia: 0.210942 \n",
      "Minibatch iteration 341/12715000: mean batch inertia: 0.231692, ewa inertia: 0.210958 \n",
      "[MiniBatchKMeans] Reassigning 50 cluster centers.\n",
      "Minibatch iteration 342/12715000: mean batch inertia: 0.183474, ewa inertia: 0.210937 \n",
      "Minibatch iteration 343/12715000: mean batch inertia: 0.270723, ewa inertia: 0.210984 \n",
      "Minibatch iteration 344/12715000: mean batch inertia: 0.223488, ewa inertia: 0.210993 \n",
      "Minibatch iteration 345/12715000: mean batch inertia: 0.224609, ewa inertia: 0.211004 \n",
      "Minibatch iteration 346/12715000: mean batch inertia: 0.238555, ewa inertia: 0.211026 \n",
      "Minibatch iteration 347/12715000: mean batch inertia: 0.253184, ewa inertia: 0.211059 \n",
      "Minibatch iteration 348/12715000: mean batch inertia: 0.254367, ewa inertia: 0.211093 \n",
      "Minibatch iteration 349/12715000: mean batch inertia: 0.187434, ewa inertia: 0.211074 \n",
      "Minibatch iteration 350/12715000: mean batch inertia: 0.243945, ewa inertia: 0.211100 \n",
      "Minibatch iteration 351/12715000: mean batch inertia: 0.258425, ewa inertia: 0.211138 \n",
      "Minibatch iteration 352/12715000: mean batch inertia: 0.139827, ewa inertia: 0.211081 \n",
      "Minibatch iteration 353/12715000: mean batch inertia: 0.230384, ewa inertia: 0.211097 \n",
      "Minibatch iteration 354/12715000: mean batch inertia: 0.251637, ewa inertia: 0.211129 \n",
      "Minibatch iteration 355/12715000: mean batch inertia: 0.251846, ewa inertia: 0.211161 \n",
      "Minibatch iteration 356/12715000: mean batch inertia: 0.230620, ewa inertia: 0.211176 \n",
      "Minibatch iteration 357/12715000: mean batch inertia: 0.117976, ewa inertia: 0.211103 \n",
      "Minibatch iteration 358/12715000: mean batch inertia: 0.180139, ewa inertia: 0.211078 \n",
      "Minibatch iteration 359/12715000: mean batch inertia: 0.252513, ewa inertia: 0.211111 \n",
      "Minibatch iteration 360/12715000: mean batch inertia: 0.219034, ewa inertia: 0.211117 \n",
      "[MiniBatchKMeans] Reassigning 50 cluster centers.\n",
      "Minibatch iteration 361/12715000: mean batch inertia: 0.343907, ewa inertia: 0.211221 \n",
      "Minibatch iteration 362/12715000: mean batch inertia: 0.277267, ewa inertia: 0.211273 \n",
      "Minibatch iteration 363/12715000: mean batch inertia: 0.358367, ewa inertia: 0.211389 \n",
      "Minibatch iteration 364/12715000: mean batch inertia: 0.268229, ewa inertia: 0.211434 \n",
      "Minibatch iteration 365/12715000: mean batch inertia: 0.279464, ewa inertia: 0.211487 \n",
      "Minibatch iteration 366/12715000: mean batch inertia: 0.311877, ewa inertia: 0.211566 \n",
      "Minibatch iteration 367/12715000: mean batch inertia: 0.170293, ewa inertia: 0.211534 \n",
      "Minibatch iteration 368/12715000: mean batch inertia: 0.212056, ewa inertia: 0.211534 \n",
      "Minibatch iteration 369/12715000: mean batch inertia: 0.169987, ewa inertia: 0.211502 \n",
      "Minibatch iteration 370/12715000: mean batch inertia: 0.233695, ewa inertia: 0.211519 \n",
      "Minibatch iteration 371/12715000: mean batch inertia: 0.173745, ewa inertia: 0.211489 \n",
      "Minibatch iteration 372/12715000: mean batch inertia: 0.292721, ewa inertia: 0.211553 \n",
      "Minibatch iteration 373/12715000: mean batch inertia: 0.272060, ewa inertia: 0.211601 \n",
      "Minibatch iteration 374/12715000: mean batch inertia: 0.241758, ewa inertia: 0.211625 \n",
      "Minibatch iteration 375/12715000: mean batch inertia: 0.292639, ewa inertia: 0.211688 \n",
      "Minibatch iteration 376/12715000: mean batch inertia: 0.143041, ewa inertia: 0.211634 \n",
      "Minibatch iteration 377/12715000: mean batch inertia: 0.189189, ewa inertia: 0.211617 \n",
      "Minibatch iteration 378/12715000: mean batch inertia: 0.157781, ewa inertia: 0.211574 \n",
      "Minibatch iteration 379/12715000: mean batch inertia: 0.174890, ewa inertia: 0.211545 \n",
      "[MiniBatchKMeans] Reassigning 50 cluster centers.\n",
      "Minibatch iteration 380/12715000: mean batch inertia: 0.249345, ewa inertia: 0.211575 \n",
      "Minibatch iteration 381/12715000: mean batch inertia: 0.185682, ewa inertia: 0.211555 \n",
      "Minibatch iteration 382/12715000: mean batch inertia: 0.250335, ewa inertia: 0.211585 \n",
      "Minibatch iteration 383/12715000: mean batch inertia: 0.272061, ewa inertia: 0.211633 \n",
      "Minibatch iteration 384/12715000: mean batch inertia: 0.206440, ewa inertia: 0.211629 \n",
      "Minibatch iteration 385/12715000: mean batch inertia: 0.186604, ewa inertia: 0.211609 \n"
     ]
    },
    {
     "name": "stdout",
     "output_type": "stream",
     "text": [
      "Minibatch iteration 386/12715000: mean batch inertia: 0.213715, ewa inertia: 0.211611 \n",
      "Minibatch iteration 387/12715000: mean batch inertia: 0.194791, ewa inertia: 0.211598 \n",
      "Minibatch iteration 388/12715000: mean batch inertia: 0.307232, ewa inertia: 0.211673 \n",
      "Minibatch iteration 389/12715000: mean batch inertia: 0.297810, ewa inertia: 0.211741 \n",
      "Minibatch iteration 390/12715000: mean batch inertia: 0.205730, ewa inertia: 0.211736 \n",
      "Minibatch iteration 391/12715000: mean batch inertia: 0.225594, ewa inertia: 0.211747 \n",
      "Minibatch iteration 392/12715000: mean batch inertia: 0.281092, ewa inertia: 0.211801 \n",
      "Minibatch iteration 393/12715000: mean batch inertia: 0.305478, ewa inertia: 0.211875 \n",
      "Minibatch iteration 394/12715000: mean batch inertia: 0.201612, ewa inertia: 0.211867 \n",
      "Minibatch iteration 395/12715000: mean batch inertia: 0.199278, ewa inertia: 0.211857 \n",
      "Minibatch iteration 396/12715000: mean batch inertia: 0.163797, ewa inertia: 0.211819 \n",
      "Minibatch iteration 397/12715000: mean batch inertia: 0.290153, ewa inertia: 0.211881 \n",
      "Minibatch iteration 398/12715000: mean batch inertia: 0.201790, ewa inertia: 0.211873 \n",
      "[MiniBatchKMeans] Reassigning 50 cluster centers.\n",
      "Minibatch iteration 399/12715000: mean batch inertia: 0.264466, ewa inertia: 0.211914 \n",
      "Minibatch iteration 400/12715000: mean batch inertia: 0.156832, ewa inertia: 0.211871 \n",
      "Minibatch iteration 401/12715000: mean batch inertia: 0.273387, ewa inertia: 0.211919 \n",
      "Minibatch iteration 402/12715000: mean batch inertia: 0.222953, ewa inertia: 0.211928 \n",
      "Minibatch iteration 403/12715000: mean batch inertia: 0.218955, ewa inertia: 0.211934 \n",
      "Minibatch iteration 404/12715000: mean batch inertia: 0.215530, ewa inertia: 0.211936 \n",
      "Minibatch iteration 405/12715000: mean batch inertia: 0.328787, ewa inertia: 0.212028 \n",
      "Minibatch iteration 406/12715000: mean batch inertia: 0.262105, ewa inertia: 0.212068 \n",
      "Minibatch iteration 407/12715000: mean batch inertia: 0.239674, ewa inertia: 0.212089 \n",
      "Converged (lack of improvement in inertia) at iteration 407/12715000\n",
      "Computing label assignment and total inertia\n"
     ]
    },
    {
     "data": {
      "text/plain": [
       "MiniBatchKMeans(batch_size=100, compute_labels=True, init='k-means++',\n",
       "                init_size=5000, max_iter=5000, max_no_improvement=100,\n",
       "                n_clusters=1000, n_init=3, random_state=None,\n",
       "                reassignment_ratio=0.3, tol=0.0, verbose=1)"
      ]
     },
     "execution_count": 87,
     "metadata": {},
     "output_type": "execute_result"
    }
   ],
   "source": [
    "cluster = MiniBatchKMeans(n_clusters=1000, init_size=5000, verbose=1, max_iter=5000, \n",
    "                          max_no_improvement=100, reassignment_ratio=0.3)\n",
    "cluster.fit(X_svd)"
   ]
  },
  {
   "cell_type": "markdown",
   "metadata": {},
   "source": [
    "Метки кластеров для всех объектов в датасете лежат в cluster.labels_"
   ]
  },
  {
   "cell_type": "code",
   "execution_count": 88,
   "metadata": {},
   "outputs": [],
   "source": [
    "labels = cluster.labels_"
   ]
  },
  {
   "cell_type": "markdown",
   "metadata": {},
   "source": [
    "Давайте попробуем посчитать метрики "
   ]
  },
  {
   "cell_type": "code",
   "execution_count": 89,
   "metadata": {
    "scrolled": true
   },
   "outputs": [
    {
     "name": "stdout",
     "output_type": "stream",
     "text": [
      "Silhouette Coefficient: 0.021\n"
     ]
    }
   ],
   "source": [
    "print(\"Silhouette Coefficient: %0.3f\"\n",
    "      % metrics.silhouette_score(X[:10000], labels[:10000]))"
   ]
  },
  {
   "cell_type": "code",
   "execution_count": 90,
   "metadata": {},
   "outputs": [
    {
     "name": "stdout",
     "output_type": "stream",
     "text": [
      "Homogeneity: 0.597\n",
      "Completeness: 0.294\n",
      "V-measure: 0.394\n",
      "Adjusted Rand Index: 0.020\n",
      "Adjusted Mutual Information: 0.382\n"
     ]
    }
   ],
   "source": [
    "# эти три метрки что-то вроде точности, полноты и ф-меры для кластеризации\n",
    "print(\"Homogeneity: %0.3f\" % metrics.homogeneity_score(y, labels)) # проверяет, что в кластере объекты одного класса\n",
    "print(\"Completeness: %0.3f\" % metrics.completeness_score(y, labels)) # проверяет, что объекты класса только в одном кластере\n",
    "print(\"V-measure: %0.3f\" % metrics.v_measure_score(y, labels)) # превращает обе метрики в одну \n",
    "\n",
    "print(\"Adjusted Rand Index: %0.3f\"\n",
    "      % metrics.adjusted_rand_score(y, labels))\n",
    "print(\"Adjusted Mutual Information: %0.3f\"\n",
    "      % metrics.adjusted_mutual_info_score(y, labels))"
   ]
  },
  {
   "cell_type": "code",
   "execution_count": null,
   "metadata": {},
   "outputs": [],
   "source": []
  },
  {
   "cell_type": "markdown",
   "metadata": {},
   "source": [
    "## Как найти отптимальное количество кластеров?"
   ]
  },
  {
   "cell_type": "markdown",
   "metadata": {},
   "source": [
    "Такой вопрос часто задают на собеседованиях. Правильный ответ - методом локтя. Нужно перебрать разные значения количества кластеров и посчитать какую-то метрику. Затем нарисовать график или просто посмотреть на числа - оптимально выбрать число кластеров, после которого метрика перестала улучшаться (или даже стала ухудшаться). На графике это выглядит как локоть, поэтому так и называется"
   ]
  },
  {
   "cell_type": "code",
   "execution_count": 80,
   "metadata": {},
   "outputs": [],
   "source": [
    "from tqdm import tqdm\n",
    "import numpy as np\n",
    "%matplotlib inline\n",
    "import matplotlib.pyplot as plt"
   ]
  },
  {
   "cell_type": "code",
   "execution_count": 81,
   "metadata": {},
   "outputs": [],
   "source": [
    "sample = data.sample(frac=0.1)"
   ]
  },
  {
   "cell_type": "code",
   "execution_count": 82,
   "metadata": {},
   "outputs": [
    {
     "data": {
      "text/plain": [
       "(25422, 2)"
      ]
     },
     "execution_count": 82,
     "metadata": {},
     "output_type": "execute_result"
    }
   ],
   "source": [
    "sample.shape"
   ]
  },
  {
   "cell_type": "code",
   "execution_count": 83,
   "metadata": {},
   "outputs": [],
   "source": [
    "cv = CountVectorizer(max_features=1000)\n",
    "svd = TruncatedSVD(50)\n",
    "X = cv.fit_transform(sample['title'])\n",
    "X_svd = svd.fit_transform(X)\n"
   ]
  },
  {
   "cell_type": "code",
   "execution_count": 95,
   "metadata": {},
   "outputs": [
    {
     "data": {
      "text/plain": [
       "(25422, 1000)"
      ]
     },
     "execution_count": 95,
     "metadata": {},
     "output_type": "execute_result"
    }
   ],
   "source": [
    "X.shape"
   ]
  },
  {
   "cell_type": "code",
   "execution_count": 96,
   "metadata": {},
   "outputs": [
    {
     "name": "stderr",
     "output_type": "stream",
     "text": [
      "100%|██████████| 60/60 [10:12<00:00, 10.21s/it]\n"
     ]
    }
   ],
   "source": [
    "scores = []\n",
    "# tqdm._instances.clear()\n",
    "for i in tqdm(range(5, 3000, 50)):\n",
    "    cluster = MiniBatchKMeans(n_clusters=i, init_size=i*3)\n",
    "    cluster.fit(X)\n",
    "    # силуэты считать на всех данных считать долго\n",
    "    # можно взять внутреннюю метрику кминса\n",
    "    # она большая, поэтому можно взять корень\n",
    "    scores.append(np.sqrt(cluster.inertia_))"
   ]
  },
  {
   "cell_type": "code",
   "execution_count": 97,
   "metadata": {},
   "outputs": [
    {
     "data": {
      "text/plain": [
       "[<matplotlib.lines.Line2D at 0x12350d450>]"
      ]
     },
     "execution_count": 97,
     "metadata": {},
     "output_type": "execute_result"
    },
    {
     "data": {
      "image/png": "[encoded data removed]",
      "text/plain": [
       "<Figure size 864x360 with 1 Axes>"
      ]
     },
     "metadata": {
      "needs_background": "light"
     },
     "output_type": "display_data"
    }
   ],
   "source": [
    "plt.figure(figsize=(12, 5))\n",
    "plt.plot(list(range(5, 3000, 50)), scores)"
   ]
  },
  {
   "cell_type": "markdown",
   "metadata": {},
   "source": [
    "В реальности метод локтя работает так себе (где на картинке локоть сказать сложно). И честным ответом на \"как найти оптимальное количество кластеров\" будет - а спросите что-нибудь попроще."
   ]
  },
  {
   "cell_type": "markdown",
   "metadata": {},
   "source": [
    "## Домашнее задание"
   ]
  },
  {
   "cell_type": "markdown",
   "metadata": {},
   "source": [
    "1. На нескольких алгоритмах кластеризации, умеющих работать с sparse матрицами, проверьте, что работает лучше Count_Vectorizer или TfidfVectorizer (попробуйте выжать максимум из каждого - попробуйте нграммы, символьные нграммы, разные значения max_features и min_df) (3 балла)\n",
    "\n",
    "2. На нескольких алгоритмах кластеризации проверьте, какое матричное разложение (TruncatedSVD или NMF) работает лучше для кластеризации. (3 балла)\n",
    "\n",
    "3. С помощью алгоритмов, умеющих выделять выбросы, попробуйте найти необычные объявления (необычные - это такие, которые непонятно к какой категории можно вообще отнести, что-то с ошибками или вообще какая-то дичь). В этом задании можно использовать любую векторизацию. (4 балла)\n",
    "\n",
    "Используйте те же данные, что и в семинаре (колонки - title и category_name)\n",
    "\n",
    "Делайте соответствующие вашими ресурсам и потребностям алгоритма подвыборки из всего датасета. Для сравнения используйте любую из метрик, которые есть в семинаре. Оценивать на глаз тоже можно, но тогда нужно объяснить, почему вы считаете одну кластеризацию лучше. \n",
    "\n",
    "НЕ ЗАБЫВАЙТЕ подбирать параметры в кластеризации. **За использование всех параметров по умолчанию, оценка будет снижаться** (под использованием всех параметров по умолчанию я имею в виду что-то такое -  `cluster = DBSCAN()`) \n",
    "\n",
    "Если получится, используйте метод локтя. (1 бонусный балл)"
   ]
  },
  {
   "cell_type": "markdown",
   "metadata": {},
   "source": [
    "## Мое решение"
   ]
  },
  {
   "cell_type": "code",
   "execution_count": 6,
   "metadata": {},
   "outputs": [],
   "source": [
    "from sklearn.feature_extraction.text import TfidfVectorizer\n",
    "from sklearn.decomposition import NMF"
   ]
  },
  {
   "cell_type": "code",
   "execution_count": 7,
   "metadata": {},
   "outputs": [],
   "source": [
    "data = pd.read_csv('clustering/data.csv')"
   ]
  },
  {
   "cell_type": "markdown",
   "metadata": {},
   "source": [
    "## Задание 1"
   ]
  },
  {
   "cell_type": "code",
   "execution_count": 8,
   "metadata": {},
   "outputs": [],
   "source": [
    "sample = data.sample(frac=0.1)"
   ]
  },
  {
   "cell_type": "code",
   "execution_count": 9,
   "metadata": {},
   "outputs": [
    {
     "data": {
      "text/plain": [
       "(25422, 17)"
      ]
     },
     "execution_count": 9,
     "metadata": {},
     "output_type": "execute_result"
    }
   ],
   "source": [
    "sample.shape"
   ]
  },
  {
   "cell_type": "code",
   "execution_count": 10,
   "metadata": {},
   "outputs": [],
   "source": [
    "cv = CountVectorizer(max_features=650)\n",
    "X = cv.fit_transform(sample['title'])\n",
    "y = sample['category_name']"
   ]
  },
  {
   "cell_type": "code",
   "execution_count": 11,
   "metadata": {},
   "outputs": [],
   "source": [
    "tf = TfidfVectorizer(min_df=20, max_df=0.9, max_features=900)\n",
    "X_2 = tf.fit_transform(sample['title'])\n",
    "y_2 = sample['category_name']"
   ]
  },
  {
   "cell_type": "markdown",
   "metadata": {},
   "source": [
    "## KMeans"
   ]
  },
  {
   "cell_type": "code",
   "execution_count": 12,
   "metadata": {},
   "outputs": [
    {
     "data": {
      "text/plain": [
       "KMeans(algorithm='auto', copy_x=True, init='k-means++', max_iter=300,\n",
       "       n_clusters=47, n_init=15, n_jobs=None, precompute_distances='auto',\n",
       "       random_state=None, tol=0.0001, verbose=0)"
      ]
     },
     "execution_count": 12,
     "metadata": {},
     "output_type": "execute_result"
    }
   ],
   "source": [
    "cluster = KMeans(n_clusters=47, n_init=15)\n",
    "cluster.fit(X)"
   ]
  },
  {
   "cell_type": "code",
   "execution_count": 13,
   "metadata": {},
   "outputs": [
    {
     "data": {
      "text/plain": [
       "KMeans(algorithm='auto', copy_x=True, init='k-means++', max_iter=300,\n",
       "       n_clusters=47, n_init=15, n_jobs=None, precompute_distances='auto',\n",
       "       random_state=None, tol=0.0001, verbose=0)"
      ]
     },
     "execution_count": 13,
     "metadata": {},
     "output_type": "execute_result"
    }
   ],
   "source": [
    "cluster_2 = KMeans(n_clusters=47, n_init=15)\n",
    "cluster_2.fit(X_2)"
   ]
  },
  {
   "cell_type": "code",
   "execution_count": 14,
   "metadata": {},
   "outputs": [],
   "source": [
    "labels = cluster.labels_"
   ]
  },
  {
   "cell_type": "code",
   "execution_count": 15,
   "metadata": {},
   "outputs": [],
   "source": [
    "labels_2 = cluster_2.labels_"
   ]
  },
  {
   "cell_type": "code",
   "execution_count": 16,
   "metadata": {},
   "outputs": [
    {
     "name": "stdout",
     "output_type": "stream",
     "text": [
      "Silhouette Coefficient: 0.167\n",
      "Homogeneity: 0.264\n",
      "Completeness: 0.387\n",
      "V-measure: 0.314\n",
      "Adjusted Rand Index: 0.001\n",
      "Adjusted Mutual Information: 0.303\n"
     ]
    }
   ],
   "source": [
    "print(\"Silhouette Coefficient: %0.3f\" % metrics.silhouette_score(X[:10000], labels[:10000]))\n",
    "print(\"Homogeneity: %0.3f\" % metrics.homogeneity_score(y, labels)) \n",
    "print(\"Completeness: %0.3f\" % metrics.completeness_score(y, labels)) \n",
    "print(\"V-measure: %0.3f\" % metrics.v_measure_score(y, labels))\n",
    "print(\"Adjusted Rand Index: %0.3f\" % metrics.adjusted_rand_score(y, labels))\n",
    "print(\"Adjusted Mutual Information: %0.3f\" % metrics.adjusted_mutual_info_score(y, labels))"
   ]
  },
  {
   "cell_type": "code",
   "execution_count": 17,
   "metadata": {},
   "outputs": [
    {
     "name": "stdout",
     "output_type": "stream",
     "text": [
      "Silhouette Coefficient: 0.233\n",
      "Homogeneity: 0.258\n",
      "Completeness: 0.353\n",
      "V-measure: 0.298\n",
      "Adjusted Rand Index: -0.013\n",
      "Adjusted Mutual Information: 0.287\n"
     ]
    }
   ],
   "source": [
    "print(\"Silhouette Coefficient: %0.3f\" % metrics.silhouette_score(X_2[:10000], labels_2[:10000]))\n",
    "print(\"Homogeneity: %0.3f\" % metrics.homogeneity_score(y_2, labels_2)) \n",
    "print(\"Completeness: %0.3f\" % metrics.completeness_score(y_2, labels_2)) \n",
    "print(\"V-measure: %0.3f\" % metrics.v_measure_score(y_2, labels_2))\n",
    "print(\"Adjusted Rand Index: %0.3f\" % metrics.adjusted_rand_score(y_2, labels_2))\n",
    "print(\"Adjusted Mutual Information: %0.3f\" % metrics.adjusted_mutual_info_score(y_2, labels_2))"
   ]
  },
  {
   "cell_type": "markdown",
   "metadata": {},
   "source": [
    "## MiniBatchKMeans"
   ]
  },
  {
   "cell_type": "code",
   "execution_count": 18,
   "metadata": {},
   "outputs": [
    {
     "name": "stdout",
     "output_type": "stream",
     "text": [
      "Init 1/3 with method: k-means++\n",
      "Inertia for init 1/3: 2105.216134\n",
      "Init 2/3 with method: k-means++\n",
      "Inertia for init 2/3: 2073.865962\n",
      "Init 3/3 with method: k-means++\n",
      "Inertia for init 3/3: 2117.344476\n",
      "Minibatch iteration 1/765000: mean batch inertia: 0.574299, ewa inertia: 0.574299 \n",
      "Minibatch iteration 2/765000: mean batch inertia: 0.652154, ewa inertia: 0.574911 \n",
      "Minibatch iteration 3/765000: mean batch inertia: 0.695046, ewa inertia: 0.575856 \n",
      "Minibatch iteration 4/765000: mean batch inertia: 0.565176, ewa inertia: 0.575772 \n",
      "Minibatch iteration 5/765000: mean batch inertia: 0.844911, ewa inertia: 0.577890 \n",
      "Minibatch iteration 6/765000: mean batch inertia: 0.670501, ewa inertia: 0.578618 \n",
      "Minibatch iteration 7/765000: mean batch inertia: 0.717006, ewa inertia: 0.579707 \n",
      "Minibatch iteration 8/765000: mean batch inertia: 0.688490, ewa inertia: 0.580563 \n",
      "Minibatch iteration 9/765000: mean batch inertia: 0.836904, ewa inertia: 0.582579 \n",
      "[MiniBatchKMeans] Reassigning 50 cluster centers.\n",
      "Minibatch iteration 10/765000: mean batch inertia: 0.453914, ewa inertia: 0.581567 \n",
      "Minibatch iteration 11/765000: mean batch inertia: 0.646804, ewa inertia: 0.582080 \n",
      "Minibatch iteration 12/765000: mean batch inertia: 0.670899, ewa inertia: 0.582779 \n",
      "Minibatch iteration 13/765000: mean batch inertia: 0.671339, ewa inertia: 0.583476 \n",
      "Minibatch iteration 14/765000: mean batch inertia: 0.612749, ewa inertia: 0.583706 \n",
      "Minibatch iteration 15/765000: mean batch inertia: 0.568133, ewa inertia: 0.583584 \n",
      "Minibatch iteration 16/765000: mean batch inertia: 0.562933, ewa inertia: 0.583421 \n",
      "Minibatch iteration 17/765000: mean batch inertia: 0.675680, ewa inertia: 0.584147 \n",
      "Minibatch iteration 18/765000: mean batch inertia: 0.713391, ewa inertia: 0.585164 \n",
      "Minibatch iteration 19/765000: mean batch inertia: 0.587069, ewa inertia: 0.585179 \n",
      "[MiniBatchKMeans] Reassigning 50 cluster centers.\n",
      "Minibatch iteration 20/765000: mean batch inertia: 0.582547, ewa inertia: 0.585158 \n",
      "Minibatch iteration 21/765000: mean batch inertia: 0.758715, ewa inertia: 0.586523 \n",
      "Minibatch iteration 22/765000: mean batch inertia: 0.505464, ewa inertia: 0.585886 \n",
      "Minibatch iteration 23/765000: mean batch inertia: 0.598448, ewa inertia: 0.585984 \n",
      "Minibatch iteration 24/765000: mean batch inertia: 0.629492, ewa inertia: 0.586327 \n",
      "Minibatch iteration 25/765000: mean batch inertia: 0.678931, ewa inertia: 0.587055 \n",
      "Minibatch iteration 26/765000: mean batch inertia: 0.749892, ewa inertia: 0.588336 \n",
      "Minibatch iteration 27/765000: mean batch inertia: 0.538362, ewa inertia: 0.587943 \n",
      "Minibatch iteration 28/765000: mean batch inertia: 0.726267, ewa inertia: 0.589031 \n",
      "Minibatch iteration 29/765000: mean batch inertia: 0.475256, ewa inertia: 0.588136 \n",
      "[MiniBatchKMeans] Reassigning 50 cluster centers.\n",
      "Minibatch iteration 30/765000: mean batch inertia: 0.632203, ewa inertia: 0.588483 \n",
      "Minibatch iteration 31/765000: mean batch inertia: 0.580550, ewa inertia: 0.588420 \n",
      "Minibatch iteration 32/765000: mean batch inertia: 0.848953, ewa inertia: 0.590470 \n",
      "Minibatch iteration 33/765000: mean batch inertia: 0.591876, ewa inertia: 0.590481 \n",
      "Minibatch iteration 34/765000: mean batch inertia: 0.680765, ewa inertia: 0.591191 \n",
      "Minibatch iteration 35/765000: mean batch inertia: 0.638981, ewa inertia: 0.591567 \n",
      "Minibatch iteration 36/765000: mean batch inertia: 0.590563, ewa inertia: 0.591559 \n",
      "Minibatch iteration 37/765000: mean batch inertia: 0.595277, ewa inertia: 0.591589 \n",
      "Minibatch iteration 38/765000: mean batch inertia: 0.525039, ewa inertia: 0.591065 \n",
      "Minibatch iteration 39/765000: mean batch inertia: 0.497222, ewa inertia: 0.590327 \n",
      "[MiniBatchKMeans] Reassigning 50 cluster centers.\n",
      "Minibatch iteration 40/765000: mean batch inertia: 0.692521, ewa inertia: 0.591131 \n",
      "Minibatch iteration 41/765000: mean batch inertia: 0.600386, ewa inertia: 0.591204 \n",
      "Minibatch iteration 42/765000: mean batch inertia: 0.672589, ewa inertia: 0.591844 \n",
      "Minibatch iteration 43/765000: mean batch inertia: 0.720684, ewa inertia: 0.592857 \n",
      "Minibatch iteration 44/765000: mean batch inertia: 0.704917, ewa inertia: 0.593739 \n",
      "Minibatch iteration 45/765000: mean batch inertia: 0.651462, ewa inertia: 0.594193 \n",
      "Minibatch iteration 46/765000: mean batch inertia: 0.516139, ewa inertia: 0.593579 \n",
      "Minibatch iteration 47/765000: mean batch inertia: 0.544329, ewa inertia: 0.593192 \n",
      "Minibatch iteration 48/765000: mean batch inertia: 0.576793, ewa inertia: 0.593063 \n",
      "Minibatch iteration 49/765000: mean batch inertia: 0.542395, ewa inertia: 0.592664 \n",
      "[MiniBatchKMeans] Reassigning 50 cluster centers.\n",
      "Minibatch iteration 50/765000: mean batch inertia: 0.628881, ewa inertia: 0.592949 \n",
      "Minibatch iteration 51/765000: mean batch inertia: 0.530539, ewa inertia: 0.592458 \n",
      "Minibatch iteration 52/765000: mean batch inertia: 0.698306, ewa inertia: 0.593291 \n",
      "Minibatch iteration 53/765000: mean batch inertia: 0.763680, ewa inertia: 0.594631 \n",
      "Minibatch iteration 54/765000: mean batch inertia: 0.658261, ewa inertia: 0.595132 \n",
      "Minibatch iteration 55/765000: mean batch inertia: 0.587539, ewa inertia: 0.595072 \n",
      "Minibatch iteration 56/765000: mean batch inertia: 0.439341, ewa inertia: 0.593847 \n",
      "Minibatch iteration 57/765000: mean batch inertia: 0.547771, ewa inertia: 0.593484 \n",
      "Minibatch iteration 58/765000: mean batch inertia: 0.632414, ewa inertia: 0.593791 \n",
      "Minibatch iteration 59/765000: mean batch inertia: 0.594294, ewa inertia: 0.593794 \n",
      "[MiniBatchKMeans] Reassigning 50 cluster centers.\n",
      "Minibatch iteration 60/765000: mean batch inertia: 0.542241, ewa inertia: 0.593389 \n",
      "Minibatch iteration 61/765000: mean batch inertia: 0.602886, ewa inertia: 0.593464 \n",
      "Minibatch iteration 62/765000: mean batch inertia: 0.656932, ewa inertia: 0.593963 \n",
      "Minibatch iteration 63/765000: mean batch inertia: 0.665567, ewa inertia: 0.594526 \n",
      "Minibatch iteration 64/765000: mean batch inertia: 0.713977, ewa inertia: 0.595466 \n",
      "Minibatch iteration 65/765000: mean batch inertia: 0.549128, ewa inertia: 0.595101 \n",
      "Minibatch iteration 66/765000: mean batch inertia: 0.598941, ewa inertia: 0.595132 \n",
      "Minibatch iteration 67/765000: mean batch inertia: 0.583253, ewa inertia: 0.595038 \n",
      "Minibatch iteration 68/765000: mean batch inertia: 0.567209, ewa inertia: 0.594819 \n",
      "Minibatch iteration 69/765000: mean batch inertia: 0.674602, ewa inertia: 0.595447 \n",
      "[MiniBatchKMeans] Reassigning 50 cluster centers.\n",
      "Minibatch iteration 70/765000: mean batch inertia: 0.682191, ewa inertia: 0.596129 \n",
      "Minibatch iteration 71/765000: mean batch inertia: 0.546288, ewa inertia: 0.595737 \n",
      "Minibatch iteration 72/765000: mean batch inertia: 0.654163, ewa inertia: 0.596197 \n",
      "Minibatch iteration 73/765000: mean batch inertia: 0.632168, ewa inertia: 0.596480 \n",
      "Minibatch iteration 74/765000: mean batch inertia: 0.637600, ewa inertia: 0.596803 \n",
      "Minibatch iteration 75/765000: mean batch inertia: 0.591990, ewa inertia: 0.596765 \n",
      "Minibatch iteration 76/765000: mean batch inertia: 0.613237, ewa inertia: 0.596895 \n",
      "Converged (lack of improvement in inertia) at iteration 76/765000\n",
      "Computing label assignment and total inertia\n"
     ]
    },
    {
     "data": {
      "text/plain": [
       "MiniBatchKMeans(batch_size=100, compute_labels=True, init='k-means++',\n",
       "                init_size=4000, max_iter=3000, max_no_improvement=75,\n",
       "                n_clusters=800, n_init=3, random_state=None,\n",
       "                reassignment_ratio=0.5, tol=0.0, verbose=1)"
      ]
     },
     "execution_count": 18,
     "metadata": {},
     "output_type": "execute_result"
    }
   ],
   "source": [
    "cluster = MiniBatchKMeans(n_clusters=800, init_size=4000, verbose=1, max_iter=3000, \n",
    "                          max_no_improvement=75, reassignment_ratio=0.5)\n",
    "cluster.fit(X)"
   ]
  },
  {
   "cell_type": "code",
   "execution_count": 19,
   "metadata": {},
   "outputs": [
    {
     "name": "stdout",
     "output_type": "stream",
     "text": [
      "Init 1/3 with method: k-means++\n",
      "Inertia for init 1/3: 510.694253\n",
      "Init 2/3 with method: k-means++\n",
      "Inertia for init 2/3: 529.042521\n",
      "Init 3/3 with method: k-means++\n",
      "Inertia for init 3/3: 519.821745\n",
      "Minibatch iteration 1/765000: mean batch inertia: 0.207477, ewa inertia: 0.207477 \n",
      "Minibatch iteration 2/765000: mean batch inertia: 0.159972, ewa inertia: 0.207103 \n",
      "Minibatch iteration 3/765000: mean batch inertia: 0.133681, ewa inertia: 0.206526 \n",
      "Minibatch iteration 4/765000: mean batch inertia: 0.219974, ewa inertia: 0.206631 \n",
      "Minibatch iteration 5/765000: mean batch inertia: 0.249078, ewa inertia: 0.206965 \n",
      "Minibatch iteration 6/765000: mean batch inertia: 0.205968, ewa inertia: 0.206958 \n",
      "Minibatch iteration 7/765000: mean batch inertia: 0.237985, ewa inertia: 0.207202 \n",
      "Minibatch iteration 8/765000: mean batch inertia: 0.202547, ewa inertia: 0.207165 \n",
      "Minibatch iteration 9/765000: mean batch inertia: 0.205351, ewa inertia: 0.207151 \n",
      "[MiniBatchKMeans] Reassigning 50 cluster centers.\n",
      "Minibatch iteration 10/765000: mean batch inertia: 0.196939, ewa inertia: 0.207070 \n",
      "Minibatch iteration 11/765000: mean batch inertia: 0.145349, ewa inertia: 0.206585 \n",
      "Minibatch iteration 12/765000: mean batch inertia: 0.194060, ewa inertia: 0.206486 \n",
      "Minibatch iteration 13/765000: mean batch inertia: 0.178450, ewa inertia: 0.206266 \n",
      "Minibatch iteration 14/765000: mean batch inertia: 0.226780, ewa inertia: 0.206427 \n",
      "Minibatch iteration 15/765000: mean batch inertia: 0.225072, ewa inertia: 0.206574 \n",
      "Minibatch iteration 16/765000: mean batch inertia: 0.183877, ewa inertia: 0.206395 \n",
      "Minibatch iteration 17/765000: mean batch inertia: 0.192914, ewa inertia: 0.206289 \n",
      "Minibatch iteration 18/765000: mean batch inertia: 0.162978, ewa inertia: 0.205948 \n",
      "Minibatch iteration 19/765000: mean batch inertia: 0.157393, ewa inertia: 0.205566 \n",
      "[MiniBatchKMeans] Reassigning 50 cluster centers.\n",
      "Minibatch iteration 20/765000: mean batch inertia: 0.225392, ewa inertia: 0.205722 \n",
      "Minibatch iteration 21/765000: mean batch inertia: 0.186347, ewa inertia: 0.205570 \n",
      "Minibatch iteration 22/765000: mean batch inertia: 0.183160, ewa inertia: 0.205394 \n",
      "Minibatch iteration 23/765000: mean batch inertia: 0.187296, ewa inertia: 0.205251 \n",
      "Minibatch iteration 24/765000: mean batch inertia: 0.168553, ewa inertia: 0.204963 \n",
      "Minibatch iteration 25/765000: mean batch inertia: 0.174650, ewa inertia: 0.204724 \n",
      "Minibatch iteration 26/765000: mean batch inertia: 0.173772, ewa inertia: 0.204481 \n",
      "Minibatch iteration 27/765000: mean batch inertia: 0.214961, ewa inertia: 0.204563 \n",
      "Minibatch iteration 28/765000: mean batch inertia: 0.185892, ewa inertia: 0.204416 \n",
      "Minibatch iteration 29/765000: mean batch inertia: 0.175884, ewa inertia: 0.204192 \n",
      "[MiniBatchKMeans] Reassigning 50 cluster centers.\n",
      "Minibatch iteration 30/765000: mean batch inertia: 0.170137, ewa inertia: 0.203924 \n",
      "Minibatch iteration 31/765000: mean batch inertia: 0.170291, ewa inertia: 0.203659 \n",
      "Minibatch iteration 32/765000: mean batch inertia: 0.176646, ewa inertia: 0.203447 \n",
      "Minibatch iteration 33/765000: mean batch inertia: 0.132698, ewa inertia: 0.202890 \n",
      "Minibatch iteration 34/765000: mean batch inertia: 0.172740, ewa inertia: 0.202653 \n",
      "Minibatch iteration 35/765000: mean batch inertia: 0.168313, ewa inertia: 0.202383 \n",
      "Minibatch iteration 36/765000: mean batch inertia: 0.187945, ewa inertia: 0.202269 \n",
      "Minibatch iteration 37/765000: mean batch inertia: 0.185908, ewa inertia: 0.202141 \n",
      "Minibatch iteration 38/765000: mean batch inertia: 0.202617, ewa inertia: 0.202144 \n",
      "Minibatch iteration 39/765000: mean batch inertia: 0.161242, ewa inertia: 0.201823 \n",
      "[MiniBatchKMeans] Reassigning 50 cluster centers.\n",
      "Minibatch iteration 40/765000: mean batch inertia: 0.205109, ewa inertia: 0.201848 \n",
      "Minibatch iteration 41/765000: mean batch inertia: 0.147286, ewa inertia: 0.201419 \n",
      "Minibatch iteration 42/765000: mean batch inertia: 0.170475, ewa inertia: 0.201176 \n",
      "Minibatch iteration 43/765000: mean batch inertia: 0.172978, ewa inertia: 0.200954 \n",
      "[MiniBatchKMeans] Reassigning 50 cluster centers.\n",
      "Minibatch iteration 44/765000: mean batch inertia: 0.147791, ewa inertia: 0.200536 \n",
      "Minibatch iteration 45/765000: mean batch inertia: 0.197388, ewa inertia: 0.200511 \n",
      "Minibatch iteration 46/765000: mean batch inertia: 0.166968, ewa inertia: 0.200247 \n",
      "Minibatch iteration 47/765000: mean batch inertia: 0.171426, ewa inertia: 0.200020 \n",
      "Minibatch iteration 48/765000: mean batch inertia: 0.219906, ewa inertia: 0.200177 \n",
      "Minibatch iteration 49/765000: mean batch inertia: 0.201220, ewa inertia: 0.200185 \n",
      "Minibatch iteration 50/765000: mean batch inertia: 0.192082, ewa inertia: 0.200121 \n",
      "Minibatch iteration 51/765000: mean batch inertia: 0.195785, ewa inertia: 0.200087 \n",
      "Minibatch iteration 52/765000: mean batch inertia: 0.127064, ewa inertia: 0.199513 \n",
      "Minibatch iteration 53/765000: mean batch inertia: 0.263421, ewa inertia: 0.200015 \n",
      "Minibatch iteration 54/765000: mean batch inertia: 0.137521, ewa inertia: 0.199524 \n",
      "[MiniBatchKMeans] Reassigning 50 cluster centers.\n",
      "Minibatch iteration 55/765000: mean batch inertia: 0.218920, ewa inertia: 0.199676 \n",
      "Minibatch iteration 56/765000: mean batch inertia: 0.185156, ewa inertia: 0.199562 \n",
      "Minibatch iteration 57/765000: mean batch inertia: 0.174955, ewa inertia: 0.199369 \n",
      "Minibatch iteration 58/765000: mean batch inertia: 0.201724, ewa inertia: 0.199387 \n",
      "Minibatch iteration 59/765000: mean batch inertia: 0.169276, ewa inertia: 0.199150 \n",
      "Minibatch iteration 60/765000: mean batch inertia: 0.178170, ewa inertia: 0.198985 \n",
      "Minibatch iteration 61/765000: mean batch inertia: 0.169585, ewa inertia: 0.198754 \n",
      "Minibatch iteration 62/765000: mean batch inertia: 0.171602, ewa inertia: 0.198540 \n",
      "Minibatch iteration 63/765000: mean batch inertia: 0.175878, ewa inertia: 0.198362 \n",
      "Minibatch iteration 64/765000: mean batch inertia: 0.133655, ewa inertia: 0.197853 \n",
      "Minibatch iteration 65/765000: mean batch inertia: 0.165437, ewa inertia: 0.197598 \n",
      "[MiniBatchKMeans] Reassigning 50 cluster centers.\n",
      "Minibatch iteration 66/765000: mean batch inertia: 0.168534, ewa inertia: 0.197369 \n",
      "Minibatch iteration 67/765000: mean batch inertia: 0.157065, ewa inertia: 0.197052 \n",
      "Minibatch iteration 68/765000: mean batch inertia: 0.207049, ewa inertia: 0.197131 \n",
      "Minibatch iteration 69/765000: mean batch inertia: 0.179254, ewa inertia: 0.196990 \n",
      "Minibatch iteration 70/765000: mean batch inertia: 0.176012, ewa inertia: 0.196825 \n",
      "Minibatch iteration 71/765000: mean batch inertia: 0.182549, ewa inertia: 0.196713 \n",
      "Minibatch iteration 72/765000: mean batch inertia: 0.120449, ewa inertia: 0.196113 \n",
      "Minibatch iteration 73/765000: mean batch inertia: 0.198869, ewa inertia: 0.196135 \n",
      "Minibatch iteration 74/765000: mean batch inertia: 0.214727, ewa inertia: 0.196281 \n",
      "Minibatch iteration 75/765000: mean batch inertia: 0.231061, ewa inertia: 0.196554 \n",
      "Minibatch iteration 76/765000: mean batch inertia: 0.197076, ewa inertia: 0.196559 \n",
      "[MiniBatchKMeans] Reassigning 50 cluster centers.\n",
      "Minibatch iteration 77/765000: mean batch inertia: 0.151384, ewa inertia: 0.196203 \n",
      "Minibatch iteration 78/765000: mean batch inertia: 0.162800, ewa inertia: 0.195940 \n",
      "Minibatch iteration 79/765000: mean batch inertia: 0.143850, ewa inertia: 0.195531 \n",
      "Minibatch iteration 80/765000: mean batch inertia: 0.185684, ewa inertia: 0.195453 \n",
      "Minibatch iteration 81/765000: mean batch inertia: 0.185815, ewa inertia: 0.195377 \n",
      "Minibatch iteration 82/765000: mean batch inertia: 0.146800, ewa inertia: 0.194995 \n",
      "Minibatch iteration 83/765000: mean batch inertia: 0.156636, ewa inertia: 0.194693 \n",
      "[MiniBatchKMeans] Reassigning 50 cluster centers.\n",
      "Minibatch iteration 84/765000: mean batch inertia: 0.194575, ewa inertia: 0.194693 \n",
      "Minibatch iteration 85/765000: mean batch inertia: 0.184897, ewa inertia: 0.194615 \n",
      "Minibatch iteration 86/765000: mean batch inertia: 0.226054, ewa inertia: 0.194863 \n",
      "Minibatch iteration 87/765000: mean batch inertia: 0.171225, ewa inertia: 0.194677 \n",
      "Minibatch iteration 88/765000: mean batch inertia: 0.203142, ewa inertia: 0.194743 \n",
      "Minibatch iteration 89/765000: mean batch inertia: 0.154275, ewa inertia: 0.194425 \n",
      "Minibatch iteration 90/765000: mean batch inertia: 0.219926, ewa inertia: 0.194626 \n",
      "Minibatch iteration 91/765000: mean batch inertia: 0.152767, ewa inertia: 0.194296 \n",
      "Minibatch iteration 92/765000: mean batch inertia: 0.166845, ewa inertia: 0.194080 \n",
      "Minibatch iteration 93/765000: mean batch inertia: 0.162892, ewa inertia: 0.193835 \n",
      "Minibatch iteration 94/765000: mean batch inertia: 0.102076, ewa inertia: 0.193113 \n",
      "Minibatch iteration 95/765000: mean batch inertia: 0.178365, ewa inertia: 0.192997 \n",
      "[MiniBatchKMeans] Reassigning 50 cluster centers.\n",
      "Minibatch iteration 96/765000: mean batch inertia: 0.159985, ewa inertia: 0.192737 \n",
      "Minibatch iteration 97/765000: mean batch inertia: 0.196387, ewa inertia: 0.192766 \n",
      "Minibatch iteration 98/765000: mean batch inertia: 0.165516, ewa inertia: 0.192552 \n",
      "Minibatch iteration 99/765000: mean batch inertia: 0.167660, ewa inertia: 0.192356 \n",
      "Minibatch iteration 100/765000: mean batch inertia: 0.172507, ewa inertia: 0.192200 \n",
      "Minibatch iteration 101/765000: mean batch inertia: 0.173783, ewa inertia: 0.192055 \n",
      "Minibatch iteration 102/765000: mean batch inertia: 0.112571, ewa inertia: 0.191430 \n",
      "Minibatch iteration 103/765000: mean batch inertia: 0.160409, ewa inertia: 0.191186 \n",
      "Minibatch iteration 104/765000: mean batch inertia: 0.162804, ewa inertia: 0.190962 \n",
      "Minibatch iteration 105/765000: mean batch inertia: 0.163142, ewa inertia: 0.190743 \n",
      "Minibatch iteration 106/765000: mean batch inertia: 0.177088, ewa inertia: 0.190636 \n",
      "Minibatch iteration 107/765000: mean batch inertia: 0.194836, ewa inertia: 0.190669 \n",
      "[MiniBatchKMeans] Reassigning 50 cluster centers.\n",
      "Minibatch iteration 108/765000: mean batch inertia: 0.192524, ewa inertia: 0.190684 \n",
      "Minibatch iteration 109/765000: mean batch inertia: 0.158017, ewa inertia: 0.190427 \n",
      "Minibatch iteration 110/765000: mean batch inertia: 0.179641, ewa inertia: 0.190342 \n",
      "Minibatch iteration 111/765000: mean batch inertia: 0.202708, ewa inertia: 0.190439 \n",
      "Minibatch iteration 112/765000: mean batch inertia: 0.159289, ewa inertia: 0.190194 \n",
      "Minibatch iteration 113/765000: mean batch inertia: 0.166827, ewa inertia: 0.190010 \n",
      "Minibatch iteration 114/765000: mean batch inertia: 0.142751, ewa inertia: 0.189638 \n",
      "Minibatch iteration 115/765000: mean batch inertia: 0.158385, ewa inertia: 0.189393 \n",
      "Minibatch iteration 116/765000: mean batch inertia: 0.178767, ewa inertia: 0.189309 \n",
      "[MiniBatchKMeans] Reassigning 50 cluster centers.\n",
      "Minibatch iteration 117/765000: mean batch inertia: 0.160701, ewa inertia: 0.189084 \n",
      "Minibatch iteration 118/765000: mean batch inertia: 0.168884, ewa inertia: 0.188925 \n",
      "Minibatch iteration 119/765000: mean batch inertia: 0.219060, ewa inertia: 0.189162 \n",
      "Minibatch iteration 120/765000: mean batch inertia: 0.156212, ewa inertia: 0.188903 \n",
      "Minibatch iteration 121/765000: mean batch inertia: 0.158361, ewa inertia: 0.188663 \n",
      "Minibatch iteration 122/765000: mean batch inertia: 0.156029, ewa inertia: 0.188406 \n",
      "Minibatch iteration 123/765000: mean batch inertia: 0.185292, ewa inertia: 0.188381 \n",
      "Minibatch iteration 124/765000: mean batch inertia: 0.204928, ewa inertia: 0.188512 \n",
      "Minibatch iteration 125/765000: mean batch inertia: 0.164283, ewa inertia: 0.188321 \n",
      "Minibatch iteration 126/765000: mean batch inertia: 0.163039, ewa inertia: 0.188122 \n",
      "Minibatch iteration 127/765000: mean batch inertia: 0.190502, ewa inertia: 0.188141 \n",
      "Minibatch iteration 128/765000: mean batch inertia: 0.202210, ewa inertia: 0.188251 \n",
      "Minibatch iteration 129/765000: mean batch inertia: 0.198323, ewa inertia: 0.188331 \n",
      "[MiniBatchKMeans] Reassigning 50 cluster centers.\n",
      "Minibatch iteration 130/765000: mean batch inertia: 0.129200, ewa inertia: 0.187866 \n",
      "Minibatch iteration 131/765000: mean batch inertia: 0.130615, ewa inertia: 0.187415 \n",
      "Minibatch iteration 132/765000: mean batch inertia: 0.178114, ewa inertia: 0.187342 \n",
      "Minibatch iteration 133/765000: mean batch inertia: 0.151044, ewa inertia: 0.187056 \n",
      "Minibatch iteration 134/765000: mean batch inertia: 0.168346, ewa inertia: 0.186909 \n",
      "Minibatch iteration 135/765000: mean batch inertia: 0.160770, ewa inertia: 0.186704 \n",
      "Minibatch iteration 136/765000: mean batch inertia: 0.150793, ewa inertia: 0.186421 \n",
      "Minibatch iteration 137/765000: mean batch inertia: 0.172229, ewa inertia: 0.186309 \n",
      "Minibatch iteration 138/765000: mean batch inertia: 0.162985, ewa inertia: 0.186126 \n",
      "Minibatch iteration 139/765000: mean batch inertia: 0.193068, ewa inertia: 0.186181 \n",
      "Minibatch iteration 140/765000: mean batch inertia: 0.177041, ewa inertia: 0.186109 \n",
      "Minibatch iteration 141/765000: mean batch inertia: 0.186109, ewa inertia: 0.186109 \n"
     ]
    },
    {
     "name": "stdout",
     "output_type": "stream",
     "text": [
      "Minibatch iteration 142/765000: mean batch inertia: 0.139533, ewa inertia: 0.185742 \n",
      "[MiniBatchKMeans] Reassigning 50 cluster centers.\n",
      "Minibatch iteration 143/765000: mean batch inertia: 0.139610, ewa inertia: 0.185379 \n",
      "Minibatch iteration 144/765000: mean batch inertia: 0.169440, ewa inertia: 0.185254 \n",
      "Minibatch iteration 145/765000: mean batch inertia: 0.177099, ewa inertia: 0.185190 \n",
      "Minibatch iteration 146/765000: mean batch inertia: 0.157021, ewa inertia: 0.184968 \n",
      "Minibatch iteration 147/765000: mean batch inertia: 0.196382, ewa inertia: 0.185058 \n",
      "Minibatch iteration 148/765000: mean batch inertia: 0.172209, ewa inertia: 0.184957 \n",
      "Minibatch iteration 149/765000: mean batch inertia: 0.218009, ewa inertia: 0.185217 \n",
      "Minibatch iteration 150/765000: mean batch inertia: 0.181358, ewa inertia: 0.185187 \n",
      "Minibatch iteration 151/765000: mean batch inertia: 0.196655, ewa inertia: 0.185277 \n",
      "Minibatch iteration 152/765000: mean batch inertia: 0.188963, ewa inertia: 0.185306 \n",
      "Minibatch iteration 153/765000: mean batch inertia: 0.150453, ewa inertia: 0.185032 \n",
      "[MiniBatchKMeans] Reassigning 50 cluster centers.\n",
      "Minibatch iteration 154/765000: mean batch inertia: 0.149863, ewa inertia: 0.184755 \n",
      "Minibatch iteration 155/765000: mean batch inertia: 0.171404, ewa inertia: 0.184650 \n",
      "Minibatch iteration 156/765000: mean batch inertia: 0.208475, ewa inertia: 0.184837 \n",
      "Minibatch iteration 157/765000: mean batch inertia: 0.178522, ewa inertia: 0.184788 \n",
      "Minibatch iteration 158/765000: mean batch inertia: 0.161446, ewa inertia: 0.184604 \n",
      "Minibatch iteration 159/765000: mean batch inertia: 0.182894, ewa inertia: 0.184591 \n",
      "Minibatch iteration 160/765000: mean batch inertia: 0.166020, ewa inertia: 0.184444 \n",
      "Minibatch iteration 161/765000: mean batch inertia: 0.142346, ewa inertia: 0.184113 \n",
      "Minibatch iteration 162/765000: mean batch inertia: 0.183275, ewa inertia: 0.184107 \n",
      "Minibatch iteration 163/765000: mean batch inertia: 0.202728, ewa inertia: 0.184253 \n",
      "Minibatch iteration 164/765000: mean batch inertia: 0.136617, ewa inertia: 0.183878 \n",
      "[MiniBatchKMeans] Reassigning 50 cluster centers.\n",
      "Minibatch iteration 165/765000: mean batch inertia: 0.185928, ewa inertia: 0.183895 \n",
      "Minibatch iteration 166/765000: mean batch inertia: 0.192153, ewa inertia: 0.183960 \n",
      "Minibatch iteration 167/765000: mean batch inertia: 0.144951, ewa inertia: 0.183653 \n",
      "Minibatch iteration 168/765000: mean batch inertia: 0.162332, ewa inertia: 0.183485 \n",
      "Minibatch iteration 169/765000: mean batch inertia: 0.177023, ewa inertia: 0.183434 \n",
      "Minibatch iteration 170/765000: mean batch inertia: 0.140577, ewa inertia: 0.183097 \n",
      "Minibatch iteration 171/765000: mean batch inertia: 0.174409, ewa inertia: 0.183029 \n",
      "Minibatch iteration 172/765000: mean batch inertia: 0.160769, ewa inertia: 0.182854 \n",
      "Minibatch iteration 173/765000: mean batch inertia: 0.200870, ewa inertia: 0.182995 \n",
      "Minibatch iteration 174/765000: mean batch inertia: 0.146785, ewa inertia: 0.182710 \n",
      "Minibatch iteration 175/765000: mean batch inertia: 0.164003, ewa inertia: 0.182563 \n",
      "Minibatch iteration 176/765000: mean batch inertia: 0.160772, ewa inertia: 0.182392 \n",
      "Minibatch iteration 177/765000: mean batch inertia: 0.154206, ewa inertia: 0.182170 \n",
      "Minibatch iteration 178/765000: mean batch inertia: 0.154922, ewa inertia: 0.181956 \n",
      "Minibatch iteration 179/765000: mean batch inertia: 0.129294, ewa inertia: 0.181541 \n",
      "[MiniBatchKMeans] Reassigning 50 cluster centers.\n",
      "Minibatch iteration 180/765000: mean batch inertia: 0.148338, ewa inertia: 0.181280 \n",
      "Minibatch iteration 181/765000: mean batch inertia: 0.181238, ewa inertia: 0.181280 \n",
      "Minibatch iteration 182/765000: mean batch inertia: 0.133077, ewa inertia: 0.180901 \n",
      "Minibatch iteration 183/765000: mean batch inertia: 0.184526, ewa inertia: 0.180929 \n",
      "Minibatch iteration 184/765000: mean batch inertia: 0.181485, ewa inertia: 0.180934 \n",
      "Minibatch iteration 185/765000: mean batch inertia: 0.147674, ewa inertia: 0.180672 \n",
      "Minibatch iteration 186/765000: mean batch inertia: 0.169436, ewa inertia: 0.180584 \n",
      "Minibatch iteration 187/765000: mean batch inertia: 0.167598, ewa inertia: 0.180481 \n",
      "Minibatch iteration 188/765000: mean batch inertia: 0.175966, ewa inertia: 0.180446 \n",
      "Minibatch iteration 189/765000: mean batch inertia: 0.138697, ewa inertia: 0.180117 \n",
      "Minibatch iteration 190/765000: mean batch inertia: 0.203146, ewa inertia: 0.180299 \n",
      "Minibatch iteration 191/765000: mean batch inertia: 0.143358, ewa inertia: 0.180008 \n",
      "[MiniBatchKMeans] Reassigning 50 cluster centers.\n",
      "Minibatch iteration 192/765000: mean batch inertia: 0.174163, ewa inertia: 0.179962 \n",
      "Minibatch iteration 193/765000: mean batch inertia: 0.198185, ewa inertia: 0.180105 \n",
      "Minibatch iteration 194/765000: mean batch inertia: 0.188577, ewa inertia: 0.180172 \n",
      "Minibatch iteration 195/765000: mean batch inertia: 0.200360, ewa inertia: 0.180331 \n",
      "Minibatch iteration 196/765000: mean batch inertia: 0.180280, ewa inertia: 0.180330 \n",
      "Minibatch iteration 197/765000: mean batch inertia: 0.143213, ewa inertia: 0.180038 \n",
      "Minibatch iteration 198/765000: mean batch inertia: 0.228042, ewa inertia: 0.180416 \n",
      "Minibatch iteration 199/765000: mean batch inertia: 0.169016, ewa inertia: 0.180326 \n",
      "Minibatch iteration 200/765000: mean batch inertia: 0.150186, ewa inertia: 0.180089 \n",
      "Minibatch iteration 201/765000: mean batch inertia: 0.165087, ewa inertia: 0.179971 \n",
      "Minibatch iteration 202/765000: mean batch inertia: 0.188978, ewa inertia: 0.180042 \n",
      "Minibatch iteration 203/765000: mean batch inertia: 0.130482, ewa inertia: 0.179652 \n",
      "[MiniBatchKMeans] Reassigning 50 cluster centers.\n",
      "Minibatch iteration 204/765000: mean batch inertia: 0.167377, ewa inertia: 0.179556 \n",
      "Minibatch iteration 205/765000: mean batch inertia: 0.179857, ewa inertia: 0.179558 \n",
      "Minibatch iteration 206/765000: mean batch inertia: 0.196304, ewa inertia: 0.179690 \n",
      "Minibatch iteration 207/765000: mean batch inertia: 0.147286, ewa inertia: 0.179435 \n",
      "Minibatch iteration 208/765000: mean batch inertia: 0.158487, ewa inertia: 0.179270 \n",
      "Minibatch iteration 209/765000: mean batch inertia: 0.201692, ewa inertia: 0.179446 \n",
      "Minibatch iteration 210/765000: mean batch inertia: 0.151948, ewa inertia: 0.179230 \n",
      "Minibatch iteration 211/765000: mean batch inertia: 0.185571, ewa inertia: 0.179280 \n",
      "Minibatch iteration 212/765000: mean batch inertia: 0.193216, ewa inertia: 0.179390 \n",
      "Minibatch iteration 213/765000: mean batch inertia: 0.163668, ewa inertia: 0.179266 \n",
      "Minibatch iteration 214/765000: mean batch inertia: 0.136642, ewa inertia: 0.178931 \n",
      "Minibatch iteration 215/765000: mean batch inertia: 0.124549, ewa inertia: 0.178503 \n",
      "Minibatch iteration 216/765000: mean batch inertia: 0.148758, ewa inertia: 0.178269 \n",
      "Minibatch iteration 217/765000: mean batch inertia: 0.134686, ewa inertia: 0.177926 \n",
      "Minibatch iteration 218/765000: mean batch inertia: 0.145286, ewa inertia: 0.177669 \n",
      "Minibatch iteration 219/765000: mean batch inertia: 0.178150, ewa inertia: 0.177673 \n",
      "Minibatch iteration 220/765000: mean batch inertia: 0.226779, ewa inertia: 0.178059 \n",
      "[MiniBatchKMeans] Reassigning 50 cluster centers.\n",
      "Minibatch iteration 221/765000: mean batch inertia: 0.188411, ewa inertia: 0.178141 \n",
      "Minibatch iteration 222/765000: mean batch inertia: 0.170865, ewa inertia: 0.178083 \n",
      "Minibatch iteration 223/765000: mean batch inertia: 0.153620, ewa inertia: 0.177891 \n",
      "Minibatch iteration 224/765000: mean batch inertia: 0.143136, ewa inertia: 0.177618 \n",
      "Minibatch iteration 225/765000: mean batch inertia: 0.155087, ewa inertia: 0.177440 \n",
      "Minibatch iteration 226/765000: mean batch inertia: 0.147491, ewa inertia: 0.177205 \n",
      "Minibatch iteration 227/765000: mean batch inertia: 0.164855, ewa inertia: 0.177108 \n",
      "Minibatch iteration 228/765000: mean batch inertia: 0.207856, ewa inertia: 0.177349 \n",
      "Minibatch iteration 229/765000: mean batch inertia: 0.171360, ewa inertia: 0.177302 \n",
      "Minibatch iteration 230/765000: mean batch inertia: 0.127541, ewa inertia: 0.176911 \n",
      "Minibatch iteration 231/765000: mean batch inertia: 0.176151, ewa inertia: 0.176905 \n",
      "Minibatch iteration 232/765000: mean batch inertia: 0.115634, ewa inertia: 0.176423 \n",
      "Minibatch iteration 233/765000: mean batch inertia: 0.176183, ewa inertia: 0.176421 \n",
      "[MiniBatchKMeans] Reassigning 50 cluster centers.\n",
      "Minibatch iteration 234/765000: mean batch inertia: 0.146112, ewa inertia: 0.176183 \n",
      "Minibatch iteration 235/765000: mean batch inertia: 0.147670, ewa inertia: 0.175958 \n",
      "Minibatch iteration 236/765000: mean batch inertia: 0.157979, ewa inertia: 0.175817 \n",
      "Minibatch iteration 237/765000: mean batch inertia: 0.143124, ewa inertia: 0.175560 \n",
      "Minibatch iteration 238/765000: mean batch inertia: 0.179454, ewa inertia: 0.175590 \n",
      "Minibatch iteration 239/765000: mean batch inertia: 0.145161, ewa inertia: 0.175351 \n",
      "Minibatch iteration 240/765000: mean batch inertia: 0.158799, ewa inertia: 0.175221 \n",
      "Minibatch iteration 241/765000: mean batch inertia: 0.163797, ewa inertia: 0.175131 \n",
      "Minibatch iteration 242/765000: mean batch inertia: 0.170252, ewa inertia: 0.175092 \n",
      "Minibatch iteration 243/765000: mean batch inertia: 0.194142, ewa inertia: 0.175242 \n",
      "Minibatch iteration 244/765000: mean batch inertia: 0.149188, ewa inertia: 0.175037 \n",
      "Minibatch iteration 245/765000: mean batch inertia: 0.156354, ewa inertia: 0.174890 \n",
      "Minibatch iteration 246/765000: mean batch inertia: 0.153766, ewa inertia: 0.174724 \n",
      "[MiniBatchKMeans] Reassigning 50 cluster centers.\n",
      "Minibatch iteration 247/765000: mean batch inertia: 0.167359, ewa inertia: 0.174666 \n",
      "Minibatch iteration 248/765000: mean batch inertia: 0.188329, ewa inertia: 0.174774 \n",
      "Minibatch iteration 249/765000: mean batch inertia: 0.194497, ewa inertia: 0.174929 \n",
      "Minibatch iteration 250/765000: mean batch inertia: 0.152024, ewa inertia: 0.174749 \n",
      "Minibatch iteration 251/765000: mean batch inertia: 0.170610, ewa inertia: 0.174716 \n",
      "Minibatch iteration 252/765000: mean batch inertia: 0.171742, ewa inertia: 0.174693 \n",
      "Minibatch iteration 253/765000: mean batch inertia: 0.163579, ewa inertia: 0.174605 \n",
      "Minibatch iteration 254/765000: mean batch inertia: 0.175120, ewa inertia: 0.174609 \n",
      "Minibatch iteration 255/765000: mean batch inertia: 0.151561, ewa inertia: 0.174428 \n",
      "Minibatch iteration 256/765000: mean batch inertia: 0.152610, ewa inertia: 0.174256 \n",
      "Minibatch iteration 257/765000: mean batch inertia: 0.160383, ewa inertia: 0.174147 \n",
      "Minibatch iteration 258/765000: mean batch inertia: 0.147178, ewa inertia: 0.173935 \n",
      "Minibatch iteration 259/765000: mean batch inertia: 0.130260, ewa inertia: 0.173592 \n",
      "[MiniBatchKMeans] Reassigning 50 cluster centers.\n",
      "Minibatch iteration 260/765000: mean batch inertia: 0.164585, ewa inertia: 0.173521 \n",
      "Minibatch iteration 261/765000: mean batch inertia: 0.155901, ewa inertia: 0.173382 \n",
      "Minibatch iteration 262/765000: mean batch inertia: 0.155154, ewa inertia: 0.173239 \n",
      "Minibatch iteration 263/765000: mean batch inertia: 0.143735, ewa inertia: 0.173007 \n",
      "Minibatch iteration 264/765000: mean batch inertia: 0.146556, ewa inertia: 0.172798 \n",
      "Minibatch iteration 265/765000: mean batch inertia: 0.178852, ewa inertia: 0.172846 \n",
      "Minibatch iteration 266/765000: mean batch inertia: 0.159449, ewa inertia: 0.172741 \n",
      "Minibatch iteration 267/765000: mean batch inertia: 0.168685, ewa inertia: 0.172709 \n",
      "Minibatch iteration 268/765000: mean batch inertia: 0.169953, ewa inertia: 0.172687 \n",
      "Minibatch iteration 269/765000: mean batch inertia: 0.155989, ewa inertia: 0.172556 \n",
      "Minibatch iteration 270/765000: mean batch inertia: 0.123131, ewa inertia: 0.172167 \n",
      "Minibatch iteration 271/765000: mean batch inertia: 0.169562, ewa inertia: 0.172146 \n",
      "Minibatch iteration 272/765000: mean batch inertia: 0.170085, ewa inertia: 0.172130 \n",
      "[MiniBatchKMeans] Reassigning 50 cluster centers.\n",
      "Minibatch iteration 273/765000: mean batch inertia: 0.142209, ewa inertia: 0.171895 \n",
      "Minibatch iteration 274/765000: mean batch inertia: 0.123601, ewa inertia: 0.171515 \n",
      "Minibatch iteration 275/765000: mean batch inertia: 0.170723, ewa inertia: 0.171509 \n",
      "Minibatch iteration 276/765000: mean batch inertia: 0.187753, ewa inertia: 0.171636 \n",
      "Minibatch iteration 277/765000: mean batch inertia: 0.120748, ewa inertia: 0.171236 \n",
      "Minibatch iteration 278/765000: mean batch inertia: 0.128398, ewa inertia: 0.170899 \n",
      "Minibatch iteration 279/765000: mean batch inertia: 0.158081, ewa inertia: 0.170798 \n"
     ]
    },
    {
     "name": "stdout",
     "output_type": "stream",
     "text": [
      "Minibatch iteration 280/765000: mean batch inertia: 0.151184, ewa inertia: 0.170644 \n",
      "Minibatch iteration 281/765000: mean batch inertia: 0.162695, ewa inertia: 0.170581 \n",
      "Minibatch iteration 282/765000: mean batch inertia: 0.191781, ewa inertia: 0.170748 \n",
      "Minibatch iteration 283/765000: mean batch inertia: 0.216888, ewa inertia: 0.171111 \n",
      "Minibatch iteration 284/765000: mean batch inertia: 0.185352, ewa inertia: 0.171223 \n",
      "Minibatch iteration 285/765000: mean batch inertia: 0.196212, ewa inertia: 0.171420 \n",
      "[MiniBatchKMeans] Reassigning 50 cluster centers.\n",
      "Minibatch iteration 286/765000: mean batch inertia: 0.143297, ewa inertia: 0.171199 \n",
      "Minibatch iteration 287/765000: mean batch inertia: 0.165499, ewa inertia: 0.171154 \n",
      "Minibatch iteration 288/765000: mean batch inertia: 0.149021, ewa inertia: 0.170980 \n",
      "Minibatch iteration 289/765000: mean batch inertia: 0.148695, ewa inertia: 0.170804 \n",
      "Minibatch iteration 290/765000: mean batch inertia: 0.167192, ewa inertia: 0.170776 \n",
      "Minibatch iteration 291/765000: mean batch inertia: 0.135297, ewa inertia: 0.170497 \n",
      "Minibatch iteration 292/765000: mean batch inertia: 0.159259, ewa inertia: 0.170408 \n",
      "Minibatch iteration 293/765000: mean batch inertia: 0.234459, ewa inertia: 0.170912 \n",
      "Minibatch iteration 294/765000: mean batch inertia: 0.158524, ewa inertia: 0.170815 \n",
      "Minibatch iteration 295/765000: mean batch inertia: 0.176318, ewa inertia: 0.170858 \n",
      "Minibatch iteration 296/765000: mean batch inertia: 0.169166, ewa inertia: 0.170845 \n",
      "Minibatch iteration 297/765000: mean batch inertia: 0.153645, ewa inertia: 0.170709 \n",
      "Minibatch iteration 298/765000: mean batch inertia: 0.140771, ewa inertia: 0.170474 \n",
      "Minibatch iteration 299/765000: mean batch inertia: 0.144747, ewa inertia: 0.170272 \n",
      "Minibatch iteration 300/765000: mean batch inertia: 0.163322, ewa inertia: 0.170217 \n",
      "Minibatch iteration 301/765000: mean batch inertia: 0.168213, ewa inertia: 0.170201 \n",
      "Minibatch iteration 302/765000: mean batch inertia: 0.182472, ewa inertia: 0.170298 \n",
      "Minibatch iteration 303/765000: mean batch inertia: 0.135592, ewa inertia: 0.170025 \n",
      "Minibatch iteration 304/765000: mean batch inertia: 0.163350, ewa inertia: 0.169972 \n",
      "Minibatch iteration 305/765000: mean batch inertia: 0.193184, ewa inertia: 0.170155 \n",
      "Minibatch iteration 306/765000: mean batch inertia: 0.157447, ewa inertia: 0.170055 \n",
      "Minibatch iteration 307/765000: mean batch inertia: 0.218252, ewa inertia: 0.170434 \n",
      "[MiniBatchKMeans] Reassigning 50 cluster centers.\n",
      "Minibatch iteration 308/765000: mean batch inertia: 0.126152, ewa inertia: 0.170086 \n",
      "Minibatch iteration 309/765000: mean batch inertia: 0.145164, ewa inertia: 0.169889 \n",
      "Minibatch iteration 310/765000: mean batch inertia: 0.143983, ewa inertia: 0.169686 \n",
      "Minibatch iteration 311/765000: mean batch inertia: 0.164189, ewa inertia: 0.169642 \n",
      "Minibatch iteration 312/765000: mean batch inertia: 0.161209, ewa inertia: 0.169576 \n",
      "Minibatch iteration 313/765000: mean batch inertia: 0.179058, ewa inertia: 0.169651 \n",
      "Minibatch iteration 314/765000: mean batch inertia: 0.180056, ewa inertia: 0.169733 \n",
      "Minibatch iteration 315/765000: mean batch inertia: 0.168375, ewa inertia: 0.169722 \n",
      "Minibatch iteration 316/765000: mean batch inertia: 0.150112, ewa inertia: 0.169568 \n",
      "Minibatch iteration 317/765000: mean batch inertia: 0.168845, ewa inertia: 0.169562 \n",
      "Minibatch iteration 318/765000: mean batch inertia: 0.176589, ewa inertia: 0.169617 \n",
      "Minibatch iteration 319/765000: mean batch inertia: 0.156723, ewa inertia: 0.169516 \n",
      "Minibatch iteration 320/765000: mean batch inertia: 0.184463, ewa inertia: 0.169633 \n",
      "Minibatch iteration 321/765000: mean batch inertia: 0.172713, ewa inertia: 0.169658 \n",
      "[MiniBatchKMeans] Reassigning 50 cluster centers.\n",
      "Minibatch iteration 322/765000: mean batch inertia: 0.168358, ewa inertia: 0.169647 \n",
      "Minibatch iteration 323/765000: mean batch inertia: 0.187562, ewa inertia: 0.169788 \n",
      "Minibatch iteration 324/765000: mean batch inertia: 0.165183, ewa inertia: 0.169752 \n",
      "Minibatch iteration 325/765000: mean batch inertia: 0.172564, ewa inertia: 0.169774 \n",
      "Minibatch iteration 326/765000: mean batch inertia: 0.166922, ewa inertia: 0.169752 \n",
      "Minibatch iteration 327/765000: mean batch inertia: 0.176801, ewa inertia: 0.169807 \n",
      "Minibatch iteration 328/765000: mean batch inertia: 0.170187, ewa inertia: 0.169810 \n",
      "Minibatch iteration 329/765000: mean batch inertia: 0.174491, ewa inertia: 0.169847 \n",
      "Minibatch iteration 330/765000: mean batch inertia: 0.141292, ewa inertia: 0.169622 \n",
      "Minibatch iteration 331/765000: mean batch inertia: 0.189343, ewa inertia: 0.169778 \n",
      "Minibatch iteration 332/765000: mean batch inertia: 0.191183, ewa inertia: 0.169946 \n",
      "Minibatch iteration 333/765000: mean batch inertia: 0.206622, ewa inertia: 0.170234 \n",
      "Minibatch iteration 334/765000: mean batch inertia: 0.165619, ewa inertia: 0.170198 \n",
      "Minibatch iteration 335/765000: mean batch inertia: 0.205497, ewa inertia: 0.170476 \n",
      "[MiniBatchKMeans] Reassigning 50 cluster centers.\n",
      "Minibatch iteration 336/765000: mean batch inertia: 0.175304, ewa inertia: 0.170514 \n",
      "Minibatch iteration 337/765000: mean batch inertia: 0.180123, ewa inertia: 0.170589 \n",
      "Minibatch iteration 338/765000: mean batch inertia: 0.140499, ewa inertia: 0.170353 \n",
      "Minibatch iteration 339/765000: mean batch inertia: 0.173376, ewa inertia: 0.170376 \n",
      "Minibatch iteration 340/765000: mean batch inertia: 0.148173, ewa inertia: 0.170202 \n",
      "Minibatch iteration 341/765000: mean batch inertia: 0.130977, ewa inertia: 0.169893 \n",
      "Minibatch iteration 342/765000: mean batch inertia: 0.150264, ewa inertia: 0.169739 \n",
      "Minibatch iteration 343/765000: mean batch inertia: 0.146621, ewa inertia: 0.169557 \n",
      "Minibatch iteration 344/765000: mean batch inertia: 0.131283, ewa inertia: 0.169256 \n",
      "Minibatch iteration 345/765000: mean batch inertia: 0.174894, ewa inertia: 0.169300 \n",
      "Minibatch iteration 346/765000: mean batch inertia: 0.135620, ewa inertia: 0.169035 \n",
      "Minibatch iteration 347/765000: mean batch inertia: 0.177561, ewa inertia: 0.169102 \n",
      "Minibatch iteration 348/765000: mean batch inertia: 0.159314, ewa inertia: 0.169025 \n",
      "Minibatch iteration 349/765000: mean batch inertia: 0.166318, ewa inertia: 0.169004 \n",
      "[MiniBatchKMeans] Reassigning 50 cluster centers.\n",
      "Minibatch iteration 350/765000: mean batch inertia: 0.159204, ewa inertia: 0.168927 \n",
      "Minibatch iteration 351/765000: mean batch inertia: 0.146637, ewa inertia: 0.168752 \n",
      "Minibatch iteration 352/765000: mean batch inertia: 0.174165, ewa inertia: 0.168794 \n",
      "Minibatch iteration 353/765000: mean batch inertia: 0.175374, ewa inertia: 0.168846 \n",
      "Minibatch iteration 354/765000: mean batch inertia: 0.162078, ewa inertia: 0.168793 \n",
      "Minibatch iteration 355/765000: mean batch inertia: 0.177601, ewa inertia: 0.168862 \n",
      "Minibatch iteration 356/765000: mean batch inertia: 0.172613, ewa inertia: 0.168891 \n",
      "Minibatch iteration 357/765000: mean batch inertia: 0.157259, ewa inertia: 0.168800 \n",
      "Minibatch iteration 358/765000: mean batch inertia: 0.170555, ewa inertia: 0.168814 \n",
      "Minibatch iteration 359/765000: mean batch inertia: 0.201643, ewa inertia: 0.169072 \n",
      "Minibatch iteration 360/765000: mean batch inertia: 0.164166, ewa inertia: 0.169033 \n",
      "Minibatch iteration 361/765000: mean batch inertia: 0.156197, ewa inertia: 0.168932 \n",
      "Minibatch iteration 362/765000: mean batch inertia: 0.160614, ewa inertia: 0.168867 \n",
      "Minibatch iteration 363/765000: mean batch inertia: 0.148488, ewa inertia: 0.168707 \n",
      "[MiniBatchKMeans] Reassigning 50 cluster centers.\n",
      "Minibatch iteration 364/765000: mean batch inertia: 0.135546, ewa inertia: 0.168446 \n",
      "Minibatch iteration 365/765000: mean batch inertia: 0.165362, ewa inertia: 0.168422 \n",
      "Minibatch iteration 366/765000: mean batch inertia: 0.205450, ewa inertia: 0.168713 \n",
      "Minibatch iteration 367/765000: mean batch inertia: 0.126439, ewa inertia: 0.168380 \n",
      "Minibatch iteration 368/765000: mean batch inertia: 0.193466, ewa inertia: 0.168578 \n",
      "Minibatch iteration 369/765000: mean batch inertia: 0.186666, ewa inertia: 0.168720 \n",
      "Minibatch iteration 370/765000: mean batch inertia: 0.184650, ewa inertia: 0.168845 \n",
      "Minibatch iteration 371/765000: mean batch inertia: 0.135333, ewa inertia: 0.168582 \n",
      "Minibatch iteration 372/765000: mean batch inertia: 0.137541, ewa inertia: 0.168337 \n",
      "Minibatch iteration 373/765000: mean batch inertia: 0.203960, ewa inertia: 0.168618 \n",
      "Minibatch iteration 374/765000: mean batch inertia: 0.175813, ewa inertia: 0.168674 \n",
      "Minibatch iteration 375/765000: mean batch inertia: 0.215573, ewa inertia: 0.169043 \n",
      "Minibatch iteration 376/765000: mean batch inertia: 0.152951, ewa inertia: 0.168917 \n",
      "Minibatch iteration 377/765000: mean batch inertia: 0.142004, ewa inertia: 0.168705 \n",
      "[MiniBatchKMeans] Reassigning 50 cluster centers.\n",
      "Minibatch iteration 378/765000: mean batch inertia: 0.146485, ewa inertia: 0.168530 \n",
      "Minibatch iteration 379/765000: mean batch inertia: 0.162162, ewa inertia: 0.168480 \n",
      "Minibatch iteration 380/765000: mean batch inertia: 0.115302, ewa inertia: 0.168062 \n",
      "Minibatch iteration 381/765000: mean batch inertia: 0.201053, ewa inertia: 0.168321 \n",
      "Minibatch iteration 382/765000: mean batch inertia: 0.194217, ewa inertia: 0.168525 \n",
      "Minibatch iteration 383/765000: mean batch inertia: 0.179013, ewa inertia: 0.168607 \n",
      "Minibatch iteration 384/765000: mean batch inertia: 0.186138, ewa inertia: 0.168745 \n",
      "Minibatch iteration 385/765000: mean batch inertia: 0.175375, ewa inertia: 0.168798 \n",
      "Minibatch iteration 386/765000: mean batch inertia: 0.169669, ewa inertia: 0.168804 \n",
      "Minibatch iteration 387/765000: mean batch inertia: 0.110684, ewa inertia: 0.168347 \n",
      "Minibatch iteration 388/765000: mean batch inertia: 0.133224, ewa inertia: 0.168071 \n",
      "Minibatch iteration 389/765000: mean batch inertia: 0.219974, ewa inertia: 0.168479 \n",
      "Minibatch iteration 390/765000: mean batch inertia: 0.184767, ewa inertia: 0.168607 \n",
      "Minibatch iteration 391/765000: mean batch inertia: 0.156421, ewa inertia: 0.168511 \n",
      "[MiniBatchKMeans] Reassigning 50 cluster centers.\n",
      "Minibatch iteration 392/765000: mean batch inertia: 0.171872, ewa inertia: 0.168538 \n",
      "Minibatch iteration 393/765000: mean batch inertia: 0.178021, ewa inertia: 0.168612 \n",
      "Minibatch iteration 394/765000: mean batch inertia: 0.173997, ewa inertia: 0.168655 \n",
      "Minibatch iteration 395/765000: mean batch inertia: 0.162395, ewa inertia: 0.168606 \n",
      "Minibatch iteration 396/765000: mean batch inertia: 0.154650, ewa inertia: 0.168496 \n",
      "Minibatch iteration 397/765000: mean batch inertia: 0.170930, ewa inertia: 0.168515 \n",
      "Minibatch iteration 398/765000: mean batch inertia: 0.173585, ewa inertia: 0.168555 \n",
      "Minibatch iteration 399/765000: mean batch inertia: 0.188032, ewa inertia: 0.168708 \n",
      "Minibatch iteration 400/765000: mean batch inertia: 0.158007, ewa inertia: 0.168624 \n",
      "Minibatch iteration 401/765000: mean batch inertia: 0.161159, ewa inertia: 0.168565 \n",
      "Minibatch iteration 402/765000: mean batch inertia: 0.196324, ewa inertia: 0.168784 \n",
      "Minibatch iteration 403/765000: mean batch inertia: 0.171738, ewa inertia: 0.168807 \n",
      "Minibatch iteration 404/765000: mean batch inertia: 0.153869, ewa inertia: 0.168689 \n",
      "Minibatch iteration 405/765000: mean batch inertia: 0.164458, ewa inertia: 0.168656 \n",
      "[MiniBatchKMeans] Reassigning 50 cluster centers.\n",
      "Minibatch iteration 406/765000: mean batch inertia: 0.158671, ewa inertia: 0.168577 \n",
      "Minibatch iteration 407/765000: mean batch inertia: 0.157769, ewa inertia: 0.168492 \n",
      "Minibatch iteration 408/765000: mean batch inertia: 0.155664, ewa inertia: 0.168391 \n",
      "Minibatch iteration 409/765000: mean batch inertia: 0.182405, ewa inertia: 0.168502 \n",
      "Minibatch iteration 410/765000: mean batch inertia: 0.158445, ewa inertia: 0.168423 \n",
      "Minibatch iteration 411/765000: mean batch inertia: 0.144361, ewa inertia: 0.168233 \n",
      "Minibatch iteration 412/765000: mean batch inertia: 0.155105, ewa inertia: 0.168130 \n",
      "Minibatch iteration 413/765000: mean batch inertia: 0.122483, ewa inertia: 0.167771 \n",
      "Minibatch iteration 414/765000: mean batch inertia: 0.173413, ewa inertia: 0.167815 \n",
      "Minibatch iteration 415/765000: mean batch inertia: 0.175411, ewa inertia: 0.167875 \n",
      "Minibatch iteration 416/765000: mean batch inertia: 0.155374, ewa inertia: 0.167777 \n",
      "Minibatch iteration 417/765000: mean batch inertia: 0.133041, ewa inertia: 0.167503 \n",
      "Minibatch iteration 418/765000: mean batch inertia: 0.190920, ewa inertia: 0.167688 \n",
      "Minibatch iteration 419/765000: mean batch inertia: 0.211790, ewa inertia: 0.168035 \n",
      "[MiniBatchKMeans] Reassigning 50 cluster centers.\n",
      "Minibatch iteration 420/765000: mean batch inertia: 0.177887, ewa inertia: 0.168112 \n",
      "Minibatch iteration 421/765000: mean batch inertia: 0.164287, ewa inertia: 0.168082 \n",
      "Minibatch iteration 422/765000: mean batch inertia: 0.198735, ewa inertia: 0.168323 \n"
     ]
    },
    {
     "name": "stdout",
     "output_type": "stream",
     "text": [
      "Minibatch iteration 423/765000: mean batch inertia: 0.194331, ewa inertia: 0.168528 \n",
      "Minibatch iteration 424/765000: mean batch inertia: 0.195855, ewa inertia: 0.168743 \n",
      "Minibatch iteration 425/765000: mean batch inertia: 0.186440, ewa inertia: 0.168882 \n",
      "Minibatch iteration 426/765000: mean batch inertia: 0.168819, ewa inertia: 0.168881 \n",
      "Minibatch iteration 427/765000: mean batch inertia: 0.143702, ewa inertia: 0.168683 \n",
      "Minibatch iteration 428/765000: mean batch inertia: 0.182284, ewa inertia: 0.168790 \n",
      "Minibatch iteration 429/765000: mean batch inertia: 0.165090, ewa inertia: 0.168761 \n",
      "Minibatch iteration 430/765000: mean batch inertia: 0.166510, ewa inertia: 0.168744 \n",
      "Minibatch iteration 431/765000: mean batch inertia: 0.171588, ewa inertia: 0.168766 \n",
      "Minibatch iteration 432/765000: mean batch inertia: 0.175266, ewa inertia: 0.168817 \n",
      "Minibatch iteration 433/765000: mean batch inertia: 0.143478, ewa inertia: 0.168618 \n",
      "[MiniBatchKMeans] Reassigning 50 cluster centers.\n",
      "Minibatch iteration 434/765000: mean batch inertia: 0.174519, ewa inertia: 0.168664 \n",
      "Minibatch iteration 435/765000: mean batch inertia: 0.157419, ewa inertia: 0.168576 \n",
      "Minibatch iteration 436/765000: mean batch inertia: 0.173698, ewa inertia: 0.168616 \n",
      "Minibatch iteration 437/765000: mean batch inertia: 0.172411, ewa inertia: 0.168646 \n",
      "Minibatch iteration 438/765000: mean batch inertia: 0.189892, ewa inertia: 0.168813 \n",
      "Minibatch iteration 439/765000: mean batch inertia: 0.204666, ewa inertia: 0.169095 \n",
      "Minibatch iteration 440/765000: mean batch inertia: 0.176926, ewa inertia: 0.169157 \n",
      "Minibatch iteration 441/765000: mean batch inertia: 0.141078, ewa inertia: 0.168936 \n",
      "Minibatch iteration 442/765000: mean batch inertia: 0.192917, ewa inertia: 0.169124 \n",
      "Minibatch iteration 443/765000: mean batch inertia: 0.157459, ewa inertia: 0.169033 \n",
      "Minibatch iteration 444/765000: mean batch inertia: 0.163149, ewa inertia: 0.168986 \n",
      "Minibatch iteration 445/765000: mean batch inertia: 0.170740, ewa inertia: 0.169000 \n",
      "Minibatch iteration 446/765000: mean batch inertia: 0.166200, ewa inertia: 0.168978 \n",
      "Minibatch iteration 447/765000: mean batch inertia: 0.177306, ewa inertia: 0.169044 \n",
      "[MiniBatchKMeans] Reassigning 50 cluster centers.\n",
      "Minibatch iteration 448/765000: mean batch inertia: 0.170279, ewa inertia: 0.169053 \n",
      "Minibatch iteration 449/765000: mean batch inertia: 0.165618, ewa inertia: 0.169026 \n",
      "Minibatch iteration 450/765000: mean batch inertia: 0.189051, ewa inertia: 0.169184 \n",
      "Minibatch iteration 451/765000: mean batch inertia: 0.197858, ewa inertia: 0.169409 \n",
      "Minibatch iteration 452/765000: mean batch inertia: 0.142037, ewa inertia: 0.169194 \n",
      "Minibatch iteration 453/765000: mean batch inertia: 0.194340, ewa inertia: 0.169392 \n",
      "Minibatch iteration 454/765000: mean batch inertia: 0.179546, ewa inertia: 0.169472 \n",
      "Minibatch iteration 455/765000: mean batch inertia: 0.124935, ewa inertia: 0.169121 \n",
      "Minibatch iteration 456/765000: mean batch inertia: 0.192569, ewa inertia: 0.169306 \n",
      "Minibatch iteration 457/765000: mean batch inertia: 0.162168, ewa inertia: 0.169250 \n",
      "Minibatch iteration 458/765000: mean batch inertia: 0.146443, ewa inertia: 0.169070 \n",
      "Minibatch iteration 459/765000: mean batch inertia: 0.193828, ewa inertia: 0.169265 \n",
      "Minibatch iteration 460/765000: mean batch inertia: 0.118554, ewa inertia: 0.168866 \n",
      "Minibatch iteration 461/765000: mean batch inertia: 0.163986, ewa inertia: 0.168828 \n",
      "[MiniBatchKMeans] Reassigning 50 cluster centers.\n",
      "Minibatch iteration 462/765000: mean batch inertia: 0.125678, ewa inertia: 0.168488 \n",
      "Minibatch iteration 463/765000: mean batch inertia: 0.195105, ewa inertia: 0.168698 \n",
      "Minibatch iteration 464/765000: mean batch inertia: 0.144470, ewa inertia: 0.168507 \n",
      "Minibatch iteration 465/765000: mean batch inertia: 0.139300, ewa inertia: 0.168277 \n",
      "Minibatch iteration 466/765000: mean batch inertia: 0.154644, ewa inertia: 0.168170 \n",
      "Minibatch iteration 467/765000: mean batch inertia: 0.177217, ewa inertia: 0.168241 \n",
      "Minibatch iteration 468/765000: mean batch inertia: 0.143665, ewa inertia: 0.168048 \n",
      "Minibatch iteration 469/765000: mean batch inertia: 0.174804, ewa inertia: 0.168101 \n",
      "Minibatch iteration 470/765000: mean batch inertia: 0.188391, ewa inertia: 0.168261 \n",
      "Minibatch iteration 471/765000: mean batch inertia: 0.188443, ewa inertia: 0.168419 \n",
      "Minibatch iteration 472/765000: mean batch inertia: 0.167727, ewa inertia: 0.168414 \n",
      "Minibatch iteration 473/765000: mean batch inertia: 0.199058, ewa inertia: 0.168655 \n",
      "Minibatch iteration 474/765000: mean batch inertia: 0.152242, ewa inertia: 0.168526 \n",
      "Minibatch iteration 475/765000: mean batch inertia: 0.155680, ewa inertia: 0.168425 \n",
      "[MiniBatchKMeans] Reassigning 50 cluster centers.\n",
      "Minibatch iteration 476/765000: mean batch inertia: 0.160808, ewa inertia: 0.168365 \n",
      "Minibatch iteration 477/765000: mean batch inertia: 0.160194, ewa inertia: 0.168301 \n",
      "Minibatch iteration 478/765000: mean batch inertia: 0.138688, ewa inertia: 0.168068 \n",
      "Minibatch iteration 479/765000: mean batch inertia: 0.175468, ewa inertia: 0.168126 \n",
      "Minibatch iteration 480/765000: mean batch inertia: 0.162242, ewa inertia: 0.168080 \n",
      "Minibatch iteration 481/765000: mean batch inertia: 0.111045, ewa inertia: 0.167631 \n",
      "Minibatch iteration 482/765000: mean batch inertia: 0.139847, ewa inertia: 0.167412 \n",
      "Minibatch iteration 483/765000: mean batch inertia: 0.168774, ewa inertia: 0.167423 \n",
      "Minibatch iteration 484/765000: mean batch inertia: 0.177049, ewa inertia: 0.167499 \n",
      "Minibatch iteration 485/765000: mean batch inertia: 0.167883, ewa inertia: 0.167502 \n",
      "Minibatch iteration 486/765000: mean batch inertia: 0.174514, ewa inertia: 0.167557 \n",
      "Minibatch iteration 487/765000: mean batch inertia: 0.175146, ewa inertia: 0.167617 \n",
      "Minibatch iteration 488/765000: mean batch inertia: 0.148275, ewa inertia: 0.167465 \n",
      "Minibatch iteration 489/765000: mean batch inertia: 0.201754, ewa inertia: 0.167734 \n",
      "[MiniBatchKMeans] Reassigning 50 cluster centers.\n",
      "Minibatch iteration 490/765000: mean batch inertia: 0.161453, ewa inertia: 0.167685 \n",
      "Minibatch iteration 491/765000: mean batch inertia: 0.150841, ewa inertia: 0.167552 \n",
      "Minibatch iteration 492/765000: mean batch inertia: 0.122411, ewa inertia: 0.167197 \n",
      "Minibatch iteration 493/765000: mean batch inertia: 0.168656, ewa inertia: 0.167209 \n",
      "Minibatch iteration 494/765000: mean batch inertia: 0.146994, ewa inertia: 0.167050 \n",
      "Minibatch iteration 495/765000: mean batch inertia: 0.151951, ewa inertia: 0.166931 \n",
      "Minibatch iteration 496/765000: mean batch inertia: 0.159748, ewa inertia: 0.166874 \n",
      "Minibatch iteration 497/765000: mean batch inertia: 0.156535, ewa inertia: 0.166793 \n",
      "Minibatch iteration 498/765000: mean batch inertia: 0.153491, ewa inertia: 0.166688 \n",
      "Minibatch iteration 499/765000: mean batch inertia: 0.190314, ewa inertia: 0.166874 \n",
      "Minibatch iteration 500/765000: mean batch inertia: 0.203639, ewa inertia: 0.167164 \n",
      "Minibatch iteration 501/765000: mean batch inertia: 0.200688, ewa inertia: 0.167427 \n",
      "Minibatch iteration 502/765000: mean batch inertia: 0.157651, ewa inertia: 0.167350 \n",
      "Minibatch iteration 503/765000: mean batch inertia: 0.157974, ewa inertia: 0.167277 \n",
      "[MiniBatchKMeans] Reassigning 50 cluster centers.\n",
      "Minibatch iteration 504/765000: mean batch inertia: 0.181719, ewa inertia: 0.167390 \n",
      "Minibatch iteration 505/765000: mean batch inertia: 0.210400, ewa inertia: 0.167729 \n",
      "Minibatch iteration 506/765000: mean batch inertia: 0.207188, ewa inertia: 0.168039 \n",
      "Minibatch iteration 507/765000: mean batch inertia: 0.159594, ewa inertia: 0.167973 \n",
      "Minibatch iteration 508/765000: mean batch inertia: 0.166782, ewa inertia: 0.167963 \n",
      "Minibatch iteration 509/765000: mean batch inertia: 0.153351, ewa inertia: 0.167848 \n",
      "Minibatch iteration 510/765000: mean batch inertia: 0.147889, ewa inertia: 0.167691 \n",
      "Minibatch iteration 511/765000: mean batch inertia: 0.146408, ewa inertia: 0.167524 \n",
      "Minibatch iteration 512/765000: mean batch inertia: 0.162394, ewa inertia: 0.167483 \n",
      "Minibatch iteration 513/765000: mean batch inertia: 0.142755, ewa inertia: 0.167289 \n",
      "Minibatch iteration 514/765000: mean batch inertia: 0.183425, ewa inertia: 0.167416 \n",
      "Minibatch iteration 515/765000: mean batch inertia: 0.162500, ewa inertia: 0.167377 \n",
      "Minibatch iteration 516/765000: mean batch inertia: 0.179778, ewa inertia: 0.167475 \n",
      "Minibatch iteration 517/765000: mean batch inertia: 0.187781, ewa inertia: 0.167634 \n",
      "[MiniBatchKMeans] Reassigning 50 cluster centers.\n",
      "Minibatch iteration 518/765000: mean batch inertia: 0.176113, ewa inertia: 0.167701 \n",
      "Minibatch iteration 519/765000: mean batch inertia: 0.177817, ewa inertia: 0.167781 \n",
      "Minibatch iteration 520/765000: mean batch inertia: 0.132196, ewa inertia: 0.167501 \n",
      "Minibatch iteration 521/765000: mean batch inertia: 0.144185, ewa inertia: 0.167317 \n",
      "Minibatch iteration 522/765000: mean batch inertia: 0.181361, ewa inertia: 0.167428 \n",
      "Minibatch iteration 523/765000: mean batch inertia: 0.186850, ewa inertia: 0.167581 \n",
      "Minibatch iteration 524/765000: mean batch inertia: 0.196977, ewa inertia: 0.167812 \n",
      "Minibatch iteration 525/765000: mean batch inertia: 0.127918, ewa inertia: 0.167498 \n",
      "Minibatch iteration 526/765000: mean batch inertia: 0.178053, ewa inertia: 0.167581 \n",
      "Minibatch iteration 527/765000: mean batch inertia: 0.154868, ewa inertia: 0.167481 \n",
      "Minibatch iteration 528/765000: mean batch inertia: 0.169537, ewa inertia: 0.167497 \n",
      "Minibatch iteration 529/765000: mean batch inertia: 0.143621, ewa inertia: 0.167309 \n",
      "Minibatch iteration 530/765000: mean batch inertia: 0.149023, ewa inertia: 0.167166 \n",
      "Minibatch iteration 531/765000: mean batch inertia: 0.186582, ewa inertia: 0.167318 \n",
      "[MiniBatchKMeans] Reassigning 50 cluster centers.\n",
      "Minibatch iteration 532/765000: mean batch inertia: 0.167366, ewa inertia: 0.167319 \n",
      "Minibatch iteration 533/765000: mean batch inertia: 0.188563, ewa inertia: 0.167486 \n",
      "Minibatch iteration 534/765000: mean batch inertia: 0.171346, ewa inertia: 0.167516 \n",
      "Minibatch iteration 535/765000: mean batch inertia: 0.171597, ewa inertia: 0.167548 \n",
      "Minibatch iteration 536/765000: mean batch inertia: 0.135415, ewa inertia: 0.167296 \n",
      "Minibatch iteration 537/765000: mean batch inertia: 0.135836, ewa inertia: 0.167048 \n",
      "Minibatch iteration 538/765000: mean batch inertia: 0.166913, ewa inertia: 0.167047 \n",
      "Minibatch iteration 539/765000: mean batch inertia: 0.163603, ewa inertia: 0.167020 \n",
      "Minibatch iteration 540/765000: mean batch inertia: 0.192695, ewa inertia: 0.167222 \n",
      "Minibatch iteration 541/765000: mean batch inertia: 0.206511, ewa inertia: 0.167531 \n",
      "Minibatch iteration 542/765000: mean batch inertia: 0.165886, ewa inertia: 0.167518 \n",
      "Minibatch iteration 543/765000: mean batch inertia: 0.127853, ewa inertia: 0.167206 \n",
      "Minibatch iteration 544/765000: mean batch inertia: 0.187097, ewa inertia: 0.167362 \n",
      "Minibatch iteration 545/765000: mean batch inertia: 0.143118, ewa inertia: 0.167172 \n",
      "[MiniBatchKMeans] Reassigning 50 cluster centers.\n",
      "Minibatch iteration 546/765000: mean batch inertia: 0.209492, ewa inertia: 0.167505 \n"
     ]
    },
    {
     "name": "stdout",
     "output_type": "stream",
     "text": [
      "Minibatch iteration 547/765000: mean batch inertia: 0.165411, ewa inertia: 0.167488 \n",
      "Minibatch iteration 548/765000: mean batch inertia: 0.166944, ewa inertia: 0.167484 \n",
      "Minibatch iteration 549/765000: mean batch inertia: 0.231167, ewa inertia: 0.167985 \n",
      "Minibatch iteration 550/765000: mean batch inertia: 0.167147, ewa inertia: 0.167978 \n",
      "Minibatch iteration 551/765000: mean batch inertia: 0.135842, ewa inertia: 0.167725 \n",
      "Minibatch iteration 552/765000: mean batch inertia: 0.165889, ewa inertia: 0.167711 \n",
      "Minibatch iteration 553/765000: mean batch inertia: 0.202548, ewa inertia: 0.167985 \n",
      "Minibatch iteration 554/765000: mean batch inertia: 0.178186, ewa inertia: 0.168065 \n",
      "Minibatch iteration 555/765000: mean batch inertia: 0.178066, ewa inertia: 0.168144 \n",
      "Minibatch iteration 556/765000: mean batch inertia: 0.166273, ewa inertia: 0.168129 \n",
      "Minibatch iteration 557/765000: mean batch inertia: 0.242871, ewa inertia: 0.168717 \n",
      "Minibatch iteration 558/765000: mean batch inertia: 0.151100, ewa inertia: 0.168579 \n",
      "Minibatch iteration 559/765000: mean batch inertia: 0.187399, ewa inertia: 0.168727 \n",
      "[MiniBatchKMeans] Reassigning 50 cluster centers.\n",
      "Minibatch iteration 560/765000: mean batch inertia: 0.160027, ewa inertia: 0.168658 \n",
      "Minibatch iteration 561/765000: mean batch inertia: 0.196699, ewa inertia: 0.168879 \n",
      "Minibatch iteration 562/765000: mean batch inertia: 0.147095, ewa inertia: 0.168708 \n",
      "Minibatch iteration 563/765000: mean batch inertia: 0.126922, ewa inertia: 0.168379 \n",
      "Minibatch iteration 564/765000: mean batch inertia: 0.132148, ewa inertia: 0.168094 \n",
      "Minibatch iteration 565/765000: mean batch inertia: 0.183828, ewa inertia: 0.168218 \n",
      "Minibatch iteration 566/765000: mean batch inertia: 0.133602, ewa inertia: 0.167945 \n",
      "Minibatch iteration 567/765000: mean batch inertia: 0.159039, ewa inertia: 0.167875 \n",
      "Minibatch iteration 568/765000: mean batch inertia: 0.122298, ewa inertia: 0.167517 \n",
      "Minibatch iteration 569/765000: mean batch inertia: 0.164268, ewa inertia: 0.167491 \n",
      "Minibatch iteration 570/765000: mean batch inertia: 0.161851, ewa inertia: 0.167447 \n",
      "Minibatch iteration 571/765000: mean batch inertia: 0.202573, ewa inertia: 0.167723 \n",
      "Minibatch iteration 572/765000: mean batch inertia: 0.175249, ewa inertia: 0.167782 \n",
      "Minibatch iteration 573/765000: mean batch inertia: 0.158415, ewa inertia: 0.167709 \n",
      "Converged (lack of improvement in inertia) at iteration 573/765000\n",
      "Computing label assignment and total inertia\n"
     ]
    },
    {
     "data": {
      "text/plain": [
       "MiniBatchKMeans(batch_size=100, compute_labels=True, init='k-means++',\n",
       "                init_size=4000, max_iter=3000, max_no_improvement=75,\n",
       "                n_clusters=800, n_init=3, random_state=None,\n",
       "                reassignment_ratio=0.5, tol=0.0, verbose=1)"
      ]
     },
     "execution_count": 19,
     "metadata": {},
     "output_type": "execute_result"
    }
   ],
   "source": [
    "cluster_2 = MiniBatchKMeans(n_clusters=800, init_size=4000, verbose=1, max_iter=3000, \n",
    "                          max_no_improvement=75, reassignment_ratio=0.5)\n",
    "cluster_2.fit(X_2)"
   ]
  },
  {
   "cell_type": "code",
   "execution_count": 20,
   "metadata": {},
   "outputs": [],
   "source": [
    "labels = cluster.labels_"
   ]
  },
  {
   "cell_type": "code",
   "execution_count": 21,
   "metadata": {},
   "outputs": [],
   "source": [
    "labels_2 = cluster_2.labels_"
   ]
  },
  {
   "cell_type": "code",
   "execution_count": 22,
   "metadata": {},
   "outputs": [
    {
     "name": "stdout",
     "output_type": "stream",
     "text": [
      "Silhouette Coefficient: 0.413\n",
      "Homogeneity: 0.542\n",
      "Completeness: 0.328\n",
      "V-measure: 0.409\n",
      "Adjusted Rand Index: 0.003\n",
      "Adjusted Mutual Information: 0.346\n"
     ]
    }
   ],
   "source": [
    "print(\"Silhouette Coefficient: %0.3f\" % metrics.silhouette_score(X[:10000], labels[:10000]))\n",
    "print(\"Homogeneity: %0.3f\" % metrics.homogeneity_score(y, labels)) \n",
    "print(\"Completeness: %0.3f\" % metrics.completeness_score(y, labels)) \n",
    "print(\"V-measure: %0.3f\" % metrics.v_measure_score(y, labels))\n",
    "print(\"Adjusted Rand Index: %0.3f\" % metrics.adjusted_rand_score(y, labels))\n",
    "print(\"Adjusted Mutual Information: %0.3f\" % metrics.adjusted_mutual_info_score(y, labels))"
   ]
  },
  {
   "cell_type": "code",
   "execution_count": 23,
   "metadata": {},
   "outputs": [
    {
     "name": "stdout",
     "output_type": "stream",
     "text": [
      "Silhouette Coefficient: 0.578\n",
      "Homogeneity: 0.600\n",
      "Completeness: 0.334\n",
      "V-measure: 0.429\n",
      "Adjusted Rand Index: 0.000\n",
      "Adjusted Mutual Information: 0.361\n"
     ]
    }
   ],
   "source": [
    "print(\"Silhouette Coefficient: %0.3f\" % metrics.silhouette_score(X_2[:10000], labels_2[:10000]))\n",
    "print(\"Homogeneity: %0.3f\" % metrics.homogeneity_score(y_2, labels_2)) \n",
    "print(\"Completeness: %0.3f\" % metrics.completeness_score(y_2, labels_2)) \n",
    "print(\"V-measure: %0.3f\" % metrics.v_measure_score(y_2, labels_2))\n",
    "print(\"Adjusted Rand Index: %0.3f\" % metrics.adjusted_rand_score(y_2, labels_2))\n",
    "print(\"Adjusted Mutual Information: %0.3f\" % metrics.adjusted_mutual_info_score(y_2, labels_2))"
   ]
  },
  {
   "cell_type": "markdown",
   "metadata": {},
   "source": [
    "## AffinityPropagation"
   ]
  },
  {
   "cell_type": "markdown",
   "metadata": {},
   "source": [
    "С текущими настройками CountVectorizer и TfidfVectorizer кернел умирает снова и снова, поэтому я их поменяю."
   ]
  },
  {
   "cell_type": "code",
   "execution_count": 24,
   "metadata": {},
   "outputs": [],
   "source": [
    "sample = data.sample(frac=0.01)"
   ]
  },
  {
   "cell_type": "code",
   "execution_count": 25,
   "metadata": {},
   "outputs": [],
   "source": [
    "cv = CountVectorizer(min_df=2, max_df=0.55, max_features=700)\n",
    "X = cv.fit_transform(sample['title'])\n",
    "y = sample['category_name']"
   ]
  },
  {
   "cell_type": "code",
   "execution_count": 26,
   "metadata": {},
   "outputs": [],
   "source": [
    "tf = TfidfVectorizer(max_df=0.8, max_features=500)\n",
    "X_2 = tf.fit_transform(sample['title'])\n",
    "y_2 = sample['category_name']"
   ]
  },
  {
   "cell_type": "code",
   "execution_count": 32,
   "metadata": {},
   "outputs": [
    {
     "name": "stdout",
     "output_type": "stream",
     "text": [
      "Converged after 525 iterations.\n"
     ]
    },
    {
     "data": {
      "text/plain": [
       "AffinityPropagation(affinity='euclidean', convergence_iter=15, copy=True,\n",
       "                    damping=0.5, max_iter=800, preference=-7, verbose=1)"
      ]
     },
     "execution_count": 32,
     "metadata": {},
     "output_type": "execute_result"
    }
   ],
   "source": [
    "cluster = AffinityPropagation(damping=0.5, preference=-7, \n",
    "                              max_iter=800, verbose=1)\n",
    "cluster.fit(X)"
   ]
  },
  {
   "cell_type": "code",
   "execution_count": 33,
   "metadata": {},
   "outputs": [
    {
     "name": "stdout",
     "output_type": "stream",
     "text": [
      "Did not converge\n"
     ]
    },
    {
     "data": {
      "text/plain": [
       "AffinityPropagation(affinity='euclidean', convergence_iter=15, copy=True,\n",
       "                    damping=0.5, max_iter=800, preference=-7, verbose=1)"
      ]
     },
     "execution_count": 33,
     "metadata": {},
     "output_type": "execute_result"
    }
   ],
   "source": [
    "cluster_2 = AffinityPropagation(damping=0.5, preference=-7, \n",
    "                              max_iter=800, verbose=1)\n",
    "cluster_2.fit(X_2)"
   ]
  },
  {
   "cell_type": "markdown",
   "metadata": {},
   "source": [
    "Почему-то второй вариант не сходится, несмотря на изменения параметров в TfidfVectorizer и в самой кластеризации."
   ]
  },
  {
   "cell_type": "code",
   "execution_count": 34,
   "metadata": {},
   "outputs": [],
   "source": [
    "labels = cluster.labels_"
   ]
  },
  {
   "cell_type": "code",
   "execution_count": 35,
   "metadata": {},
   "outputs": [],
   "source": [
    "labels_2 = cluster_2.labels_"
   ]
  },
  {
   "cell_type": "code",
   "execution_count": 36,
   "metadata": {},
   "outputs": [
    {
     "name": "stdout",
     "output_type": "stream",
     "text": [
      "Silhouette Coefficient: 0.190\n",
      "Homogeneity: 0.398\n",
      "Completeness: 0.397\n",
      "V-measure: 0.398\n",
      "Adjusted Rand Index: -0.004\n",
      "Adjusted Mutual Information: 0.295\n"
     ]
    }
   ],
   "source": [
    "print(\"Silhouette Coefficient: %0.3f\" % metrics.silhouette_score(X[:10000], labels[:10000]))\n",
    "print(\"Homogeneity: %0.3f\" % metrics.homogeneity_score(y, labels)) \n",
    "print(\"Completeness: %0.3f\" % metrics.completeness_score(y, labels)) \n",
    "print(\"V-measure: %0.3f\" % metrics.v_measure_score(y, labels))\n",
    "print(\"Adjusted Rand Index: %0.3f\" % metrics.adjusted_rand_score(y, labels))\n",
    "print(\"Adjusted Mutual Information: %0.3f\" % metrics.adjusted_mutual_info_score(y, labels))"
   ]
  },
  {
   "cell_type": "markdown",
   "metadata": {},
   "source": [
    "## Задание 2"
   ]
  },
  {
   "cell_type": "markdown",
   "metadata": {},
   "source": [
    "## AgglomerativeClustering"
   ]
  },
  {
   "cell_type": "code",
   "execution_count": 37,
   "metadata": {},
   "outputs": [],
   "source": [
    "sample = data.sample(frac=0.05)"
   ]
  },
  {
   "cell_type": "code",
   "execution_count": 38,
   "metadata": {},
   "outputs": [],
   "source": [
    "cv = CountVectorizer(max_features=2000)"
   ]
  },
  {
   "cell_type": "code",
   "execution_count": 39,
   "metadata": {},
   "outputs": [],
   "source": [
    "svd = TruncatedSVD(50, random_state=0)"
   ]
  },
  {
   "cell_type": "code",
   "execution_count": 40,
   "metadata": {},
   "outputs": [],
   "source": [
    "X = cv.fit_transform(sample['title'])"
   ]
  },
  {
   "cell_type": "code",
   "execution_count": 41,
   "metadata": {},
   "outputs": [],
   "source": [
    "X_svd = svd.fit_transform(X)\n",
    "y_svd = sample['category_name']"
   ]
  },
  {
   "cell_type": "code",
   "execution_count": 42,
   "metadata": {},
   "outputs": [],
   "source": [
    "nmf = NMF(50, random_state=0)"
   ]
  },
  {
   "cell_type": "code",
   "execution_count": 43,
   "metadata": {},
   "outputs": [],
   "source": [
    "X_nmf = nmf.fit_transform(X)\n",
    "y_nmf = sample['category_name']"
   ]
  },
  {
   "cell_type": "code",
   "execution_count": 44,
   "metadata": {},
   "outputs": [
    {
     "data": {
      "text/plain": [
       "AgglomerativeClustering(affinity='euclidean', compute_full_tree='auto',\n",
       "                        connectivity=None, distance_threshold=None,\n",
       "                        linkage='ward', memory=None, n_clusters=47)"
      ]
     },
     "execution_count": 44,
     "metadata": {},
     "output_type": "execute_result"
    }
   ],
   "source": [
    "cluster_svd = AgglomerativeClustering(n_clusters=47)\n",
    "cluster_svd.fit(X_svd)"
   ]
  },
  {
   "cell_type": "code",
   "execution_count": 45,
   "metadata": {},
   "outputs": [
    {
     "data": {
      "text/plain": [
       "AgglomerativeClustering(affinity='euclidean', compute_full_tree='auto',\n",
       "                        connectivity=None, distance_threshold=None,\n",
       "                        linkage='ward', memory=None, n_clusters=47)"
      ]
     },
     "execution_count": 45,
     "metadata": {},
     "output_type": "execute_result"
    }
   ],
   "source": [
    "cluster_nmf = AgglomerativeClustering(n_clusters=47)\n",
    "cluster_nmf.fit(X_nmf)"
   ]
  },
  {
   "cell_type": "code",
   "execution_count": 46,
   "metadata": {},
   "outputs": [],
   "source": [
    "labels_svd = cluster_svd.labels_"
   ]
  },
  {
   "cell_type": "code",
   "execution_count": 47,
   "metadata": {},
   "outputs": [],
   "source": [
    "labels_nmf = cluster_nmf.labels_"
   ]
  },
  {
   "cell_type": "code",
   "execution_count": 48,
   "metadata": {},
   "outputs": [
    {
     "name": "stdout",
     "output_type": "stream",
     "text": [
      "Silhouette Coefficient: 0.676\n",
      "Homogeneity: 0.300\n",
      "Completeness: 0.376\n",
      "V-measure: 0.334\n",
      "Adjusted Rand Index: 0.001\n",
      "Adjusted Mutual Information: 0.313\n"
     ]
    }
   ],
   "source": [
    "print(\"Silhouette Coefficient: %0.3f\" % metrics.silhouette_score(X_svd[:10000], labels_svd[:10000]))\n",
    "print(\"Homogeneity: %0.3f\" % metrics.homogeneity_score(y_svd, labels_svd)) \n",
    "print(\"Completeness: %0.3f\" % metrics.completeness_score(y_svd, labels_svd)) \n",
    "print(\"V-measure: %0.3f\" % metrics.v_measure_score(y_svd, labels_svd))\n",
    "print(\"Adjusted Rand Index: %0.3f\" % metrics.adjusted_rand_score(y_svd, labels_svd))\n",
    "print(\"Adjusted Mutual Information: %0.3f\" % metrics.adjusted_mutual_info_score(y_svd, labels_svd))"
   ]
  },
  {
   "cell_type": "code",
   "execution_count": 49,
   "metadata": {},
   "outputs": [
    {
     "name": "stdout",
     "output_type": "stream",
     "text": [
      "Silhouette Coefficient: 0.713\n",
      "Homogeneity: 0.288\n",
      "Completeness: 0.359\n",
      "V-measure: 0.320\n",
      "Adjusted Rand Index: -0.004\n",
      "Adjusted Mutual Information: 0.298\n"
     ]
    }
   ],
   "source": [
    "print(\"Silhouette Coefficient: %0.3f\" % metrics.silhouette_score(X_nmf[:10000], labels_nmf[:10000]))\n",
    "print(\"Homogeneity: %0.3f\" % metrics.homogeneity_score(y_nmf, labels_nmf)) \n",
    "print(\"Completeness: %0.3f\" % metrics.completeness_score(y_nmf, labels_nmf)) \n",
    "print(\"V-measure: %0.3f\" % metrics.v_measure_score(y_nmf, labels_nmf))\n",
    "print(\"Adjusted Rand Index: %0.3f\" % metrics.adjusted_rand_score(y_nmf, labels_nmf))\n",
    "print(\"Adjusted Mutual Information: %0.3f\" % metrics.adjusted_mutual_info_score(y_nmf, labels_nmf))"
   ]
  },
  {
   "cell_type": "markdown",
   "metadata": {},
   "source": [
    "## MeanShift"
   ]
  },
  {
   "cell_type": "code",
   "execution_count": 50,
   "metadata": {},
   "outputs": [],
   "source": [
    "sample = data.sample(frac=0.01)"
   ]
  },
  {
   "cell_type": "code",
   "execution_count": 51,
   "metadata": {},
   "outputs": [
    {
     "data": {
      "text/plain": [
       "MeanShift(bandwidth=0.75, bin_seeding=False, cluster_all=False, max_iter=150,\n",
       "          min_bin_freq=1, n_jobs=None, seeds=None)"
      ]
     },
     "execution_count": 51,
     "metadata": {},
     "output_type": "execute_result"
    }
   ],
   "source": [
    "cluster_svd = MeanShift(cluster_all=False, bandwidth=0.75, max_iter=150)\n",
    "cluster_svd.fit(X_svd)"
   ]
  },
  {
   "cell_type": "code",
   "execution_count": 52,
   "metadata": {},
   "outputs": [
    {
     "data": {
      "text/plain": [
       "MeanShift(bandwidth=0.75, bin_seeding=False, cluster_all=False, max_iter=150,\n",
       "          min_bin_freq=1, n_jobs=None, seeds=None)"
      ]
     },
     "execution_count": 52,
     "metadata": {},
     "output_type": "execute_result"
    }
   ],
   "source": [
    "cluster_nmf = MeanShift(cluster_all=False, bandwidth=0.75, max_iter=150)\n",
    "cluster_nmf.fit(X_nmf)"
   ]
  },
  {
   "cell_type": "code",
   "execution_count": 53,
   "metadata": {},
   "outputs": [],
   "source": [
    "labels_svd = cluster_svd.labels_"
   ]
  },
  {
   "cell_type": "code",
   "execution_count": 54,
   "metadata": {},
   "outputs": [],
   "source": [
    "labels_nmf = cluster_nmf.labels_"
   ]
  },
  {
   "cell_type": "code",
   "execution_count": 55,
   "metadata": {},
   "outputs": [
    {
     "name": "stdout",
     "output_type": "stream",
     "text": [
      "Silhouette Coefficient: 0.759\n",
      "Homogeneity: 0.315\n",
      "Completeness: 0.337\n",
      "V-measure: 0.325\n",
      "Adjusted Rand Index: -0.007\n",
      "Adjusted Mutual Information: 0.267\n"
     ]
    }
   ],
   "source": [
    "print(\"Silhouette Coefficient: %0.3f\" % metrics.silhouette_score(X_svd[:10000], labels_svd[:10000]))\n",
    "print(\"Homogeneity: %0.3f\" % metrics.homogeneity_score(y_svd, labels_svd)) \n",
    "print(\"Completeness: %0.3f\" % metrics.completeness_score(y_svd, labels_svd)) \n",
    "print(\"V-measure: %0.3f\" % metrics.v_measure_score(y_svd, labels_svd))\n",
    "print(\"Adjusted Rand Index: %0.3f\" % metrics.adjusted_rand_score(y_svd, labels_svd))\n",
    "print(\"Adjusted Mutual Information: %0.3f\" % metrics.adjusted_mutual_info_score(y_svd, labels_svd))"
   ]
  },
  {
   "cell_type": "code",
   "execution_count": 56,
   "metadata": {},
   "outputs": [
    {
     "name": "stdout",
     "output_type": "stream",
     "text": [
      "Silhouette Coefficient: 0.689\n",
      "Homogeneity: 0.001\n",
      "Completeness: 0.523\n",
      "V-measure: 0.002\n",
      "Adjusted Rand Index: 0.000\n",
      "Adjusted Mutual Information: 0.001\n"
     ]
    }
   ],
   "source": [
    "print(\"Silhouette Coefficient: %0.3f\" % metrics.silhouette_score(X_nmf, labels_nmf))\n",
    "print(\"Homogeneity: %0.3f\" % metrics.homogeneity_score(y_nmf, labels_nmf)) \n",
    "print(\"Completeness: %0.3f\" % metrics.completeness_score(y_nmf, labels_nmf)) \n",
    "print(\"V-measure: %0.3f\" % metrics.v_measure_score(y_nmf, labels_nmf))\n",
    "print(\"Adjusted Rand Index: %0.3f\" % metrics.adjusted_rand_score(y_nmf, labels_nmf))\n",
    "print(\"Adjusted Mutual Information: %0.3f\" % metrics.adjusted_mutual_info_score(y_nmf, labels_nmf))"
   ]
  },
  {
   "cell_type": "markdown",
   "metadata": {},
   "source": [
    "По какой-то причине вторая кластеризация не считает метрики и сообщает ошибку о количестве лейблов."
   ]
  },
  {
   "cell_type": "markdown",
   "metadata": {},
   "source": [
    "## DBSCAN"
   ]
  },
  {
   "cell_type": "code",
   "execution_count": 57,
   "metadata": {},
   "outputs": [],
   "source": [
    "sample = data.sample(frac=0.05)"
   ]
  },
  {
   "cell_type": "code",
   "execution_count": 58,
   "metadata": {},
   "outputs": [
    {
     "data": {
      "text/plain": [
       "DBSCAN(algorithm='auto', eps=0.4, leaf_size=30, metric='euclidean',\n",
       "       metric_params=None, min_samples=15, n_jobs=None, p=None)"
      ]
     },
     "execution_count": 58,
     "metadata": {},
     "output_type": "execute_result"
    }
   ],
   "source": [
    "cluster_svd = DBSCAN(min_samples=15, eps=0.4) \n",
    "cluster_svd.fit(X_svd)"
   ]
  },
  {
   "cell_type": "code",
   "execution_count": 59,
   "metadata": {},
   "outputs": [
    {
     "data": {
      "text/plain": [
       "DBSCAN(algorithm='auto', eps=0.4, leaf_size=30, metric='euclidean',\n",
       "       metric_params=None, min_samples=15, n_jobs=None, p=None)"
      ]
     },
     "execution_count": 59,
     "metadata": {},
     "output_type": "execute_result"
    }
   ],
   "source": [
    "cluster_nmf = DBSCAN(min_samples=15, eps=0.4) \n",
    "cluster_nmf.fit(X_nmf)"
   ]
  },
  {
   "cell_type": "code",
   "execution_count": 60,
   "metadata": {},
   "outputs": [],
   "source": [
    "labels_svd = cluster_svd.labels_"
   ]
  },
  {
   "cell_type": "code",
   "execution_count": 61,
   "metadata": {},
   "outputs": [],
   "source": [
    "labels_nmf = cluster_nmf.labels_"
   ]
  },
  {
   "cell_type": "code",
   "execution_count": 62,
   "metadata": {},
   "outputs": [
    {
     "name": "stdout",
     "output_type": "stream",
     "text": [
      "Silhouette Coefficient: 0.627\n",
      "Homogeneity: 0.271\n",
      "Completeness: 0.338\n",
      "V-measure: 0.301\n",
      "Adjusted Rand Index: -0.008\n",
      "Adjusted Mutual Information: 0.272\n"
     ]
    }
   ],
   "source": [
    "print(\"Silhouette Coefficient: %0.3f\" % metrics.silhouette_score(X_svd, labels_svd))\n",
    "print(\"Homogeneity: %0.3f\" % metrics.homogeneity_score(y_svd, labels_svd)) \n",
    "print(\"Completeness: %0.3f\" % metrics.completeness_score(y_svd, labels_svd)) \n",
    "print(\"V-measure: %0.3f\" % metrics.v_measure_score(y_svd, labels_svd))\n",
    "print(\"Adjusted Rand Index: %0.3f\" % metrics.adjusted_rand_score(y_svd, labels_svd))\n",
    "print(\"Adjusted Mutual Information: %0.3f\" % metrics.adjusted_mutual_info_score(y_svd, labels_svd))"
   ]
  },
  {
   "cell_type": "code",
   "execution_count": 63,
   "metadata": {},
   "outputs": [
    {
     "name": "stdout",
     "output_type": "stream",
     "text": [
      "Silhouette Coefficient: 0.606\n",
      "Homogeneity: 0.004\n",
      "Completeness: 0.633\n",
      "V-measure: 0.008\n",
      "Adjusted Rand Index: 0.001\n",
      "Adjusted Mutual Information: 0.007\n"
     ]
    }
   ],
   "source": [
    "print(\"Silhouette Coefficient: %0.3f\" % metrics.silhouette_score(X_nmf, labels_nmf))\n",
    "print(\"Homogeneity: %0.3f\" % metrics.homogeneity_score(y_nmf, labels_nmf)) \n",
    "print(\"Completeness: %0.3f\" % metrics.completeness_score(y_nmf, labels_nmf)) \n",
    "print(\"V-measure: %0.3f\" % metrics.v_measure_score(y_nmf, labels_nmf))\n",
    "print(\"Adjusted Rand Index: %0.3f\" % metrics.adjusted_rand_score(y_nmf, labels_nmf))\n",
    "print(\"Adjusted Mutual Information: %0.3f\" % metrics.adjusted_mutual_info_score(y_nmf, labels_nmf))"
   ]
  },
  {
   "cell_type": "markdown",
   "metadata": {},
   "source": [
    "## Задание 3"
   ]
  },
  {
   "cell_type": "code",
   "execution_count": 76,
   "metadata": {},
   "outputs": [],
   "source": [
    "sample = data.sample(frac=0.05)"
   ]
  },
  {
   "cell_type": "code",
   "execution_count": 77,
   "metadata": {},
   "outputs": [],
   "source": [
    "y = sample['category_name']"
   ]
  },
  {
   "cell_type": "code",
   "execution_count": 78,
   "metadata": {},
   "outputs": [],
   "source": [
    "cv = CountVectorizer(min_df=5, max_df=0.5, max_features=1000)"
   ]
  },
  {
   "cell_type": "code",
   "execution_count": 79,
   "metadata": {},
   "outputs": [],
   "source": [
    "Х = cv.fit_transform(sample['title'])"
   ]
  },
  {
   "cell_type": "code",
   "execution_count": 80,
   "metadata": {},
   "outputs": [],
   "source": [
    "svd = TruncatedSVD(50, random_state=0)"
   ]
  },
  {
   "cell_type": "code",
   "execution_count": 81,
   "metadata": {},
   "outputs": [],
   "source": [
    "X_svd = svd.fit_transform(X)"
   ]
  },
  {
   "cell_type": "code",
   "execution_count": 82,
   "metadata": {},
   "outputs": [],
   "source": [
    "outliers = DBSCAN(min_samples=6, eps=0.7)"
   ]
  },
  {
   "cell_type": "code",
   "execution_count": 83,
   "metadata": {},
   "outputs": [
    {
     "data": {
      "text/plain": [
       "DBSCAN(algorithm='auto', eps=0.7, leaf_size=30, metric='euclidean',\n",
       "       metric_params=None, min_samples=6, n_jobs=None, p=None)"
      ]
     },
     "execution_count": 83,
     "metadata": {},
     "output_type": "execute_result"
    }
   ],
   "source": [
    "outliers.fit(X)"
   ]
  },
  {
   "cell_type": "code",
   "execution_count": 84,
   "metadata": {},
   "outputs": [],
   "source": [
    "labels = outliers.labels_"
   ]
  },
  {
   "cell_type": "code",
   "execution_count": 85,
   "metadata": {},
   "outputs": [
    {
     "name": "stdout",
     "output_type": "stream",
     "text": [
      "Silhouette Coefficient: -0.265\n",
      "Homogeneity: 0.068\n",
      "Completeness: 0.108\n",
      "V-measure: 0.083\n",
      "Adjusted Rand Index: 0.002\n",
      "Adjusted Mutual Information: 0.002\n"
     ]
    }
   ],
   "source": [
    "print(\"Silhouette Coefficient: %0.3f\" % metrics.silhouette_score(X_svd, labels))\n",
    "print(\"Homogeneity: %0.3f\" % metrics.homogeneity_score(y, labels)) \n",
    "print(\"Completeness: %0.3f\" % metrics.completeness_score(y, labels)) \n",
    "print(\"V-measure: %0.3f\" % metrics.v_measure_score(y, labels))\n",
    "print(\"Adjusted Rand Index: %0.3f\" % metrics.adjusted_rand_score(y, labels))\n",
    "print(\"Adjusted Mutual Information: %0.3f\" % metrics.adjusted_mutual_info_score(y, labels))"
   ]
  },
  {
   "cell_type": "code",
   "execution_count": 88,
   "metadata": {},
   "outputs": [],
   "source": [
    "sample['outliers'] = labels"
   ]
  },
  {
   "cell_type": "code",
   "execution_count": 89,
   "metadata": {},
   "outputs": [
    {
     "data": {
      "text/html": [
       "<div>\n",
       "<style scoped>\n",
       "    .dataframe tbody tr th:only-of-type {\n",
       "        vertical-align: middle;\n",
       "    }\n",
       "\n",
       "    .dataframe tbody tr th {\n",
       "        vertical-align: top;\n",
       "    }\n",
       "\n",
       "    .dataframe thead th {\n",
       "        text-align: right;\n",
       "    }\n",
       "</style>\n",
       "<table border=\"1\" class=\"dataframe\">\n",
       "  <thead>\n",
       "    <tr style=\"text-align: right;\">\n",
       "      <th></th>\n",
       "      <th>item_id</th>\n",
       "      <th>user_id</th>\n",
       "      <th>region</th>\n",
       "      <th>city</th>\n",
       "      <th>parent_category_name</th>\n",
       "      <th>category_name</th>\n",
       "      <th>param_1</th>\n",
       "      <th>param_2</th>\n",
       "      <th>param_3</th>\n",
       "      <th>title</th>\n",
       "      <th>description</th>\n",
       "      <th>price</th>\n",
       "      <th>item_seq_number</th>\n",
       "      <th>activation_date</th>\n",
       "      <th>user_type</th>\n",
       "      <th>image</th>\n",
       "      <th>image_top_1</th>\n",
       "      <th>outliers</th>\n",
       "    </tr>\n",
       "  </thead>\n",
       "  <tbody>\n",
       "    <tr>\n",
       "      <th>217089</th>\n",
       "      <td>366f050a5d77</td>\n",
       "      <td>5735ee0fd250</td>\n",
       "      <td>Башкортостан</td>\n",
       "      <td>Уфа</td>\n",
       "      <td>Бытовая электроника</td>\n",
       "      <td>Аудио и видео</td>\n",
       "      <td>Телевизоры и проекторы</td>\n",
       "      <td>NaN</td>\n",
       "      <td>NaN</td>\n",
       "      <td>Продам телевизор</td>\n",
       "      <td>Продам телевизор РОЛСОН диагональ 70 см в рабо...</td>\n",
       "      <td>2000.0</td>\n",
       "      <td>32</td>\n",
       "      <td>2017-04-13</td>\n",
       "      <td>Private</td>\n",
       "      <td>04b32a84e765d650741dd7bd3cfaa0b478a7704b3bbf27...</td>\n",
       "      <td>3022.0</td>\n",
       "      <td>-1</td>\n",
       "    </tr>\n",
       "    <tr>\n",
       "      <th>97378</th>\n",
       "      <td>43c2073cd99e</td>\n",
       "      <td>f6cd44e7c0b4</td>\n",
       "      <td>Свердловская область</td>\n",
       "      <td>Екатеринбург</td>\n",
       "      <td>Личные вещи</td>\n",
       "      <td>Одежда, обувь, аксессуары</td>\n",
       "      <td>Женская одежда</td>\n",
       "      <td>Обувь</td>\n",
       "      <td>36</td>\n",
       "      <td>Туфли</td>\n",
       "      <td>Туфли из натуральной кожи, 36 р</td>\n",
       "      <td>400.0</td>\n",
       "      <td>53</td>\n",
       "      <td>2017-04-16</td>\n",
       "      <td>Private</td>\n",
       "      <td>abbe79b0cc747cd867e9ac8f341ef166ca777c7bf57141...</td>\n",
       "      <td>432.0</td>\n",
       "      <td>-1</td>\n",
       "    </tr>\n",
       "    <tr>\n",
       "      <th>143100</th>\n",
       "      <td>23ef73fbf2fd</td>\n",
       "      <td>4a59d49f2b6c</td>\n",
       "      <td>Красноярский край</td>\n",
       "      <td>Норильск</td>\n",
       "      <td>Личные вещи</td>\n",
       "      <td>Одежда, обувь, аксессуары</td>\n",
       "      <td>Женская одежда</td>\n",
       "      <td>Верхняя одежда</td>\n",
       "      <td>Без размера</td>\n",
       "      <td>Шапка норковая</td>\n",
       "      <td>Новая,совсем не носилась.Покупал жене в подаро...</td>\n",
       "      <td>10000.0</td>\n",
       "      <td>4</td>\n",
       "      <td>2017-04-13</td>\n",
       "      <td>Private</td>\n",
       "      <td>09d0e10be9d6b392abc49fb1ed485808918e00d14bf677...</td>\n",
       "      <td>227.0</td>\n",
       "      <td>-1</td>\n",
       "    </tr>\n",
       "    <tr>\n",
       "      <th>133819</th>\n",
       "      <td>b7c22a71fcf1</td>\n",
       "      <td>edde477d7916</td>\n",
       "      <td>Нижегородская область</td>\n",
       "      <td>Нижний Новгород</td>\n",
       "      <td>Личные вещи</td>\n",
       "      <td>Детская одежда и обувь</td>\n",
       "      <td>Для девочек</td>\n",
       "      <td>Верхняя одежда</td>\n",
       "      <td>110-116 см (4-6 лет)</td>\n",
       "      <td>Ветровочка</td>\n",
       "      <td>на девочку, новая, состояние отличное./\\n+джин...</td>\n",
       "      <td>300.0</td>\n",
       "      <td>47</td>\n",
       "      <td>2017-04-18</td>\n",
       "      <td>Private</td>\n",
       "      <td>34123d749bbf54082f80ec7c616e9b283411ed39f82d6d...</td>\n",
       "      <td>97.0</td>\n",
       "      <td>-1</td>\n",
       "    </tr>\n",
       "    <tr>\n",
       "      <th>173923</th>\n",
       "      <td>1b3652b39cde</td>\n",
       "      <td>6250d89a2988</td>\n",
       "      <td>Ставропольский край</td>\n",
       "      <td>Кисловодск</td>\n",
       "      <td>Хобби и отдых</td>\n",
       "      <td>Охота и рыбалка</td>\n",
       "      <td>NaN</td>\n",
       "      <td>NaN</td>\n",
       "      <td>NaN</td>\n",
       "      <td>Выползки для рыбалки Крупные</td>\n",
       "      <td>Продам выползков 5 р шт.</td>\n",
       "      <td>5.0</td>\n",
       "      <td>31</td>\n",
       "      <td>2017-04-15</td>\n",
       "      <td>Private</td>\n",
       "      <td>NaN</td>\n",
       "      <td>NaN</td>\n",
       "      <td>-1</td>\n",
       "    </tr>\n",
       "    <tr>\n",
       "      <th>50994</th>\n",
       "      <td>c012c6596a47</td>\n",
       "      <td>898f982d5e25</td>\n",
       "      <td>Кемеровская область</td>\n",
       "      <td>Кемерово</td>\n",
       "      <td>Личные вещи</td>\n",
       "      <td>Одежда, обувь, аксессуары</td>\n",
       "      <td>Женская одежда</td>\n",
       "      <td>Обувь</td>\n",
       "      <td>37</td>\n",
       "      <td>Кожаные полусапожки</td>\n",
       "      <td>Нат кожа, модные, стильные. Б/у несколько раз,...</td>\n",
       "      <td>1200.0</td>\n",
       "      <td>123</td>\n",
       "      <td>2017-04-18</td>\n",
       "      <td>Company</td>\n",
       "      <td>9fbc1a74ee6bbd88b62d3669504ab78b95cb950b578af3...</td>\n",
       "      <td>642.0</td>\n",
       "      <td>-1</td>\n",
       "    </tr>\n",
       "    <tr>\n",
       "      <th>168373</th>\n",
       "      <td>82ddfac71823</td>\n",
       "      <td>3b066e54189e</td>\n",
       "      <td>Самарская область</td>\n",
       "      <td>Чапаевск</td>\n",
       "      <td>Хобби и отдых</td>\n",
       "      <td>Велосипеды</td>\n",
       "      <td>Горные</td>\n",
       "      <td>NaN</td>\n",
       "      <td>NaN</td>\n",
       "      <td>Велосипед Stinger SX 100 Matrix</td>\n",
       "      <td>Велосипед куплен 02.07.15г. Эксплуатировался 2...</td>\n",
       "      <td>9000.0</td>\n",
       "      <td>10</td>\n",
       "      <td>2017-04-12</td>\n",
       "      <td>Private</td>\n",
       "      <td>8cd2638e8baee77ed1ff45ebf5f6588793e6bb487040f7...</td>\n",
       "      <td>2368.0</td>\n",
       "      <td>-1</td>\n",
       "    </tr>\n",
       "    <tr>\n",
       "      <th>222919</th>\n",
       "      <td>fc96ba20eb29</td>\n",
       "      <td>17e43ac638ea</td>\n",
       "      <td>Ставропольский край</td>\n",
       "      <td>Ставрополь</td>\n",
       "      <td>Хобби и отдых</td>\n",
       "      <td>Музыкальные инструменты</td>\n",
       "      <td>Для студии и концертов</td>\n",
       "      <td>NaN</td>\n",
       "      <td>NaN</td>\n",
       "      <td>Микшерный пульт Электроника пм-01</td>\n",
       "      <td>Продается микшерный пульт Электроника ПМ-01 в ...</td>\n",
       "      <td>5000.0</td>\n",
       "      <td>6</td>\n",
       "      <td>2017-04-13</td>\n",
       "      <td>Private</td>\n",
       "      <td>19bba892aef6710727976b01a71d86b8ed0ea8b0c39ffa...</td>\n",
       "      <td>2492.0</td>\n",
       "      <td>-1</td>\n",
       "    </tr>\n",
       "    <tr>\n",
       "      <th>250797</th>\n",
       "      <td>51c897541c6d</td>\n",
       "      <td>494a16a6bea0</td>\n",
       "      <td>Свердловская область</td>\n",
       "      <td>Екатеринбург</td>\n",
       "      <td>Личные вещи</td>\n",
       "      <td>Одежда, обувь, аксессуары</td>\n",
       "      <td>Женская одежда</td>\n",
       "      <td>Нижнее бельё</td>\n",
       "      <td>44–46 (M)</td>\n",
       "      <td>Сетка эротическая новая 42-48</td>\n",
       "      <td>Универсальный размер 42-48. Смотреть/забирать ...</td>\n",
       "      <td>500.0</td>\n",
       "      <td>252</td>\n",
       "      <td>2017-04-14</td>\n",
       "      <td>Company</td>\n",
       "      <td>e6b16db7f9596c9e1249cea98040e5bcf81632bfedbe0c...</td>\n",
       "      <td>553.0</td>\n",
       "      <td>-1</td>\n",
       "    </tr>\n",
       "    <tr>\n",
       "      <th>166817</th>\n",
       "      <td>b96797c14349</td>\n",
       "      <td>4b9c28a56185</td>\n",
       "      <td>Башкортостан</td>\n",
       "      <td>Уфа</td>\n",
       "      <td>Личные вещи</td>\n",
       "      <td>Одежда, обувь, аксессуары</td>\n",
       "      <td>Женская одежда</td>\n",
       "      <td>Рубашки и блузки</td>\n",
       "      <td>40–42 (XS)</td>\n",
       "      <td>Женская шифоновая блуза</td>\n",
       "      <td>Лёгкая,  шифоновая блуза. Рукава 3/4 , подол у...</td>\n",
       "      <td>600.0</td>\n",
       "      <td>7</td>\n",
       "      <td>2017-04-14</td>\n",
       "      <td>Private</td>\n",
       "      <td>a5fd1c1cfcef433e7261d061b1bdd9ba1615accfabb3d6...</td>\n",
       "      <td>415.0</td>\n",
       "      <td>-1</td>\n",
       "    </tr>\n",
       "    <tr>\n",
       "      <th>69410</th>\n",
       "      <td>dfabe5bcbb58</td>\n",
       "      <td>b8e53267b3d4</td>\n",
       "      <td>Калининградская область</td>\n",
       "      <td>Калининград</td>\n",
       "      <td>Бытовая электроника</td>\n",
       "      <td>Аудио и видео</td>\n",
       "      <td>Телевизоры и проекторы</td>\n",
       "      <td>NaN</td>\n",
       "      <td>NaN</td>\n",
       "      <td>Телевизор dexp H20B7200C</td>\n",
       "      <td>Основные характеристики Тип ЖК-телевизор Диаго...</td>\n",
       "      <td>5500.0</td>\n",
       "      <td>207</td>\n",
       "      <td>2017-04-12</td>\n",
       "      <td>Company</td>\n",
       "      <td>b6e2db711a15a4b812664786289f07726ef3130ff0d491...</td>\n",
       "      <td>2846.0</td>\n",
       "      <td>-1</td>\n",
       "    </tr>\n",
       "    <tr>\n",
       "      <th>97078</th>\n",
       "      <td>0d53d72ac811</td>\n",
       "      <td>4fb959503b3e</td>\n",
       "      <td>Ханты-Мансийский АО</td>\n",
       "      <td>Сургут</td>\n",
       "      <td>Недвижимость</td>\n",
       "      <td>Квартиры</td>\n",
       "      <td>Продам</td>\n",
       "      <td>2</td>\n",
       "      <td>Новостройка</td>\n",
       "      <td>2-к квартира, 86 м², 3/4 эт.</td>\n",
       "      <td>«Нouse-Club» - это элитный жилой комплекс, где...</td>\n",
       "      <td>6450000.0</td>\n",
       "      <td>55</td>\n",
       "      <td>2017-04-14</td>\n",
       "      <td>Company</td>\n",
       "      <td>d3e43b084d542dfdb5348ade82633c299da422ea73bdc9...</td>\n",
       "      <td>2218.0</td>\n",
       "      <td>-1</td>\n",
       "    </tr>\n",
       "    <tr>\n",
       "      <th>239766</th>\n",
       "      <td>76e1155704a8</td>\n",
       "      <td>e90de198afe6</td>\n",
       "      <td>Нижегородская область</td>\n",
       "      <td>Бор</td>\n",
       "      <td>Бытовая электроника</td>\n",
       "      <td>Аудио и видео</td>\n",
       "      <td>Телевизоры и проекторы</td>\n",
       "      <td>NaN</td>\n",
       "      <td>NaN</td>\n",
       "      <td>Телевизор samsung</td>\n",
       "      <td>Диагональ 72 см, 4:3, с пультом, в отличном со...</td>\n",
       "      <td>2500.0</td>\n",
       "      <td>23</td>\n",
       "      <td>2017-04-18</td>\n",
       "      <td>Private</td>\n",
       "      <td>8784f5f193bc2a2abd510667afdf2714cf4b46bc6a7079...</td>\n",
       "      <td>3022.0</td>\n",
       "      <td>-1</td>\n",
       "    </tr>\n",
       "    <tr>\n",
       "      <th>72262</th>\n",
       "      <td>46d75da21b39</td>\n",
       "      <td>585fff7f078f</td>\n",
       "      <td>Свердловская область</td>\n",
       "      <td>Екатеринбург</td>\n",
       "      <td>Личные вещи</td>\n",
       "      <td>Детская одежда и обувь</td>\n",
       "      <td>Для девочек</td>\n",
       "      <td>Шапки, варежки, шарфы</td>\n",
       "      <td>NaN</td>\n",
       "      <td>Шапочка</td>\n",
       "      <td>Шапочка для девочки 3-5 лет</td>\n",
       "      <td>100.0</td>\n",
       "      <td>14</td>\n",
       "      <td>2017-04-13</td>\n",
       "      <td>Private</td>\n",
       "      <td>6e151c95c02c0dd9166071f5b4b53863f945769e9c126e...</td>\n",
       "      <td>334.0</td>\n",
       "      <td>-1</td>\n",
       "    </tr>\n",
       "    <tr>\n",
       "      <th>194689</th>\n",
       "      <td>894ef588ab2a</td>\n",
       "      <td>c211ad69e580</td>\n",
       "      <td>Красноярский край</td>\n",
       "      <td>Ачинск</td>\n",
       "      <td>Для дома и дачи</td>\n",
       "      <td>Продукты питания</td>\n",
       "      <td>NaN</td>\n",
       "      <td>NaN</td>\n",
       "      <td>NaN</td>\n",
       "      <td>Кедровый орех</td>\n",
       "      <td>Продам орех,литр 100 рублей</td>\n",
       "      <td>1000.0</td>\n",
       "      <td>4</td>\n",
       "      <td>2017-04-12</td>\n",
       "      <td>Private</td>\n",
       "      <td>327c13c4cc26bb5ed6b8d2d153e9ea7fa5aa28c7277c32...</td>\n",
       "      <td>1181.0</td>\n",
       "      <td>-1</td>\n",
       "    </tr>\n",
       "    <tr>\n",
       "      <th>2735</th>\n",
       "      <td>1d19d85859e1</td>\n",
       "      <td>df93ef2e4058</td>\n",
       "      <td>Тюменская область</td>\n",
       "      <td>Тюмень</td>\n",
       "      <td>Личные вещи</td>\n",
       "      <td>Одежда, обувь, аксессуары</td>\n",
       "      <td>Женская одежда</td>\n",
       "      <td>Трикотаж</td>\n",
       "      <td>42–44 (S)</td>\n",
       "      <td>Кардиган</td>\n",
       "      <td>Торг</td>\n",
       "      <td>300.0</td>\n",
       "      <td>3</td>\n",
       "      <td>2017-04-13</td>\n",
       "      <td>Private</td>\n",
       "      <td>ec996a0abae40ff9a4eeac162a482754ee260ed21f150e...</td>\n",
       "      <td>569.0</td>\n",
       "      <td>-1</td>\n",
       "    </tr>\n",
       "    <tr>\n",
       "      <th>181607</th>\n",
       "      <td>374ca8c73fb1</td>\n",
       "      <td>5fc434534dc5</td>\n",
       "      <td>Новосибирская область</td>\n",
       "      <td>Новосибирск</td>\n",
       "      <td>Личные вещи</td>\n",
       "      <td>Детская одежда и обувь</td>\n",
       "      <td>Для мальчиков</td>\n",
       "      <td>Обувь</td>\n",
       "      <td>22</td>\n",
       "      <td>Кроссовки р 22 не ношены</td>\n",
       "      <td>Кроссовки не ношены, размер 23. Но думаю малом...</td>\n",
       "      <td>300.0</td>\n",
       "      <td>26</td>\n",
       "      <td>2017-04-12</td>\n",
       "      <td>Private</td>\n",
       "      <td>d76bdc2e0b4f401b18b5a5e1a7e486164a3886d20b0d59...</td>\n",
       "      <td>45.0</td>\n",
       "      <td>-1</td>\n",
       "    </tr>\n",
       "    <tr>\n",
       "      <th>212444</th>\n",
       "      <td>15112c029447</td>\n",
       "      <td>de03b29715c7</td>\n",
       "      <td>Челябинская область</td>\n",
       "      <td>Челябинск</td>\n",
       "      <td>Бытовая электроника</td>\n",
       "      <td>Телефоны</td>\n",
       "      <td>Номера и SIM-карты</td>\n",
       "      <td>NaN</td>\n",
       "      <td>NaN</td>\n",
       "      <td>Красивый номер</td>\n",
       "      <td>Продам срочно!</td>\n",
       "      <td>7000.0</td>\n",
       "      <td>16</td>\n",
       "      <td>2017-04-15</td>\n",
       "      <td>Private</td>\n",
       "      <td>ea0a9e2f41bce3aab3444462b12b570dccc4e763d11ffe...</td>\n",
       "      <td>2904.0</td>\n",
       "      <td>-1</td>\n",
       "    </tr>\n",
       "    <tr>\n",
       "      <th>99850</th>\n",
       "      <td>f6b0b4b8a055</td>\n",
       "      <td>c501cbfc08fb</td>\n",
       "      <td>Ставропольский край</td>\n",
       "      <td>Будённовск</td>\n",
       "      <td>Животные</td>\n",
       "      <td>Кошки</td>\n",
       "      <td>Британская</td>\n",
       "      <td>NaN</td>\n",
       "      <td>NaN</td>\n",
       "      <td>Котята</td>\n",
       "      <td>Открыто резервирование на 4 малышей британцев ...</td>\n",
       "      <td>3000.0</td>\n",
       "      <td>29</td>\n",
       "      <td>2017-04-15</td>\n",
       "      <td>Company</td>\n",
       "      <td>b05436752b1377404872943fcf7d1858318209e5db384d...</td>\n",
       "      <td>2199.0</td>\n",
       "      <td>-1</td>\n",
       "    </tr>\n",
       "    <tr>\n",
       "      <th>209223</th>\n",
       "      <td>382f8c46b11b</td>\n",
       "      <td>cb43a0c308a7</td>\n",
       "      <td>Челябинская область</td>\n",
       "      <td>Копейск</td>\n",
       "      <td>Животные</td>\n",
       "      <td>Птицы</td>\n",
       "      <td>NaN</td>\n",
       "      <td>NaN</td>\n",
       "      <td>NaN</td>\n",
       "      <td>Цыплята 2 недельные</td>\n",
       "      <td>кросы мясо-яичных пород...</td>\n",
       "      <td>100.0</td>\n",
       "      <td>124</td>\n",
       "      <td>2017-04-16</td>\n",
       "      <td>Company</td>\n",
       "      <td>42ee9f73624c5018e77260cb453ef7a3a88131b8f58637...</td>\n",
       "      <td>2209.0</td>\n",
       "      <td>-1</td>\n",
       "    </tr>\n",
       "  </tbody>\n",
       "</table>\n",
       "</div>"
      ],
      "text/plain": [
       "             item_id       user_id                   region             city  \\\n",
       "217089  366f050a5d77  5735ee0fd250             Башкортостан              Уфа   \n",
       "97378   43c2073cd99e  f6cd44e7c0b4     Свердловская область     Екатеринбург   \n",
       "143100  23ef73fbf2fd  4a59d49f2b6c        Красноярский край         Норильск   \n",
       "133819  b7c22a71fcf1  edde477d7916    Нижегородская область  Нижний Новгород   \n",
       "173923  1b3652b39cde  6250d89a2988      Ставропольский край       Кисловодск   \n",
       "50994   c012c6596a47  898f982d5e25      Кемеровская область         Кемерово   \n",
       "168373  82ddfac71823  3b066e54189e        Самарская область         Чапаевск   \n",
       "222919  fc96ba20eb29  17e43ac638ea      Ставропольский край       Ставрополь   \n",
       "250797  51c897541c6d  494a16a6bea0     Свердловская область     Екатеринбург   \n",
       "166817  b96797c14349  4b9c28a56185             Башкортостан              Уфа   \n",
       "69410   dfabe5bcbb58  b8e53267b3d4  Калининградская область      Калининград   \n",
       "97078   0d53d72ac811  4fb959503b3e      Ханты-Мансийский АО           Сургут   \n",
       "239766  76e1155704a8  e90de198afe6    Нижегородская область              Бор   \n",
       "72262   46d75da21b39  585fff7f078f     Свердловская область     Екатеринбург   \n",
       "194689  894ef588ab2a  c211ad69e580        Красноярский край           Ачинск   \n",
       "2735    1d19d85859e1  df93ef2e4058        Тюменская область           Тюмень   \n",
       "181607  374ca8c73fb1  5fc434534dc5    Новосибирская область      Новосибирск   \n",
       "212444  15112c029447  de03b29715c7      Челябинская область        Челябинск   \n",
       "99850   f6b0b4b8a055  c501cbfc08fb      Ставропольский край       Будённовск   \n",
       "209223  382f8c46b11b  cb43a0c308a7      Челябинская область          Копейск   \n",
       "\n",
       "       parent_category_name              category_name  \\\n",
       "217089  Бытовая электроника              Аудио и видео   \n",
       "97378           Личные вещи  Одежда, обувь, аксессуары   \n",
       "143100          Личные вещи  Одежда, обувь, аксессуары   \n",
       "133819          Личные вещи     Детская одежда и обувь   \n",
       "173923        Хобби и отдых            Охота и рыбалка   \n",
       "50994           Личные вещи  Одежда, обувь, аксессуары   \n",
       "168373        Хобби и отдых                 Велосипеды   \n",
       "222919        Хобби и отдых    Музыкальные инструменты   \n",
       "250797          Личные вещи  Одежда, обувь, аксессуары   \n",
       "166817          Личные вещи  Одежда, обувь, аксессуары   \n",
       "69410   Бытовая электроника              Аудио и видео   \n",
       "97078          Недвижимость                   Квартиры   \n",
       "239766  Бытовая электроника              Аудио и видео   \n",
       "72262           Личные вещи     Детская одежда и обувь   \n",
       "194689      Для дома и дачи           Продукты питания   \n",
       "2735            Личные вещи  Одежда, обувь, аксессуары   \n",
       "181607          Личные вещи     Детская одежда и обувь   \n",
       "212444  Бытовая электроника                   Телефоны   \n",
       "99850              Животные                      Кошки   \n",
       "209223             Животные                      Птицы   \n",
       "\n",
       "                       param_1                param_2               param_3  \\\n",
       "217089  Телевизоры и проекторы                    NaN                   NaN   \n",
       "97378           Женская одежда                  Обувь                    36   \n",
       "143100          Женская одежда         Верхняя одежда           Без размера   \n",
       "133819             Для девочек         Верхняя одежда  110-116 см (4-6 лет)   \n",
       "173923                     NaN                    NaN                   NaN   \n",
       "50994           Женская одежда                  Обувь                    37   \n",
       "168373                  Горные                    NaN                   NaN   \n",
       "222919  Для студии и концертов                    NaN                   NaN   \n",
       "250797          Женская одежда           Нижнее бельё             44–46 (M)   \n",
       "166817          Женская одежда       Рубашки и блузки            40–42 (XS)   \n",
       "69410   Телевизоры и проекторы                    NaN                   NaN   \n",
       "97078                   Продам                      2           Новостройка   \n",
       "239766  Телевизоры и проекторы                    NaN                   NaN   \n",
       "72262              Для девочек  Шапки, варежки, шарфы                   NaN   \n",
       "194689                     NaN                    NaN                   NaN   \n",
       "2735            Женская одежда               Трикотаж             42–44 (S)   \n",
       "181607           Для мальчиков                  Обувь                    22   \n",
       "212444      Номера и SIM-карты                    NaN                   NaN   \n",
       "99850               Британская                    NaN                   NaN   \n",
       "209223                     NaN                    NaN                   NaN   \n",
       "\n",
       "                                    title  \\\n",
       "217089                   Продам телевизор   \n",
       "97378                               Туфли   \n",
       "143100                     Шапка норковая   \n",
       "133819                         Ветровочка   \n",
       "173923       Выползки для рыбалки Крупные   \n",
       "50994                 Кожаные полусапожки   \n",
       "168373    Велосипед Stinger SX 100 Matrix   \n",
       "222919  Микшерный пульт Электроника пм-01   \n",
       "250797      Сетка эротическая новая 42-48   \n",
       "166817            Женская шифоновая блуза   \n",
       "69410            Телевизор dexp H20B7200C   \n",
       "97078        2-к квартира, 86 м², 3/4 эт.   \n",
       "239766                  Телевизор samsung   \n",
       "72262                             Шапочка   \n",
       "194689                      Кедровый орех   \n",
       "2735                             Кардиган   \n",
       "181607           Кроссовки р 22 не ношены   \n",
       "212444                     Красивый номер   \n",
       "99850                              Котята   \n",
       "209223                Цыплята 2 недельные   \n",
       "\n",
       "                                              description      price  \\\n",
       "217089  Продам телевизор РОЛСОН диагональ 70 см в рабо...     2000.0   \n",
       "97378                     Туфли из натуральной кожи, 36 р      400.0   \n",
       "143100  Новая,совсем не носилась.Покупал жене в подаро...    10000.0   \n",
       "133819  на девочку, новая, состояние отличное./\\n+джин...      300.0   \n",
       "173923                           Продам выползков 5 р шт.        5.0   \n",
       "50994   Нат кожа, модные, стильные. Б/у несколько раз,...     1200.0   \n",
       "168373  Велосипед куплен 02.07.15г. Эксплуатировался 2...     9000.0   \n",
       "222919  Продается микшерный пульт Электроника ПМ-01 в ...     5000.0   \n",
       "250797  Универсальный размер 42-48. Смотреть/забирать ...      500.0   \n",
       "166817  Лёгкая,  шифоновая блуза. Рукава 3/4 , подол у...      600.0   \n",
       "69410   Основные характеристики Тип ЖК-телевизор Диаго...     5500.0   \n",
       "97078   «Нouse-Club» - это элитный жилой комплекс, где...  6450000.0   \n",
       "239766  Диагональ 72 см, 4:3, с пультом, в отличном со...     2500.0   \n",
       "72262                         Шапочка для девочки 3-5 лет      100.0   \n",
       "194689                        Продам орех,литр 100 рублей     1000.0   \n",
       "2735                                                 Торг      300.0   \n",
       "181607  Кроссовки не ношены, размер 23. Но думаю малом...      300.0   \n",
       "212444                                     Продам срочно!     7000.0   \n",
       "99850   Открыто резервирование на 4 малышей британцев ...     3000.0   \n",
       "209223                         кросы мясо-яичных пород...      100.0   \n",
       "\n",
       "        item_seq_number activation_date user_type  \\\n",
       "217089               32      2017-04-13   Private   \n",
       "97378                53      2017-04-16   Private   \n",
       "143100                4      2017-04-13   Private   \n",
       "133819               47      2017-04-18   Private   \n",
       "173923               31      2017-04-15   Private   \n",
       "50994               123      2017-04-18   Company   \n",
       "168373               10      2017-04-12   Private   \n",
       "222919                6      2017-04-13   Private   \n",
       "250797              252      2017-04-14   Company   \n",
       "166817                7      2017-04-14   Private   \n",
       "69410               207      2017-04-12   Company   \n",
       "97078                55      2017-04-14   Company   \n",
       "239766               23      2017-04-18   Private   \n",
       "72262                14      2017-04-13   Private   \n",
       "194689                4      2017-04-12   Private   \n",
       "2735                  3      2017-04-13   Private   \n",
       "181607               26      2017-04-12   Private   \n",
       "212444               16      2017-04-15   Private   \n",
       "99850                29      2017-04-15   Company   \n",
       "209223              124      2017-04-16   Company   \n",
       "\n",
       "                                                    image  image_top_1  \\\n",
       "217089  04b32a84e765d650741dd7bd3cfaa0b478a7704b3bbf27...       3022.0   \n",
       "97378   abbe79b0cc747cd867e9ac8f341ef166ca777c7bf57141...        432.0   \n",
       "143100  09d0e10be9d6b392abc49fb1ed485808918e00d14bf677...        227.0   \n",
       "133819  34123d749bbf54082f80ec7c616e9b283411ed39f82d6d...         97.0   \n",
       "173923                                                NaN          NaN   \n",
       "50994   9fbc1a74ee6bbd88b62d3669504ab78b95cb950b578af3...        642.0   \n",
       "168373  8cd2638e8baee77ed1ff45ebf5f6588793e6bb487040f7...       2368.0   \n",
       "222919  19bba892aef6710727976b01a71d86b8ed0ea8b0c39ffa...       2492.0   \n",
       "250797  e6b16db7f9596c9e1249cea98040e5bcf81632bfedbe0c...        553.0   \n",
       "166817  a5fd1c1cfcef433e7261d061b1bdd9ba1615accfabb3d6...        415.0   \n",
       "69410   b6e2db711a15a4b812664786289f07726ef3130ff0d491...       2846.0   \n",
       "97078   d3e43b084d542dfdb5348ade82633c299da422ea73bdc9...       2218.0   \n",
       "239766  8784f5f193bc2a2abd510667afdf2714cf4b46bc6a7079...       3022.0   \n",
       "72262   6e151c95c02c0dd9166071f5b4b53863f945769e9c126e...        334.0   \n",
       "194689  327c13c4cc26bb5ed6b8d2d153e9ea7fa5aa28c7277c32...       1181.0   \n",
       "2735    ec996a0abae40ff9a4eeac162a482754ee260ed21f150e...        569.0   \n",
       "181607  d76bdc2e0b4f401b18b5a5e1a7e486164a3886d20b0d59...         45.0   \n",
       "212444  ea0a9e2f41bce3aab3444462b12b570dccc4e763d11ffe...       2904.0   \n",
       "99850   b05436752b1377404872943fcf7d1858318209e5db384d...       2199.0   \n",
       "209223  42ee9f73624c5018e77260cb453ef7a3a88131b8f58637...       2209.0   \n",
       "\n",
       "        outliers  \n",
       "217089        -1  \n",
       "97378         -1  \n",
       "143100        -1  \n",
       "133819        -1  \n",
       "173923        -1  \n",
       "50994         -1  \n",
       "168373        -1  \n",
       "222919        -1  \n",
       "250797        -1  \n",
       "166817        -1  \n",
       "69410         -1  \n",
       "97078         -1  \n",
       "239766        -1  \n",
       "72262         -1  \n",
       "194689        -1  \n",
       "2735          -1  \n",
       "181607        -1  \n",
       "212444        -1  \n",
       "99850         -1  \n",
       "209223        -1  "
      ]
     },
     "execution_count": 89,
     "metadata": {},
     "output_type": "execute_result"
    }
   ],
   "source": [
    "sample.loc[sample.outliers == -1].head(20)"
   ]
  },
  {
   "cell_type": "markdown",
   "metadata": {},
   "source": [
    "Особо заметных отклонений не видно."
   ]
  }
 ],
 "metadata": {
  "kernelspec": {
   "display_name": "Python 3",
   "language": "python",
   "name": "python3"
  },
  "language_info": {
   "codemirror_mode": {
    "name": "ipython",
    "version": 3
   },
   "file_extension": ".py",
   "mimetype": "text/x-python",
   "name": "python",
   "nbconvert_exporter": "python",
   "pygments_lexer": "ipython3",
   "version": "3.7.4"
  }
 },
 "nbformat": 4,
 "nbformat_minor": 4
}
