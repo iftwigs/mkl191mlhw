{
 "cells": [
  {
   "cell_type": "code",
   "execution_count": 75,
   "metadata": {},
   "outputs": [],
   "source": [
    "import gensim\n",
    "import numpy as np\n",
    "import pandas as pd\n",
    "import matplotlib.pyplot as plt\n",
    "import tensorflow as tf\n",
    "from collections import Counter\n",
    "from sklearn.model_selection import train_test_split\n",
    "from string import punctuation"
   ]
  },
  {
   "cell_type": "code",
   "execution_count": 3,
   "metadata": {},
   "outputs": [],
   "source": [
    "quora = pd.read_csv('quora.csv')"
   ]
  },
  {
   "cell_type": "markdown",
   "metadata": {},
   "source": [
    "### 1. Конкатенация эмбеддингов"
   ]
  },
  {
   "cell_type": "code",
   "execution_count": 4,
   "metadata": {},
   "outputs": [],
   "source": [
    "def preprocess(text):\n",
    "    tokens = text.lower().split()\n",
    "    tokens = [token.strip(punctuation) for token in tokens]\n",
    "    return tokens"
   ]
  },
  {
   "cell_type": "code",
   "execution_count": 9,
   "metadata": {},
   "outputs": [],
   "source": [
    "vocab = Counter()\n",
    "\n",
    "for text in quora.question_text:\n",
    "    vocab.update(preprocess(text))"
   ]
  },
  {
   "cell_type": "code",
   "execution_count": 10,
   "metadata": {},
   "outputs": [],
   "source": [
    "filtered_vocab = set()\n",
    "\n",
    "for word in vocab:\n",
    "    if vocab[word] > 40:\n",
    "        filtered_vocab.add(word)"
   ]
  },
  {
   "cell_type": "code",
   "execution_count": 12,
   "metadata": {},
   "outputs": [
    {
     "data": {
      "text/plain": [
       "15947"
      ]
     },
     "execution_count": 12,
     "metadata": {},
     "output_type": "execute_result"
    }
   ],
   "source": [
    "len(filtered_vocab)"
   ]
  },
  {
   "cell_type": "code",
   "execution_count": 13,
   "metadata": {},
   "outputs": [],
   "source": [
    "word2id = {'UNK':1, 'PAD':0}\n",
    "\n",
    "for word in filtered_vocab:\n",
    "    word2id[word] = len(word2id)"
   ]
  },
  {
   "cell_type": "code",
   "execution_count": 17,
   "metadata": {},
   "outputs": [],
   "source": [
    "id2word = {i:word for word, i in word2id.items()}"
   ]
  },
  {
   "cell_type": "code",
   "execution_count": 19,
   "metadata": {},
   "outputs": [],
   "source": [
    "X = []\n",
    "\n",
    "for text in quora.question_text:\n",
    "    tokens = preprocess(text)\n",
    "    ids = [word2id.get(token, 1) for token in tokens]\n",
    "    X.append(ids)"
   ]
  },
  {
   "cell_type": "code",
   "execution_count": 25,
   "metadata": {},
   "outputs": [],
   "source": [
    "MAX_LEN = max(len(x) for x in X)"
   ]
  },
  {
   "cell_type": "code",
   "execution_count": 26,
   "metadata": {},
   "outputs": [
    {
     "data": {
      "text/plain": [
       "134"
      ]
     },
     "execution_count": 26,
     "metadata": {},
     "output_type": "execute_result"
    }
   ],
   "source": [
    "MAX_LEN"
   ]
  },
  {
   "cell_type": "code",
   "execution_count": 29,
   "metadata": {},
   "outputs": [],
   "source": [
    "X = tf.keras.preprocessing.sequence.pad_sequences(X, maxlen=MAX_LEN)"
   ]
  },
  {
   "cell_type": "code",
   "execution_count": 30,
   "metadata": {},
   "outputs": [
    {
     "data": {
      "text/plain": [
       "(1306122, 134)"
      ]
     },
     "execution_count": 30,
     "metadata": {},
     "output_type": "execute_result"
    }
   ],
   "source": [
    "X.shape"
   ]
  },
  {
   "cell_type": "code",
   "execution_count": 31,
   "metadata": {},
   "outputs": [],
   "source": [
    "y = quora.target.values"
   ]
  },
  {
   "cell_type": "code",
   "execution_count": 34,
   "metadata": {},
   "outputs": [],
   "source": [
    "X_train, X_valid, y_train, y_valid = train_test_split(X, y, test_size=0.05, random_state=64)"
   ]
  },
  {
   "cell_type": "code",
   "execution_count": 35,
   "metadata": {},
   "outputs": [],
   "source": [
    "inputs = tf.keras.layers.Input(shape=(MAX_LEN,))"
   ]
  },
  {
   "cell_type": "code",
   "execution_count": 36,
   "metadata": {},
   "outputs": [
    {
     "name": "stdout",
     "output_type": "stream",
     "text": [
      "WARNING:tensorflow:From /Users/macbookpro/miniconda3/lib/python3.7/site-packages/tensorflow_core/python/keras/initializers.py:119: calling RandomUniform.__init__ (from tensorflow.python.ops.init_ops) with dtype is deprecated and will be removed in a future version.\n",
      "Instructions for updating:\n",
      "Call initializer instance with the dtype argument instead of passing it to the constructor\n",
      "WARNING:tensorflow:From /Users/macbookpro/miniconda3/lib/python3.7/site-packages/tensorflow_core/python/ops/resource_variable_ops.py:1630: calling BaseResourceVariable.__init__ (from tensorflow.python.ops.resource_variable_ops) with constraint is deprecated and will be removed in a future version.\n",
      "Instructions for updating:\n",
      "If using Keras pass *_constraint arguments to layers.\n"
     ]
    }
   ],
   "source": [
    "embeddings = tf.keras.layers.Embedding(input_dim=len(word2id), output_dim=100)(inputs)"
   ]
  },
  {
   "cell_type": "code",
   "execution_count": 37,
   "metadata": {},
   "outputs": [],
   "source": [
    "concat = tf.keras.layers.Flatten()(embeddings)"
   ]
  },
  {
   "cell_type": "code",
   "execution_count": 38,
   "metadata": {},
   "outputs": [],
   "source": [
    "dense = tf.keras.layers.Dense(64, activation='relu')(concat)"
   ]
  },
  {
   "cell_type": "code",
   "execution_count": 39,
   "metadata": {},
   "outputs": [],
   "source": [
    "outputs = tf.keras.layers.Dense(1, activation='sigmoid')(dense)"
   ]
  },
  {
   "cell_type": "code",
   "execution_count": 40,
   "metadata": {},
   "outputs": [],
   "source": [
    "model = tf.keras.Model(inputs=inputs, outputs=outputs)"
   ]
  },
  {
   "cell_type": "code",
   "execution_count": 41,
   "metadata": {},
   "outputs": [],
   "source": [
    "optimizer = tf.keras.optimizers.Adam(learning_rate=0.0001)"
   ]
  },
  {
   "cell_type": "code",
   "execution_count": 49,
   "metadata": {},
   "outputs": [],
   "source": [
    "model.compile(optimizer=optimizer, loss='mse', metrics=[tf.keras.metrics.RootMeanSquaredError()])"
   ]
  },
  {
   "cell_type": "code",
   "execution_count": 50,
   "metadata": {},
   "outputs": [
    {
     "name": "stdout",
     "output_type": "stream",
     "text": [
      "Train on 1240815 samples, validate on 65307 samples\n",
      "Epoch 1/10\n",
      "1240815/1240815 [==============================] - 100s 81us/sample - loss: 0.0330 - root_mean_squared_error: 0.1818 - val_loss: 0.0344 - val_root_mean_squared_error: 0.1854\n",
      "Epoch 2/10\n",
      "1240815/1240815 [==============================] - 92s 74us/sample - loss: 0.0326 - root_mean_squared_error: 0.1804 - val_loss: 0.0341 - val_root_mean_squared_error: 0.1848\n",
      "Epoch 3/10\n",
      "1240815/1240815 [==============================] - 81s 65us/sample - loss: 0.0321 - root_mean_squared_error: 0.1792 - val_loss: 0.0340 - val_root_mean_squared_error: 0.1843\n",
      "Epoch 4/10\n",
      "1240815/1240815 [==============================] - 82s 66us/sample - loss: 0.0317 - root_mean_squared_error: 0.1781 - val_loss: 0.0338 - val_root_mean_squared_error: 0.1839\n",
      "Epoch 5/10\n",
      "1240815/1240815 [==============================] - 86s 69us/sample - loss: 0.0313 - root_mean_squared_error: 0.1770 - val_loss: 0.0338 - val_root_mean_squared_error: 0.1837\n",
      "Epoch 6/10\n",
      "1240815/1240815 [==============================] - 82s 66us/sample - loss: 0.0310 - root_mean_squared_error: 0.1761 - val_loss: 0.0337 - val_root_mean_squared_error: 0.1836\n",
      "Epoch 7/10\n",
      "1240815/1240815 [==============================] - 82s 66us/sample - loss: 0.0307 - root_mean_squared_error: 0.1751 - val_loss: 0.0337 - val_root_mean_squared_error: 0.1835\n",
      "Epoch 8/10\n",
      "1240815/1240815 [==============================] - 82s 66us/sample - loss: 0.0303 - root_mean_squared_error: 0.1742 - val_loss: 0.0337 - val_root_mean_squared_error: 0.1836\n",
      "Epoch 9/10\n",
      "1240815/1240815 [==============================] - 84s 68us/sample - loss: 0.0300 - root_mean_squared_error: 0.1733 - val_loss: 0.0337 - val_root_mean_squared_error: 0.1835\n",
      "Epoch 10/10\n",
      "1240815/1240815 [==============================] - 83s 67us/sample - loss: 0.0297 - root_mean_squared_error: 0.1724 - val_loss: 0.0337 - val_root_mean_squared_error: 0.1836\n"
     ]
    },
    {
     "data": {
      "text/plain": [
       "<tensorflow.python.keras.callbacks.History at 0x11e88fcd0>"
      ]
     },
     "execution_count": 50,
     "metadata": {},
     "output_type": "execute_result"
    }
   ],
   "source": [
    "model.fit(X_train, y_train, \n",
    "          validation_data=(X_valid, y_valid),\n",
    "          batch_size=10000,\n",
    "         epochs=10)"
   ]
  },
  {
   "cell_type": "code",
   "execution_count": 52,
   "metadata": {
    "scrolled": true
   },
   "outputs": [
    {
     "name": "stdout",
     "output_type": "stream",
     "text": [
      "dict_keys(['loss', 'root_mean_squared_error', 'val_loss', 'val_root_mean_squared_error'])\n"
     ]
    },
    {
     "data": {
      "image/png": "[encoded data removed]",
      "text/plain": [
       "<Figure size 432x288 with 1 Axes>"
      ]
     },
     "metadata": {
      "needs_background": "light"
     },
     "output_type": "display_data"
    }
   ],
   "source": [
    "print(model.history.history.keys())\n",
    "plt.plot(model.history.history['root_mean_squared_error'])\n",
    "plt.plot(model.history.history['val_root_mean_squared_error'])\n",
    "plt.title('model RMSE')\n",
    "plt.ylabel('RMSE')\n",
    "plt.xlabel('epoch')\n",
    "plt.legend(['train', 'val'], loc='upper left')\n",
    "plt.show()"
   ]
  },
  {
   "cell_type": "markdown",
   "metadata": {},
   "source": [
    "Видно, что на валидационной выборке, в отличие от тренировочной, качество практически не растёт. "
   ]
  },
  {
   "cell_type": "markdown",
   "metadata": {},
   "source": [
    "### 2. Усреднение эмбеддингов"
   ]
  },
  {
   "cell_type": "code",
   "execution_count": 53,
   "metadata": {},
   "outputs": [],
   "source": [
    "mean = tf.keras.layers.Lambda(lambda x: tf.keras.backend.mean(x,  axis=1))(embeddings)"
   ]
  },
  {
   "cell_type": "code",
   "execution_count": 54,
   "metadata": {},
   "outputs": [],
   "source": [
    "dense = tf.keras.layers.Dense(64, activation='relu')(mean)"
   ]
  },
  {
   "cell_type": "code",
   "execution_count": 55,
   "metadata": {},
   "outputs": [],
   "source": [
    "outputs = tf.keras.layers.Dense(1, activation='sigmoid')(dense)"
   ]
  },
  {
   "cell_type": "code",
   "execution_count": 56,
   "metadata": {},
   "outputs": [],
   "source": [
    "model = tf.keras.Model(inputs=inputs, outputs=outputs)"
   ]
  },
  {
   "cell_type": "code",
   "execution_count": 57,
   "metadata": {},
   "outputs": [],
   "source": [
    "optimizer = tf.keras.optimizers.Adam(learning_rate=0.0001)"
   ]
  },
  {
   "cell_type": "code",
   "execution_count": 58,
   "metadata": {},
   "outputs": [],
   "source": [
    "model.compile(optimizer=optimizer, loss='mse', metrics=[tf.keras.metrics.RootMeanSquaredError()])"
   ]
  },
  {
   "cell_type": "code",
   "execution_count": 59,
   "metadata": {},
   "outputs": [
    {
     "name": "stdout",
     "output_type": "stream",
     "text": [
      "Train on 1240815 samples, validate on 65307 samples\n",
      "Epoch 1/10\n",
      "1240815/1240815 [==============================] - 51s 41us/sample - loss: 0.2177 - root_mean_squared_error: 0.4665 - val_loss: 0.1890 - val_root_mean_squared_error: 0.4347\n",
      "Epoch 2/10\n",
      "1240815/1240815 [==============================] - 54s 44us/sample - loss: 0.1585 - root_mean_squared_error: 0.3981 - val_loss: 0.1276 - val_root_mean_squared_error: 0.3572\n",
      "Epoch 3/10\n",
      "1240815/1240815 [==============================] - 72s 58us/sample - loss: 0.1038 - root_mean_squared_error: 0.3222 - val_loss: 0.0844 - val_root_mean_squared_error: 0.2905\n",
      "Epoch 4/10\n",
      "1240815/1240815 [==============================] - 68s 55us/sample - loss: 0.0742 - root_mean_squared_error: 0.2723 - val_loss: 0.0667 - val_root_mean_squared_error: 0.2583\n",
      "Epoch 5/10\n",
      "1240815/1240815 [==============================] - 62s 50us/sample - loss: 0.0632 - root_mean_squared_error: 0.2515 - val_loss: 0.0607 - val_root_mean_squared_error: 0.2463\n",
      "Epoch 6/10\n",
      "1240815/1240815 [==============================] - 77s 62us/sample - loss: 0.0594 - root_mean_squared_error: 0.2438 - val_loss: 0.0584 - val_root_mean_squared_error: 0.2417\n",
      "Epoch 7/10\n",
      "1240815/1240815 [==============================] - 54s 43us/sample - loss: 0.0579 - root_mean_squared_error: 0.2407 - val_loss: 0.0575 - val_root_mean_squared_error: 0.2398\n",
      "Epoch 8/10\n",
      "1240815/1240815 [==============================] - 50s 40us/sample - loss: 0.0573 - root_mean_squared_error: 0.2393 - val_loss: 0.0570 - val_root_mean_squared_error: 0.2387\n",
      "Epoch 9/10\n",
      "1240815/1240815 [==============================] - 50s 40us/sample - loss: 0.0569 - root_mean_squared_error: 0.2385 - val_loss: 0.0567 - val_root_mean_squared_error: 0.2381\n",
      "Epoch 10/10\n",
      "1240815/1240815 [==============================] - 50s 40us/sample - loss: 0.0566 - root_mean_squared_error: 0.2379 - val_loss: 0.0564 - val_root_mean_squared_error: 0.2376\n"
     ]
    },
    {
     "data": {
      "text/plain": [
       "<tensorflow.python.keras.callbacks.History at 0x16208fc10>"
      ]
     },
     "execution_count": 59,
     "metadata": {},
     "output_type": "execute_result"
    }
   ],
   "source": [
    "model.fit(X_train, y_train, \n",
    "          validation_data=(X_valid, y_valid),\n",
    "          batch_size=10000,\n",
    "         epochs=10)"
   ]
  },
  {
   "cell_type": "code",
   "execution_count": 60,
   "metadata": {},
   "outputs": [
    {
     "name": "stdout",
     "output_type": "stream",
     "text": [
      "dict_keys(['loss', 'root_mean_squared_error', 'val_loss', 'val_root_mean_squared_error'])\n"
     ]
    },
    {
     "data": {
      "image/png": "[encoded data removed]",
      "text/plain": [
       "<Figure size 432x288 with 1 Axes>"
      ]
     },
     "metadata": {
      "needs_background": "light"
     },
     "output_type": "display_data"
    }
   ],
   "source": [
    "print(model.history.history.keys())\n",
    "plt.plot(model.history.history['root_mean_squared_error'])\n",
    "plt.plot(model.history.history['val_root_mean_squared_error'])\n",
    "plt.title('model RMSE')\n",
    "plt.ylabel('RMSE')\n",
    "plt.xlabel('epoch')\n",
    "plt.legend(['train', 'val'], loc='upper left')\n",
    "plt.show()"
   ]
  },
  {
   "cell_type": "markdown",
   "metadata": {},
   "source": [
    "Изначальная среднеквадратичная ошибка в этом случае значительно больше, чем в первом варианте, однако и улучшение на обоих выборках драматичнее."
   ]
  },
  {
   "cell_type": "markdown",
   "metadata": {},
   "source": [
    "### 3. Сложение эмбеддингов"
   ]
  },
  {
   "cell_type": "code",
   "execution_count": 62,
   "metadata": {},
   "outputs": [],
   "source": [
    "summed = tf.keras.layers.Lambda(lambda x: tf.keras.backend.sum(x,  axis=1))(embeddings)"
   ]
  },
  {
   "cell_type": "code",
   "execution_count": 63,
   "metadata": {},
   "outputs": [],
   "source": [
    "dense = tf.keras.layers.Dense(64, activation='relu')(summed)"
   ]
  },
  {
   "cell_type": "code",
   "execution_count": 64,
   "metadata": {},
   "outputs": [],
   "source": [
    "outputs = tf.keras.layers.Dense(1, activation='sigmoid')(dense)"
   ]
  },
  {
   "cell_type": "code",
   "execution_count": 65,
   "metadata": {},
   "outputs": [],
   "source": [
    "outputs = tf.keras.layers.Dense(1, activation='sigmoid')(dense)"
   ]
  },
  {
   "cell_type": "code",
   "execution_count": 66,
   "metadata": {},
   "outputs": [],
   "source": [
    "optimizer = tf.keras.optimizers.Adam(learning_rate=0.0001)"
   ]
  },
  {
   "cell_type": "code",
   "execution_count": 67,
   "metadata": {},
   "outputs": [],
   "source": [
    "model.compile(optimizer=optimizer,\n",
    "              loss='mse',\n",
    "              metrics=[tf.keras.metrics.RootMeanSquaredError()])"
   ]
  },
  {
   "cell_type": "code",
   "execution_count": 68,
   "metadata": {},
   "outputs": [
    {
     "name": "stdout",
     "output_type": "stream",
     "text": [
      "Train on 1240815 samples, validate on 65307 samples\n",
      "Epoch 1/10\n",
      "1240815/1240815 [==============================] - 77s 62us/sample - loss: 0.0563 - root_mean_squared_error: 0.2373 - val_loss: 0.0561 - val_root_mean_squared_error: 0.2368\n",
      "Epoch 2/10\n",
      "1240815/1240815 [==============================] - 66s 53us/sample - loss: 0.0559 - root_mean_squared_error: 0.2364 - val_loss: 0.0556 - val_root_mean_squared_error: 0.2357\n",
      "Epoch 3/10\n",
      "1240815/1240815 [==============================] - 71s 57us/sample - loss: 0.0552 - root_mean_squared_error: 0.2350 - val_loss: 0.0548 - val_root_mean_squared_error: 0.2340\n",
      "Epoch 4/10\n",
      "1240815/1240815 [==============================] - 69s 56us/sample - loss: 0.0542 - root_mean_squared_error: 0.2329 - val_loss: 0.0535 - val_root_mean_squared_error: 0.2313\n",
      "Epoch 5/10\n",
      "1240815/1240815 [==============================] - 61s 49us/sample - loss: 0.0526 - root_mean_squared_error: 0.2294 - val_loss: 0.0516 - val_root_mean_squared_error: 0.2271\n",
      "Epoch 6/10\n",
      "1240815/1240815 [==============================] - 61s 49us/sample - loss: 0.0505 - root_mean_squared_error: 0.2247 - val_loss: 0.0492 - val_root_mean_squared_error: 0.2218\n",
      "Epoch 7/10\n",
      "1240815/1240815 [==============================] - 61s 49us/sample - loss: 0.0481 - root_mean_squared_error: 0.2193 - val_loss: 0.0469 - val_root_mean_squared_error: 0.2165\n",
      "Epoch 8/10\n",
      "1240815/1240815 [==============================] - 64s 52us/sample - loss: 0.0459 - root_mean_squared_error: 0.2142 - val_loss: 0.0449 - val_root_mean_squared_error: 0.2118\n",
      "Epoch 9/10\n",
      "1240815/1240815 [==============================] - 60s 48us/sample - loss: 0.0441 - root_mean_squared_error: 0.2100 - val_loss: 0.0433 - val_root_mean_squared_error: 0.2080\n",
      "Epoch 10/10\n",
      "1240815/1240815 [==============================] - 53s 43us/sample - loss: 0.0427 - root_mean_squared_error: 0.2066 - val_loss: 0.0421 - val_root_mean_squared_error: 0.2051\n"
     ]
    },
    {
     "data": {
      "text/plain": [
       "<tensorflow.python.keras.callbacks.History at 0x156cf7550>"
      ]
     },
     "execution_count": 68,
     "metadata": {},
     "output_type": "execute_result"
    }
   ],
   "source": [
    "model.fit(X_train, y_train, \n",
    "          validation_data=(X_valid, y_valid),\n",
    "          batch_size=10000,\n",
    "         epochs=10)"
   ]
  },
  {
   "cell_type": "code",
   "execution_count": 69,
   "metadata": {},
   "outputs": [
    {
     "name": "stdout",
     "output_type": "stream",
     "text": [
      "dict_keys(['loss', 'root_mean_squared_error', 'val_loss', 'val_root_mean_squared_error'])\n"
     ]
    },
    {
     "data": {
      "image/png": "[encoded data removed]",
      "text/plain": [
       "<Figure size 432x288 with 1 Axes>"
      ]
     },
     "metadata": {
      "needs_background": "light"
     },
     "output_type": "display_data"
    }
   ],
   "source": [
    "print(model.history.history.keys())\n",
    "plt.plot(model.history.history['root_mean_squared_error'])\n",
    "plt.plot(model.history.history['val_root_mean_squared_error'])\n",
    "plt.title('model RMSE')\n",
    "plt.ylabel('RMSE')\n",
    "plt.xlabel('epoch')\n",
    "plt.legend(['train', 'val'], loc='upper left')\n",
    "plt.show()"
   ]
  },
  {
   "cell_type": "markdown",
   "metadata": {},
   "source": [
    "В этом случае качество выборок улучшается почти параллельно. Если ориентироваться на величину разброса, этот вариант лучше других, однако среднеквадратичная ошибка здесь выше, чем в первом из вариантов."
   ]
  },
  {
   "cell_type": "markdown",
   "metadata": {},
   "source": [
    "### 4. Использование предобученных эмбеддингов"
   ]
  },
  {
   "cell_type": "code",
   "execution_count": 71,
   "metadata": {},
   "outputs": [],
   "source": [
    "texts = quora.question_text.apply(preprocess).tolist()"
   ]
  },
  {
   "cell_type": "code",
   "execution_count": 72,
   "metadata": {},
   "outputs": [
    {
     "name": "stdout",
     "output_type": "stream",
     "text": [
      "CPU times: user 9min 50s, sys: 10.3 s, total: 10min\n",
      "Wall time: 3min 58s\n"
     ]
    }
   ],
   "source": [
    "%%time\n",
    "ft = gensim.models.FastText(texts, size=100)"
   ]
  },
  {
   "cell_type": "code",
   "execution_count": 73,
   "metadata": {},
   "outputs": [],
   "source": [
    "w2v = gensim.models.Word2Vec(texts, size=100)"
   ]
  },
  {
   "cell_type": "code",
   "execution_count": 77,
   "metadata": {},
   "outputs": [
    {
     "name": "stderr",
     "output_type": "stream",
     "text": [
      "/Users/macbookpro/miniconda3/lib/python3.7/site-packages/ipykernel_launcher.py:8: DeprecationWarning: Call to deprecated `__getitem__` (Method will be removed in 4.0.0, use self.wv.__getitem__() instead).\n",
      "  \n",
      "/Users/macbookpro/miniconda3/lib/python3.7/site-packages/ipykernel_launcher.py:11: DeprecationWarning: Call to deprecated `__getitem__` (Method will be removed in 4.0.0, use self.wv.__getitem__() instead).\n",
      "  # This is added back by InteractiveShellApp.init_path()\n"
     ]
    }
   ],
   "source": [
    "ft_weights = np.zeros((len(word2id), 100))\n",
    "\n",
    "for word, i in word2id.items():\n",
    "    if word == 'PAD':\n",
    "        continue\n",
    "    \n",
    "    if word == 'UNK':\n",
    "        ft_weights[i] = ft['colorlessgreenideas']\n",
    "    \n",
    "    try:\n",
    "        ft_weights[i] = ft[word]\n",
    "    \n",
    "    except KeyError:\n",
    "        ft_weights[i] = ft['sleepfuriously']"
   ]
  },
  {
   "cell_type": "code",
   "execution_count": 79,
   "metadata": {},
   "outputs": [
    {
     "name": "stderr",
     "output_type": "stream",
     "text": [
      "/Users/macbookpro/miniconda3/lib/python3.7/site-packages/ipykernel_launcher.py:8: DeprecationWarning: Call to deprecated `__getitem__` (Method will be removed in 4.0.0, use self.wv.__getitem__() instead).\n",
      "  \n"
     ]
    }
   ],
   "source": [
    "w2v_weights = np.zeros((len(word2id), 100))\n",
    "\n",
    "for word, i in word2id.items():\n",
    "    if word == 'PAD' or word == 'UNK':\n",
    "        continue\n",
    "            \n",
    "    try:\n",
    "        w2v_weights[i] = w2v[word] \n",
    "    \n",
    "    except KeyError:\n",
    "        continue"
   ]
  },
  {
   "cell_type": "code",
   "execution_count": 82,
   "metadata": {},
   "outputs": [],
   "source": [
    "ft_embeddings = tf.keras.layers.Embedding(input_dim=len(word2id), output_dim=100, trainable=False,\n",
    "                                      weights=[ft_weights])(inputs)"
   ]
  },
  {
   "cell_type": "code",
   "execution_count": 83,
   "metadata": {},
   "outputs": [],
   "source": [
    "w2v_embeddings = tf.keras.layers.Embedding(input_dim=len(word2id), output_dim=100, trainable=False,\n",
    "                                      weights=[w2v_weights])(inputs)"
   ]
  },
  {
   "cell_type": "code",
   "execution_count": 84,
   "metadata": {},
   "outputs": [],
   "source": [
    "mean = tf.keras.layers.Average()([ft_embeddings, w2v_embeddings]) #усреднение"
   ]
  },
  {
   "cell_type": "code",
   "execution_count": 91,
   "metadata": {},
   "outputs": [],
   "source": [
    "flat = tf.keras.layers.Flatten()(mean)"
   ]
  },
  {
   "cell_type": "code",
   "execution_count": 92,
   "metadata": {},
   "outputs": [],
   "source": [
    "dense = tf.keras.layers.Dense(64, activation='relu')(flat)"
   ]
  },
  {
   "cell_type": "code",
   "execution_count": 93,
   "metadata": {},
   "outputs": [],
   "source": [
    "outputs = tf.keras.layers.Dense(1, activation='sigmoid')(dense)"
   ]
  },
  {
   "cell_type": "code",
   "execution_count": 94,
   "metadata": {},
   "outputs": [],
   "source": [
    "model = tf.keras.Model(inputs=inputs, outputs=outputs)"
   ]
  },
  {
   "cell_type": "code",
   "execution_count": 95,
   "metadata": {},
   "outputs": [],
   "source": [
    "optimizer = tf.keras.optimizers.Adam(learning_rate=0.0001)"
   ]
  },
  {
   "cell_type": "code",
   "execution_count": 96,
   "metadata": {},
   "outputs": [],
   "source": [
    "model.compile(optimizer=optimizer,\n",
    "              loss='mse',\n",
    "              metrics=[tf.keras.metrics.RootMeanSquaredError()])"
   ]
  },
  {
   "cell_type": "code",
   "execution_count": 97,
   "metadata": {},
   "outputs": [
    {
     "name": "stdout",
     "output_type": "stream",
     "text": [
      "Train on 1240815 samples, validate on 65307 samples\n",
      "Epoch 1/10\n",
      "1240815/1240815 [==============================] - 93s 75us/sample - loss: 0.0588 - root_mean_squared_error: 0.2425 - val_loss: 0.0447 - val_root_mean_squared_error: 0.2115\n",
      "Epoch 2/10\n",
      "1240815/1240815 [==============================] - 86s 69us/sample - loss: 0.0427 - root_mean_squared_error: 0.2067 - val_loss: 0.0417 - val_root_mean_squared_error: 0.2041\n",
      "Epoch 3/10\n",
      "1240815/1240815 [==============================] - 87s 70us/sample - loss: 0.0404 - root_mean_squared_error: 0.2009 - val_loss: 0.0406 - val_root_mean_squared_error: 0.2015\n",
      "Epoch 4/10\n",
      "1240815/1240815 [==============================] - 87s 70us/sample - loss: 0.0391 - root_mean_squared_error: 0.1978 - val_loss: 0.0400 - val_root_mean_squared_error: 0.2000\n",
      "Epoch 5/10\n",
      "1240815/1240815 [==============================] - 85s 68us/sample - loss: 0.0382 - root_mean_squared_error: 0.1955 - val_loss: 0.0397 - val_root_mean_squared_error: 0.1992\n",
      "Epoch 6/10\n",
      "1240815/1240815 [==============================] - 88s 71us/sample - loss: 0.0375 - root_mean_squared_error: 0.1937 - val_loss: 0.0395 - val_root_mean_squared_error: 0.1987\n",
      "Epoch 7/10\n",
      "1240815/1240815 [==============================] - 101s 81us/sample - loss: 0.0368 - root_mean_squared_error: 0.1919 - val_loss: 0.0392 - val_root_mean_squared_error: 0.1981\n",
      "Epoch 8/10\n",
      "1240815/1240815 [==============================] - 85s 68us/sample - loss: 0.0362 - root_mean_squared_error: 0.1903 - val_loss: 0.0390 - val_root_mean_squared_error: 0.1975\n",
      "Epoch 9/10\n",
      "1240815/1240815 [==============================] - 92s 74us/sample - loss: 0.0356 - root_mean_squared_error: 0.1888 - val_loss: 0.0389 - val_root_mean_squared_error: 0.1974\n",
      "Epoch 10/10\n",
      "1240815/1240815 [==============================] - 85s 69us/sample - loss: 0.0351 - root_mean_squared_error: 0.1873 - val_loss: 0.0388 - val_root_mean_squared_error: 0.1970\n"
     ]
    },
    {
     "data": {
      "text/plain": [
       "<tensorflow.python.keras.callbacks.History at 0x1c48fce10>"
      ]
     },
     "execution_count": 97,
     "metadata": {},
     "output_type": "execute_result"
    }
   ],
   "source": [
    "model.fit(X_train, y_train, \n",
    "          validation_data=(X_valid, y_valid),\n",
    "          batch_size=5000,\n",
    "         epochs=10)"
   ]
  },
  {
   "cell_type": "code",
   "execution_count": 98,
   "metadata": {},
   "outputs": [
    {
     "name": "stdout",
     "output_type": "stream",
     "text": [
      "dict_keys(['loss', 'root_mean_squared_error', 'val_loss', 'val_root_mean_squared_error'])\n"
     ]
    },
    {
     "data": {
      "image/png": "[encoded data removed]",
      "text/plain": [
       "<Figure size 432x288 with 1 Axes>"
      ]
     },
     "metadata": {
      "needs_background": "light"
     },
     "output_type": "display_data"
    }
   ],
   "source": [
    "print(model.history.history.keys())\n",
    "plt.plot(model.history.history['root_mean_squared_error'])\n",
    "plt.plot(model.history.history['val_root_mean_squared_error'])\n",
    "plt.title('model RMSE')\n",
    "plt.ylabel('RMSE')\n",
    "plt.xlabel('epoch')\n",
    "plt.legend(['train', 'val'], loc='upper left')\n",
    "plt.show()"
   ]
  },
  {
   "cell_type": "code",
   "execution_count": 99,
   "metadata": {},
   "outputs": [],
   "source": [
    "concat = tf.keras.layers.Concatenate()([ft_embeddings, w2v_embeddings])"
   ]
  },
  {
   "cell_type": "code",
   "execution_count": 100,
   "metadata": {},
   "outputs": [],
   "source": [
    "flat = tf.keras.layers.Flatten()(concat)"
   ]
  },
  {
   "cell_type": "code",
   "execution_count": 101,
   "metadata": {},
   "outputs": [],
   "source": [
    "dense = tf.keras.layers.Dense(64, activation='relu')(flat)"
   ]
  },
  {
   "cell_type": "code",
   "execution_count": 102,
   "metadata": {},
   "outputs": [],
   "source": [
    "outputs = tf.keras.layers.Dense(1, activation='sigmoid')(dense)"
   ]
  },
  {
   "cell_type": "code",
   "execution_count": 103,
   "metadata": {},
   "outputs": [],
   "source": [
    "model = tf.keras.Model(inputs=inputs, outputs=outputs)"
   ]
  },
  {
   "cell_type": "code",
   "execution_count": 104,
   "metadata": {},
   "outputs": [],
   "source": [
    "optimizer = tf.keras.optimizers.Adam(learning_rate=0.0001)"
   ]
  },
  {
   "cell_type": "code",
   "execution_count": 105,
   "metadata": {},
   "outputs": [],
   "source": [
    "model.compile(optimizer=optimizer,\n",
    "              loss='mse',\n",
    "              metrics=[tf.keras.metrics.RootMeanSquaredError()])"
   ]
  },
  {
   "cell_type": "code",
   "execution_count": 106,
   "metadata": {},
   "outputs": [
    {
     "name": "stdout",
     "output_type": "stream",
     "text": [
      "Train on 1240815 samples, validate on 65307 samples\n",
      "Epoch 1/10\n",
      "1240815/1240815 [==============================] - 147s 119us/sample - loss: 0.0469 - root_mean_squared_error: 0.2165 - val_loss: 0.0405 - val_root_mean_squared_error: 0.2011\n",
      "Epoch 2/10\n",
      "1240815/1240815 [==============================] - 146s 117us/sample - loss: 0.0387 - root_mean_squared_error: 0.1968 - val_loss: 0.0389 - val_root_mean_squared_error: 0.1972\n",
      "Epoch 3/10\n",
      "1240815/1240815 [==============================] - 163s 132us/sample - loss: 0.0367 - root_mean_squared_error: 0.1917 - val_loss: 0.0383 - val_root_mean_squared_error: 0.1958\n",
      "Epoch 4/10\n",
      "1240815/1240815 [==============================] - 166s 134us/sample - loss: 0.0353 - root_mean_squared_error: 0.1878 - val_loss: 0.0380 - val_root_mean_squared_error: 0.1950\n",
      "Epoch 5/10\n",
      "1240815/1240815 [==============================] - 160s 129us/sample - loss: 0.0340 - root_mean_squared_error: 0.1844 - val_loss: 0.0379 - val_root_mean_squared_error: 0.1948\n",
      "Epoch 6/10\n",
      "1240815/1240815 [==============================] - 169s 136us/sample - loss: 0.0329 - root_mean_squared_error: 0.1814 - val_loss: 0.0378 - val_root_mean_squared_error: 0.1945\n",
      "Epoch 7/10\n",
      "1240815/1240815 [==============================] - 160s 129us/sample - loss: 0.0319 - root_mean_squared_error: 0.1786 - val_loss: 0.0381 - val_root_mean_squared_error: 0.1951\n",
      "Epoch 8/10\n",
      "1240815/1240815 [==============================] - 179s 144us/sample - loss: 0.0309 - root_mean_squared_error: 0.1759 - val_loss: 0.0379 - val_root_mean_squared_error: 0.1948\n",
      "Epoch 9/10\n",
      "1240815/1240815 [==============================] - 169s 136us/sample - loss: 0.0300 - root_mean_squared_error: 0.1733 - val_loss: 0.0381 - val_root_mean_squared_error: 0.1951\n",
      "Epoch 10/10\n",
      "1240815/1240815 [==============================] - 187s 151us/sample - loss: 0.0291 - root_mean_squared_error: 0.1707 - val_loss: 0.0380 - val_root_mean_squared_error: 0.1949\n"
     ]
    },
    {
     "data": {
      "text/plain": [
       "<tensorflow.python.keras.callbacks.History at 0x1c49ad850>"
      ]
     },
     "execution_count": 106,
     "metadata": {},
     "output_type": "execute_result"
    }
   ],
   "source": [
    "model.fit(X_train, y_train, \n",
    "          validation_data=(X_valid, y_valid),\n",
    "          batch_size=5000,\n",
    "         epochs=10)"
   ]
  },
  {
   "cell_type": "code",
   "execution_count": 107,
   "metadata": {},
   "outputs": [
    {
     "name": "stdout",
     "output_type": "stream",
     "text": [
      "dict_keys(['loss', 'root_mean_squared_error', 'val_loss', 'val_root_mean_squared_error'])\n"
     ]
    },
    {
     "data": {
      "image/png": "[encoded data removed]",
      "text/plain": [
       "<Figure size 432x288 with 1 Axes>"
      ]
     },
     "metadata": {
      "needs_background": "light"
     },
     "output_type": "display_data"
    }
   ],
   "source": [
    "print(model.history.history.keys())\n",
    "plt.plot(model.history.history['root_mean_squared_error'])\n",
    "plt.plot(model.history.history['val_root_mean_squared_error'])\n",
    "plt.title('model RMSE')\n",
    "plt.ylabel('RMSE')\n",
    "plt.xlabel('epoch')\n",
    "plt.legend(['train', 'val'], loc='upper left')\n",
    "plt.show()"
   ]
  }
 ],
 "metadata": {
  "kernelspec": {
   "display_name": "Python 3",
   "language": "python",
   "name": "python3"
  },
  "language_info": {
   "codemirror_mode": {
    "name": "ipython",
    "version": 3
   },
   "file_extension": ".py",
   "mimetype": "text/x-python",
   "name": "python",
   "nbconvert_exporter": "python",
   "pygments_lexer": "ipython3",
   "version": "3.7.4"
  }
 },
 "nbformat": 4,
 "nbformat_minor": 2
}
