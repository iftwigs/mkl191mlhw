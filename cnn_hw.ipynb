{
 "cells": [
  {
   "cell_type": "code",
   "execution_count": 50,
   "metadata": {},
   "outputs": [],
   "source": [
    "import tensorflow as tf\n",
    "import pandas as pd\n",
    "import numpy as np\n",
    "import matplotlib.pyplot as plt\n",
    "from collections import Counter\n",
    "from sklearn.model_selection import train_test_split\n",
    "from sklearn.metrics import classification_report, f1_score\n",
    "from tensorflow.keras import backend as K"
   ]
  },
  {
   "cell_type": "code",
   "execution_count": 2,
   "metadata": {},
   "outputs": [],
   "source": [
    "quora = pd.read_csv('quora.csv')"
   ]
  },
  {
   "cell_type": "code",
   "execution_count": 4,
   "metadata": {},
   "outputs": [],
   "source": [
    "def f1(y_true, y_pred):\n",
    "    def recall(y_true, y_pred):\n",
    "        true_positives = K.sum(K.round(K.clip(y_true * y_pred, 0, 1)))\n",
    "        possible_positives = K.sum(K.round(K.clip(y_true, 0, 1)))\n",
    "        recall = true_positives / (possible_positives + K.epsilon())\n",
    "        return recall\n",
    "\n",
    "    def precision(y_true, y_pred):\n",
    "        true_positives = K.sum(K.round(K.clip(y_true * y_pred, 0, 1)))\n",
    "        predicted_positives = K.sum(K.round(K.clip(y_pred, 0, 1)))\n",
    "        precision = true_positives / (predicted_positives + K.epsilon())\n",
    "        return precision\n",
    "    precision = precision(y_true, y_pred)\n",
    "    recall = recall(y_true, y_pred)\n",
    "    return 2*((precision*recall)/(precision+recall+K.epsilon()))"
   ]
  },
  {
   "cell_type": "code",
   "execution_count": 5,
   "metadata": {},
   "outputs": [],
   "source": [
    "def text_to_char(text):\n",
    "    chars = []\n",
    "    for char in text:\n",
    "        chars += [char]\n",
    "    return chars"
   ]
  },
  {
   "cell_type": "code",
   "execution_count": 6,
   "metadata": {},
   "outputs": [],
   "source": [
    "vocab = Counter()\n",
    "\n",
    "for text in quora.question_text:\n",
    "    vocab.update(text_to_char(text))"
   ]
  },
  {
   "cell_type": "code",
   "execution_count": 7,
   "metadata": {},
   "outputs": [
    {
     "data": {
      "text/plain": [
       "2047"
      ]
     },
     "execution_count": 7,
     "metadata": {},
     "output_type": "execute_result"
    }
   ],
   "source": [
    "len(vocab)"
   ]
  },
  {
   "cell_type": "code",
   "execution_count": 10,
   "metadata": {},
   "outputs": [],
   "source": [
    "filtered_vocab = set()\n",
    "\n",
    "for char in vocab:\n",
    "    if vocab[char] > 5:\n",
    "        filtered_vocab.add(char)"
   ]
  },
  {
   "cell_type": "code",
   "execution_count": 9,
   "metadata": {},
   "outputs": [
    {
     "data": {
      "text/plain": [
       "447"
      ]
     },
     "execution_count": 9,
     "metadata": {},
     "output_type": "execute_result"
    }
   ],
   "source": [
    "len(filtered_vocab)"
   ]
  },
  {
   "cell_type": "code",
   "execution_count": 12,
   "metadata": {},
   "outputs": [],
   "source": [
    "char2id = {'UNK':1, 'PAD':0}"
   ]
  },
  {
   "cell_type": "code",
   "execution_count": 13,
   "metadata": {},
   "outputs": [],
   "source": [
    "for char in filtered_vocab:\n",
    "    char2id[char] = len(char2id)"
   ]
  },
  {
   "cell_type": "code",
   "execution_count": 15,
   "metadata": {},
   "outputs": [],
   "source": [
    "id2char = {i:char for char, i in char2id.items()}"
   ]
  },
  {
   "cell_type": "code",
   "execution_count": 16,
   "metadata": {},
   "outputs": [],
   "source": [
    "X = []\n",
    "\n",
    "for text in quora.question_text:\n",
    "    chars = text_to_char(text)\n",
    "    ids = [char2id.get(char, 1) for char in chars]\n",
    "    X.append(ids)"
   ]
  },
  {
   "cell_type": "code",
   "execution_count": 19,
   "metadata": {},
   "outputs": [],
   "source": [
    "X = tf.keras.preprocessing.sequence.pad_sequences(X, maxlen=100)"
   ]
  },
  {
   "cell_type": "code",
   "execution_count": 20,
   "metadata": {},
   "outputs": [],
   "source": [
    "y = quora.target.values"
   ]
  },
  {
   "cell_type": "code",
   "execution_count": 21,
   "metadata": {},
   "outputs": [
    {
     "data": {
      "text/plain": [
       "array([0, 0, 0, ..., 0, 0, 0])"
      ]
     },
     "execution_count": 21,
     "metadata": {},
     "output_type": "execute_result"
    }
   ],
   "source": [
    "y"
   ]
  },
  {
   "cell_type": "code",
   "execution_count": 22,
   "metadata": {},
   "outputs": [],
   "source": [
    "X_train, X_valid, y_train, y_valid = train_test_split(X, y, test_size=0.05, stratify=y)"
   ]
  },
  {
   "cell_type": "code",
   "execution_count": 45,
   "metadata": {},
   "outputs": [],
   "source": [
    "inputs = tf.keras.layers.Input(shape=(100))\n",
    "embeddings = tf.keras.layers.Embedding(input_dim=len(char2id), output_dim=40)(inputs)\n",
    "\n",
    "conv_1 = tf.keras.layers.Conv1D(kernel_size=5, filters=10, strides=2)(embeddings)\n",
    "conv_2 = tf.keras.layers.Conv1D(kernel_size=5, filters=20, strides=2)(conv_1)\n",
    "pool_1 = tf.keras.layers.AveragePooling1D()(conv_2)\n",
    "drop_1 = tf.keras.layers.Dropout(0.1)(pool_1)\n",
    "conv_3 = tf.keras.layers.Conv1D(kernel_size=5, filters=30, strides=2)(drop_1)\n",
    "pool_2 = tf.keras.layers.AveragePooling1D()(conv_3)\n",
    "drop_2 = tf.keras.layers.Dropout(0.1)(pool_2)\n",
    "\n",
    "concat = tf.keras.layers.Flatten()(drop_1)\n",
    "dense = tf.keras.layers.Dense(64, activation='relu')(concat)\n",
    "outputs = tf.keras.layers.Dense(1, activation='sigmoid')(dense)\n",
    "\n",
    "model = tf.keras.Model(inputs=inputs, outputs=outputs)\n",
    "optimizer = tf.keras.optimizers.Adam(learning_rate=0.001)\n",
    "model.compile(optimizer=optimizer,\n",
    "              loss='binary_crossentropy',\n",
    "              metrics=[f1])"
   ]
  },
  {
   "cell_type": "code",
   "execution_count": 46,
   "metadata": {},
   "outputs": [
    {
     "name": "stdout",
     "output_type": "stream",
     "text": [
      "Train on 1240815 samples, validate on 65307 samples\n",
      "Epoch 1/10\n",
      "1240815/1240815 [==============================] - 65s 52us/sample - loss: 0.2225 - f1: 0.0074 - val_loss: 0.2052 - val_f1: 0.0143\n",
      "Epoch 2/10\n",
      "1240815/1240815 [==============================] - 59s 48us/sample - loss: 0.2009 - f1: 0.0105 - val_loss: 0.1986 - val_f1: 0.0101\n",
      "Epoch 3/10\n",
      "1240815/1240815 [==============================] - 61s 49us/sample - loss: 0.1948 - f1: 0.0241 - val_loss: 0.1976 - val_f1: 0.0160\n",
      "Epoch 4/10\n",
      "1240815/1240815 [==============================] - 56s 45us/sample - loss: 0.1913 - f1: 0.0378 - val_loss: 0.1913 - val_f1: 0.0560\n",
      "Epoch 5/10\n",
      "1240815/1240815 [==============================] - 61s 49us/sample - loss: 0.1882 - f1: 0.0582 - val_loss: 0.1885 - val_f1: 0.0637\n",
      "Epoch 6/10\n",
      "1240815/1240815 [==============================] - 62s 50us/sample - loss: 0.1863 - f1: 0.0746 - val_loss: 0.1877 - val_f1: 0.0544\n",
      "Epoch 7/10\n",
      "1240815/1240815 [==============================] - 62s 50us/sample - loss: 0.1852 - f1: 0.0822 - val_loss: 0.1868 - val_f1: 0.0614\n",
      "Epoch 8/10\n",
      "1240815/1240815 [==============================] - 62s 50us/sample - loss: 0.1842 - f1: 0.0917 - val_loss: 0.1853 - val_f1: 0.0886\n",
      "Epoch 9/10\n",
      "1240815/1240815 [==============================] - 63s 51us/sample - loss: 0.1833 - f1: 0.0995 - val_loss: 0.1846 - val_f1: 0.0769\n",
      "Epoch 10/10\n",
      "1240815/1240815 [==============================] - 63s 51us/sample - loss: 0.1823 - f1: 0.1089 - val_loss: 0.1848 - val_f1: 0.0694\n"
     ]
    },
    {
     "data": {
      "text/plain": [
       "<tensorflow.python.keras.callbacks.History at 0x143ef2ad0>"
      ]
     },
     "execution_count": 46,
     "metadata": {},
     "output_type": "execute_result"
    }
   ],
   "source": [
    "model.fit(X_train, y_train, \n",
    "          validation_data=(X_valid, y_valid),\n",
    "          batch_size=3000,\n",
    "         epochs=10)"
   ]
  },
  {
   "cell_type": "code",
   "execution_count": 47,
   "metadata": {},
   "outputs": [
    {
     "name": "stdout",
     "output_type": "stream",
     "text": [
      "dict_keys(['loss', 'f1', 'val_loss', 'val_f1'])\n"
     ]
    },
    {
     "data": {
      "image/png": "[encoded data removed]",
      "text/plain": [
       "<Figure size 432x288 with 1 Axes>"
      ]
     },
     "metadata": {
      "needs_background": "light"
     },
     "output_type": "display_data"
    }
   ],
   "source": [
    "print(model.history.history.keys())\n",
    "plt.plot(model.history.history['f1'])\n",
    "plt.plot(model.history.history['val_f1'])\n",
    "plt.title('model f1')\n",
    "plt.ylabel('f1')\n",
    "plt.xlabel('epoch')\n",
    "plt.legend(['train', 'val'], loc='upper left')\n",
    "\n",
    "plt.show()"
   ]
  },
  {
   "cell_type": "code",
   "execution_count": 48,
   "metadata": {},
   "outputs": [],
   "source": [
    "preds = model.predict(X_valid).reshape(-1)"
   ]
  },
  {
   "cell_type": "code",
   "execution_count": 51,
   "metadata": {},
   "outputs": [
    {
     "name": "stdout",
     "output_type": "stream",
     "text": [
      "              precision    recall  f1-score   support\n",
      "\n",
      "           0       0.94      1.00      0.97     61266\n",
      "           1       0.55      0.04      0.07      4041\n",
      "\n",
      "    accuracy                           0.94     65307\n",
      "   macro avg       0.74      0.52      0.52     65307\n",
      "weighted avg       0.92      0.94      0.91     65307\n",
      "\n"
     ]
    }
   ],
   "source": [
    "print(classification_report(y_valid, (preds > 0.5).astype(int)))"
   ]
  },
  {
   "cell_type": "code",
   "execution_count": 61,
   "metadata": {},
   "outputs": [],
   "source": [
    "inputs = tf.keras.layers.Input(shape=(100))\n",
    "embeddings = tf.keras.layers.Embedding(input_dim=len(char2id), output_dim=40)(inputs)\n",
    "\n",
    "conv_1 = tf.keras.layers.Conv1D(kernel_size=10, filters=10, strides=1)(embeddings)\n",
    "conv_2 = tf.keras.layers.Conv1D(kernel_size=10, filters=20, strides=1)(conv_1)\n",
    "pool_1 = tf.keras.layers.AveragePooling1D()(conv_2)\n",
    "drop_1 = tf.keras.layers.Dropout(0.1)(pool_1)\n",
    "conv_3 = tf.keras.layers.Conv1D(kernel_size=10, filters=30, strides=1)(drop_1)\n",
    "pool_2 = tf.keras.layers.AveragePooling1D()(conv_3)\n",
    "drop_2 = tf.keras.layers.Dropout(0.1)(pool_2)\n",
    "conv_4 = tf.keras.layers.Conv1D(kernel_size=10, filters=40, strides=1)(drop_2)\n",
    "conv_5 = tf.keras.layers.Conv1D(kernel_size=1, filters=40, strides=1)(conv_4)\n",
    "pool_3 = tf.keras.layers.AveragePooling1D()(conv_5)\n",
    "drop_3 = tf.keras.layers.Dropout(0.1)(pool_3)\n",
    "conv_6 = tf.keras.layers.Conv1D(kernel_size=1, filters=40, strides=1)(drop_3)\n",
    "conv_7 = tf.keras.layers.Conv1D(kernel_size=1, filters=40, strides=1)(conv_6)\n",
    "pool_4 = tf.keras.layers.AveragePooling1D()(conv_7)\n",
    "drop_4 = tf.keras.layers.Dropout(0.1)(pool_4)\n",
    "\n",
    "\n",
    "concat = tf.keras.layers.Flatten()(drop_1)\n",
    "dense_1 = tf.keras.layers.Dense(64, activation='relu')(concat)\n",
    "dense_2 = tf.keras.layers.Dense(64, activation='relu')(dense_1)\n",
    "outputs = tf.keras.layers.Dense(1, activation='sigmoid')(dense_2)\n",
    "\n",
    "model = tf.keras.Model(inputs=inputs, outputs=outputs)\n",
    "optimizer = tf.keras.optimizers.Adam(learning_rate=0.001)\n",
    "model.compile(optimizer=optimizer,\n",
    "              loss='binary_crossentropy',\n",
    "              metrics=[f1])"
   ]
  },
  {
   "cell_type": "code",
   "execution_count": 62,
   "metadata": {},
   "outputs": [
    {
     "name": "stdout",
     "output_type": "stream",
     "text": [
      "Train on 1240815 samples, validate on 65307 samples\n",
      "Epoch 1/15\n",
      "1240815/1240815 [==============================] - 155s 125us/sample - loss: 0.2163 - f1: 5.0653e-04 - val_loss: 0.2000 - val_f1: 0.0000e+00\n",
      "Epoch 2/15\n",
      "1240815/1240815 [==============================] - 155s 125us/sample - loss: 0.1917 - f1: 0.0063 - val_loss: 0.1904 - val_f1: 0.0101\n",
      "Epoch 3/15\n",
      "1240815/1240815 [==============================] - 159s 128us/sample - loss: 0.1858 - f1: 0.0204 - val_loss: 0.1869 - val_f1: 0.0349\n",
      "Epoch 4/15\n",
      "1240815/1240815 [==============================] - 160s 129us/sample - loss: 0.1826 - f1: 0.0433 - val_loss: 0.1845 - val_f1: 0.0485\n",
      "Epoch 5/15\n",
      "1240815/1240815 [==============================] - 166s 134us/sample - loss: 0.1805 - f1: 0.0693 - val_loss: 0.1828 - val_f1: 0.0756\n",
      "Epoch 6/15\n",
      "1240815/1240815 [==============================] - 166s 134us/sample - loss: 0.1782 - f1: 0.0960 - val_loss: 0.1804 - val_f1: 0.1069\n",
      "Epoch 7/15\n",
      "1240815/1240815 [==============================] - 170s 137us/sample - loss: 0.1759 - f1: 0.1223 - val_loss: 0.1805 - val_f1: 0.1428\n",
      "Epoch 8/15\n",
      "1240815/1240815 [==============================] - 169s 136us/sample - loss: 0.1737 - f1: 0.1475 - val_loss: 0.1772 - val_f1: 0.1375\n",
      "Epoch 9/15\n",
      "1240815/1240815 [==============================] - 171s 138us/sample - loss: 0.1721 - f1: 0.1661 - val_loss: 0.1768 - val_f1: 0.1507\n",
      "Epoch 10/15\n",
      "1240815/1240815 [==============================] - 169s 136us/sample - loss: 0.1704 - f1: 0.1802 - val_loss: 0.1757 - val_f1: 0.2071\n",
      "Epoch 11/15\n",
      "1240815/1240815 [==============================] - 166s 134us/sample - loss: 0.1691 - f1: 0.1947 - val_loss: 0.1743 - val_f1: 0.1651\n",
      "Epoch 12/15\n",
      "1240815/1240815 [==============================] - 154s 124us/sample - loss: 0.1677 - f1: 0.2077 - val_loss: 0.1751 - val_f1: 0.2148\n",
      "Epoch 13/15\n",
      "1240815/1240815 [==============================] - 152s 123us/sample - loss: 0.1665 - f1: 0.2225 - val_loss: 0.1741 - val_f1: 0.2099\n",
      "Epoch 14/15\n",
      "1240815/1240815 [==============================] - 153s 123us/sample - loss: 0.1653 - f1: 0.2336 - val_loss: 0.1743 - val_f1: 0.1806\n",
      "Epoch 15/15\n",
      "1240815/1240815 [==============================] - 159s 128us/sample - loss: 0.1643 - f1: 0.2408 - val_loss: 0.1739 - val_f1: 0.1908\n"
     ]
    },
    {
     "data": {
      "text/plain": [
       "<tensorflow.python.keras.callbacks.History at 0x14449f510>"
      ]
     },
     "execution_count": 62,
     "metadata": {},
     "output_type": "execute_result"
    }
   ],
   "source": [
    "model.fit(X_train, y_train, \n",
    "          validation_data=(X_valid, y_valid),\n",
    "          batch_size=3000,\n",
    "         epochs=15)"
   ]
  },
  {
   "cell_type": "code",
   "execution_count": 63,
   "metadata": {},
   "outputs": [
    {
     "name": "stdout",
     "output_type": "stream",
     "text": [
      "dict_keys(['loss', 'f1', 'val_loss', 'val_f1'])\n"
     ]
    },
    {
     "data": {
      "image/png": "[encoded data removed]",
      "text/plain": [
       "<Figure size 432x288 with 1 Axes>"
      ]
     },
     "metadata": {
      "needs_background": "light"
     },
     "output_type": "display_data"
    }
   ],
   "source": [
    "print(model.history.history.keys())\n",
    "plt.plot(model.history.history['f1'])\n",
    "plt.plot(model.history.history['val_f1'])\n",
    "plt.title('model f1')\n",
    "plt.ylabel('f1')\n",
    "plt.xlabel('epoch')\n",
    "plt.legend(['train', 'val'], loc='upper left')\n",
    "\n",
    "plt.show()"
   ]
  },
  {
   "cell_type": "code",
   "execution_count": 64,
   "metadata": {},
   "outputs": [],
   "source": [
    "preds = model.predict(X_valid).reshape(-1)"
   ]
  },
  {
   "cell_type": "code",
   "execution_count": 65,
   "metadata": {},
   "outputs": [
    {
     "name": "stdout",
     "output_type": "stream",
     "text": [
      "              precision    recall  f1-score   support\n",
      "\n",
      "           0       0.94      0.99      0.97     61266\n",
      "           1       0.57      0.12      0.19      4041\n",
      "\n",
      "    accuracy                           0.94     65307\n",
      "   macro avg       0.76      0.55      0.58     65307\n",
      "weighted avg       0.92      0.94      0.92     65307\n",
      "\n"
     ]
    }
   ],
   "source": [
    "print(classification_report(y_valid, (preds > 0.5).astype(int)))"
   ]
  }
 ],
 "metadata": {
  "kernelspec": {
   "display_name": "Python 3",
   "language": "python",
   "name": "python3"
  },
  "language_info": {
   "codemirror_mode": {
    "name": "ipython",
    "version": 3
   },
   "file_extension": ".py",
   "mimetype": "text/x-python",
   "name": "python",
   "nbconvert_exporter": "python",
   "pygments_lexer": "ipython3",
   "version": "3.7.4"
  }
 },
 "nbformat": 4,
 "nbformat_minor": 2
}
